{
 "cells": [
  {
   "attachments": {},
   "cell_type": "markdown",
   "metadata": {},
   "source": [
    "In a group of persons, what is the chance that some two have the same birthday? Assume birthday of a person is uniformly distributed in{1, 2,…, 365}\n",
    " and is independent of all other birthdays. Most people will think that you need at least 100 persons before you start seeing\n",
    "same birthdays. However, surprisingly perhaps, even with 23 persons there is a 50% chance of two sharing a birthday.\n",
    "Event :A some two have same birthday\n",
    "Event :A^c no two have same birthday\n",
    "A^c=(Birthday 1 on any date B1) and (Birthday 2 on any date other thanB2 ) and (Birthday 3 on any date other than , ) and ... and\n",
    "(Birthday n on any day other than Bn)\n",
    "P(A^c ) = 1 ⋅ (1-1/365 ) (1-2/365)⋯(1-(n-1)/365 )\n",
    "If , what is the chance? If , what is the chance?\n",
    "We will do a Monte Carlo simulation to estimate the probability and compare with the calculation above.\n"
   ]
  },
  {
   "cell_type": "code",
   "execution_count": 4,
   "metadata": {},
   "outputs": [
    {
     "name": "stdout",
     "output_type": "stream",
     "text": [
      "Probablity :  0.988\n"
     ]
    }
   ],
   "source": [
    "no = 0  # variable for storing number of event occurence\n",
    "n = 60  # number of persons\n",
    "\n",
    "import numpy as np\n",
    "import random\n",
    "\n",
    "# print(1 - np.prod(1-np.arange(1,n)/365)) #probability from expression\n",
    "for i in range(1000):\n",
    "    birthdayseen = []  # array to keep track of birthdays seen\n",
    "    for probability in range(n):  # generate birthdays for each person\n",
    "        date = random.randint(1, 365)\n",
    "        if date not in birthdayseen:  # i-th birthday\n",
    "            birthdayseen.append(date)\n",
    "        else:  # if it is seen for the first time\n",
    "            no = no + 1\n",
    "            break\n",
    "print(\"Probablity : \", no / 1000)\n"
   ]
  }
 ],
 "metadata": {
  "kernelspec": {
   "display_name": "base",
   "language": "python",
   "name": "python3"
  },
  "language_info": {
   "codemirror_mode": {
    "name": "ipython",
    "version": 3
   },
   "file_extension": ".py",
   "mimetype": "text/x-python",
   "name": "python",
   "nbconvert_exporter": "python",
   "pygments_lexer": "ipython3",
   "version": "3.9.12 (main, Apr  4 2022, 05:22:27) [MSC v.1916 64 bit (AMD64)]"
  },
  "orig_nbformat": 4,
  "vscode": {
   "interpreter": {
    "hash": "2043299c89c8cd0b4d1a6f5cf4529bd58e6a4e0fe3181a25e0d328c821cdc5c5"
   }
  }
 },
 "nbformat": 4,
 "nbformat_minor": 2
}
