{
  "cells": [
    {
      "cell_type": "markdown",
      "metadata": {
        "id": "view-in-github",
        "colab_type": "text"
      },
      "source": [
        "<a href=\"https://colab.research.google.com/github/tejaschaudhari192/Python/blob/master/math_ta3_UK_group.ipynb\" target=\"_parent\"><img src=\"https://colab.research.google.com/assets/colab-badge.svg\" alt=\"Open In Colab\"/></a>"
      ]
    },
    {
      "cell_type": "markdown",
      "source": [
        "#Matrix Operations"
      ],
      "metadata": {
        "id": "Xsb_47f4WFYi"
      }
    },
    {
      "cell_type": "markdown",
      "metadata": {
        "id": "Wi9dKPA_jUwo"
      },
      "source": [
        "#Matrix operation(Addition, Substraction, Multiplication, Transpose)\n",
        "\n"
      ]
    },
    {
      "cell_type": "code",
      "execution_count": 7,
      "metadata": {
        "colab": {
          "base_uri": "https://localhost:8080/"
        },
        "id": "T5x0HdvzGNDi",
        "outputId": "22288fce-04c8-42dc-946c-9a9ddc0a412c"
      },
      "outputs": [
        {
          "output_type": "stream",
          "name": "stdout",
          "text": [
            "\n",
            "\n",
            "Exiting the Program .....\n"
          ]
        }
      ],
      "source": [
        "# Date : 10/12/2022\n",
        "\n",
        "from IPython.display import clear_output\n",
        "\n",
        "def MakeMatrix(rows, colms):\n",
        "    \"\"\"pass dimentions to make 2D matrix\"\"\"\n",
        "    Mat = []\n",
        "    for r in range(rows):\n",
        "        r = []\n",
        "        for i in range(colms):\n",
        "            r.append(int(input()))\n",
        "        Mat.append(r)\n",
        "    return Mat\n",
        "\n",
        "def PrintMatrix(m):\n",
        "    \"\"\"Print matrix in pretty format\n",
        "    arguments := list variable\"\"\"\n",
        "    for i in m:\n",
        "        print(i)\n",
        "\n",
        "def MatAddSub(A, B, op):\n",
        "    \"\"\"Function to Add Matrix\n",
        "    arguments := rows and colums of both matrix\"\"\"\n",
        "    c = []\n",
        "    for i in range(len(A)):\n",
        "        r = []\n",
        "        for j in range(len(A[0])):\n",
        "            if op is 1:\n",
        "                r.append(A[i][j] + B[i][j])\n",
        "            else:\n",
        "                r.append(A[i][j] - B[i][j])\n",
        "        c.append(r)\n",
        "\n",
        "    print(\"\\n[A] + [B] =\\n\")\n",
        "    PrintMatrix(c)\n",
        "\n",
        "\n",
        "def MatMult(A, B):\n",
        "    \"\"\"Function to multiply Matrix\n",
        "    arguments := rows and colums of both matrix\"\"\"\n",
        "    d = []\n",
        "    for c in range(len(A)):\n",
        "        x = []\n",
        "        for r in range(len(A[0])):\n",
        "            e = 0\n",
        "            for k in range(colm_a):\n",
        "                e += A[c][k] * B[k][r]\n",
        "            x.append(e)\n",
        "        d.append(x)\n",
        "\n",
        "    print(\"\\n[A] x [B] =\\n\")\n",
        "    PrintMatrix(d)\n",
        "\n",
        "def Transpose(Mat):\n",
        "    print(\"Your matrix : \")\n",
        "    PrintMatrix(Mat)\n",
        "\n",
        "    Mat_t = []\n",
        "    for i in range(len(Mat[0])):\n",
        "        row = []\n",
        "        for j in range(len(Mat)):\n",
        "            row.append(0)\n",
        "        Mat_t.append(row)\n",
        "\n",
        "    for i in range(len(Mat)):\n",
        "        row = []\n",
        "        for j in range(len(Mat[0])):\n",
        "            Mat_t[j][i] = Mat[i][j]\n",
        "\n",
        "    print(\"Transpose of matrix :\")\n",
        "    PrintMatrix(Mat_t)\n",
        "\n",
        "menu = True\n",
        "while menu is True:\n",
        "    clear_output()\n",
        "    flag = 0\n",
        "    print(\"Enter matrices :\")\n",
        "    # Matrix [A]\n",
        "    print(f\"Enter Dimentions of matrix [A] : \")\n",
        "    row_a = int(input(\"Enter rows of first matrix : \"))\n",
        "    colm_a = int(input(\"Enter columns of first matrix : \"))\n",
        "    print(\"Enter elements : \")\n",
        "    A = MakeMatrix(row_a, colm_a)\n",
        "    print(\"\\n[A] =\")\n",
        "    PrintMatrix(A)\n",
        "\n",
        "    # Matrix [B]\n",
        "    print(\"\\nEnter elements of matrix [B] : \")\n",
        "    row_b = int(input(\"Enter rows of second matrix : \"))\n",
        "    colm_b = int(input(\"Enter columns of second matrix : \"))\n",
        "    print(\"Enter elements : \")\n",
        "    B = MakeMatrix(row_b, colm_b)\n",
        "    print(\"\\n[B] =\")\n",
        "    PrintMatrix(B)\n",
        "\n",
        "    press = input(\"Enter any key to continue...\")\n",
        "    back = False\n",
        "    while back is False:\n",
        "        clear_output()\n",
        "        print(\"\\n\\tMatrix operations\")\n",
        "        print(\"\\n1. Addition of two matrices\")\n",
        "        print(\"2. Subtraction of two matrices\")\n",
        "        print(\"3. Multiplication of two matrices\")\n",
        "        print(\"4. Transpose of a matrix\")\n",
        "        print(\"5. Exit\")\n",
        "        button = int(input(\"Enter choice : \"))\n",
        "        if button not in range(1, 5):\n",
        "            print(\"Wrong input\")\n",
        "            flag = 1\n",
        "\n",
        "        # Dimentions check\n",
        "        if button is 1 or button is 2:\n",
        "            if row_a is not row_b or colm_a is not colm_b:\n",
        "                print(\"\\n\\tDimention Error !!\")\n",
        "                flag = 2\n",
        "        elif button is 3:\n",
        "            if row_a is not colm_b:\n",
        "                print(\"\\n\\tDimention Error !!\")\n",
        "                flag = 2\n",
        "\n",
        "        # Operations\n",
        "        if flag is not 2:\n",
        "            if button is 1:\n",
        "                MatAddSub(A, B, 1)\n",
        "            elif button is 2:\n",
        "                MatAddSub(A, B, 2)\n",
        "            elif button is 3:\n",
        "                MatMult(A, B)\n",
        "            elif button is 4:\n",
        "                ch = input(\"Enter a or b to get transpose of [A] [B]\").lower()\n",
        "                if ch == \"a\":\n",
        "                    Transpose(A)\n",
        "                elif ch == \"b\":\n",
        "                    Transpose(B)\n",
        "                else:\n",
        "                    print(\"wrong input\")\n",
        "            elif button is 5:\n",
        "                exit()\n",
        "        flag = 0\n",
        "        askb = input(\"\\n\\nPerform another operation on same matrices ? y/n...\")\n",
        "        if askb is \"y\":\n",
        "            back = False\n",
        "        else:\n",
        "            back = True\n",
        "    flag = 0\n",
        "    ask = input(\"\\n\\nEnter new matrices ? y/n...\")\n",
        "    if ask == \"y\":\n",
        "        menu = True\n",
        "    else:\n",
        "        menu = False\n",
        "\n",
        "clear_output()\n",
        "print(\"\\n\\nExiting the Program .....\")"
      ]
    },
    {
      "cell_type": "markdown",
      "source": [
        "#Function for uniform outcome"
      ],
      "metadata": {
        "id": "fldK6K2aWhpo"
      }
    },
    {
      "cell_type": "code",
      "execution_count": 9,
      "metadata": {
        "id": "C3RZ5EMaOMIa"
      },
      "outputs": [],
      "source": [
        "#uniform funtion\n",
        "import numpy as np\n",
        "\n",
        "def uniform(n,m):\n",
        "    '''m = no of outcomes\n",
        "    n = no of samples'''\n",
        "    return np.random.randint(1,n+1,m)"
      ]
    },
    {
      "cell_type": "markdown",
      "metadata": {
        "id": "oX-SgobGj8Ga"
      },
      "source": [
        "# Probability of die showing a number"
      ]
    },
    {
      "cell_type": "code",
      "execution_count": 10,
      "metadata": {
        "colab": {
          "base_uri": "https://localhost:8080/"
        },
        "id": "yj7RsTtxjsaM",
        "outputId": "65eaeff4-0933-433d-8490-6b4634e62495"
      },
      "outputs": [
        {
          "output_type": "stream",
          "name": "stdout",
          "text": [
            "Na = 1\n",
            "N = 6\n",
            "P = (Na/N)\n",
            "Probablity using Formula = 0.1667\n",
            "\n",
            "Probablity using monto carlo : 0.162\n"
          ]
        }
      ],
      "source": [
        "# Date : 16/12/2022\n",
        "\n",
        "print('Na = 1\\nN = 6\\nP = (Na/N)')\n",
        "print(f'Probablity using Formula = {round(1/6,4)}')\n",
        "no = 0; \n",
        "for i in range(10000):\n",
        "    die = uniform(6,1);\n",
        "    if die == 1:\n",
        "        no += 1;\n",
        "print('\\nProbablity using monto carlo :',no /10000)"
      ]
    },
    {
      "cell_type": "markdown",
      "metadata": {
        "id": "CSuj2uYdQIBL"
      },
      "source": [
        "#Estimating probability by simulation - Monte Carlo"
      ]
    },
    {
      "cell_type": "code",
      "execution_count": 11,
      "metadata": {
        "colab": {
          "base_uri": "https://localhost:8080/"
        },
        "id": "jGmBElDoG4m7",
        "outputId": "97772f25-b9fd-474f-c35f-7a264e0b649e"
      },
      "outputs": [
        {
          "output_type": "stream",
          "name": "stdout",
          "text": [
            "Na = 1\n",
            "N = 2\n",
            "P = (Na/N)\n",
            "Probablity using Formula  = 0.5\n",
            "\n",
            "Probablity using monto carlo : 0.54\n"
          ]
        }
      ],
      "source": [
        "# Date : 16/12/2022\n",
        "\n",
        "print('Na = 1\\nN = 2\\nP = (Na/N)')\n",
        "print(f'Probablity using Formula  = {round(1/2,3)}')\n",
        "\n",
        "no = 0; \n",
        "for i in range(1000):\n",
        "    coin = uniform(2,1);\n",
        "    if coin == 1:\n",
        "        no += 1;\n",
        "print('\\nProbablity using monto carlo :',no/1000)"
      ]
    },
    {
      "cell_type": "markdown",
      "metadata": {
        "id": "gqJiskZNm-0R"
      },
      "source": [
        "#Morto Carlo simulation"
      ]
    },
    {
      "cell_type": "code",
      "execution_count": 14,
      "metadata": {
        "colab": {
          "base_uri": "https://localhost:8080/"
        },
        "id": "KyeoZoCMkkex",
        "outputId": "a8e550c4-2617-4829-eabd-e371926621fe"
      },
      "outputs": [
        {
          "output_type": "stream",
          "name": "stdout",
          "text": [
            "Probablity by using formula = 0.5\n",
            "Probablity using monto carlo = 0.501\n"
          ]
        }
      ],
      "source": [
        "# Date : 16/12/2022\n",
        "\n",
        "no = 0\n",
        "k = 5\n",
        "N = 10\n",
        "print('Probablity by using formula =',1-k/N)\n",
        "\n",
        "for i in range(1000):\n",
        "    k = 5\n",
        "    while k > 0 and k < N:\n",
        "        bet = uniform(2,1)\n",
        "        if bet == 1:\n",
        "            k += 1\n",
        "        else:\n",
        "            k -= 1\n",
        "        if k == 0:\n",
        "            no += 1\n",
        "print('Probablity using monto carlo =',no / 1000)"
      ]
    }
  ],
  "metadata": {
    "colab": {
      "provenance": [],
      "authorship_tag": "ABX9TyPQOlOs0b6auWglZVcXIUEx",
      "include_colab_link": true
    },
    "kernelspec": {
      "display_name": "Python 3",
      "name": "python3"
    },
    "language_info": {
      "name": "python"
    }
  },
  "nbformat": 4,
  "nbformat_minor": 0
}