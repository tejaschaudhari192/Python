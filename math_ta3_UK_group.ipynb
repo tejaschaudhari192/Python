{
  "cells": [
    {
      "cell_type": "markdown",
      "metadata": {
        "id": "view-in-github",
        "colab_type": "text"
      },
      "source": [
        "<a href=\"https://colab.research.google.com/github/tejaschaudhari192/Python/blob/master/math_ta3_UK_group.ipynb\" target=\"_parent\"><img src=\"https://colab.research.google.com/assets/colab-badge.svg\" alt=\"Open In Colab\"/></a>"
      ]
    },
    {
      "cell_type": "markdown",
      "source": [
        "#Team info\n",
        "1. 36_211106038_Rajput Prajwal Premsingh\n",
        "2. 37_211106039_Jain Khushal Narendra\n",
        "3. 38_211106040_Patil Uday Sudhakar\n",
        "4. 39_211106041_More Mohit Mangolal\n",
        "5. 40_211106042_Chaudhari Tejas Vijay"
      ],
      "metadata": {
        "id": "QWnXWICYLOoH"
      }
    },
    {
      "cell_type": "markdown",
      "source": [
        "#Matrix Operations"
      ],
      "metadata": {
        "id": "Xsb_47f4WFYi"
      }
    },
    {
      "cell_type": "markdown",
      "metadata": {
        "id": "Wi9dKPA_jUwo"
      },
      "source": [
        "Write a code for matrix operation(Addition, Substraction, Multiplication, Transpose)without using numpy and scipy libraries\n",
        "\n"
      ]
    },
    {
      "cell_type": "code",
      "execution_count": 21,
      "metadata": {
        "colab": {
          "base_uri": "https://localhost:8080/"
        },
        "id": "T5x0HdvzGNDi",
        "outputId": "4b62f1b3-3dbf-493f-ba20-866591300796"
      },
      "outputs": [
        {
          "output_type": "stream",
          "name": "stdout",
          "text": [
            "\n",
            "\n",
            "Exiting the Program .....\n"
          ]
        }
      ],
      "source": [
        "# Date : 10/12/2022\n",
        "\n",
        "from IPython.display import clear_output\n",
        "\n",
        "def MakeMatrix(rows, colms):\n",
        "    \"\"\"pass dimentions to make 2D matrix\"\"\"\n",
        "    Mat = []\n",
        "    for r in range(rows):\n",
        "        r = []\n",
        "        for i in range(colms):\n",
        "            r.append(int(input()))\n",
        "        Mat.append(r)\n",
        "    return Mat\n",
        "\n",
        "def PrintMatrix(m):\n",
        "    \"\"\"Print matrix in pretty format\n",
        "    arguments := list variable\"\"\"\n",
        "    for i in m:\n",
        "        print(i)\n",
        "\n",
        "def MatAddSub(A, B, op):\n",
        "    \"\"\"Function to Add Matrix\n",
        "    arguments := rows and colums of both matrix\"\"\"\n",
        "    c = []\n",
        "    for i in range(len(A)):\n",
        "        r = []\n",
        "        for j in range(len(A[0])):\n",
        "            if op is 1:\n",
        "                r.append(A[i][j] + B[i][j])\n",
        "            else:\n",
        "                r.append(A[i][j] - B[i][j])\n",
        "        c.append(r)\n",
        "\n",
        "    print(\"\\n[A] + [B] =\\n\")\n",
        "    PrintMatrix(c)\n",
        "\n",
        "\n",
        "def MatMult(A, B):\n",
        "    \"\"\"Function to multiply Matrix\n",
        "    arguments := rows and colums of both matrix\"\"\"\n",
        "    d = []\n",
        "    for c in range(len(A)):\n",
        "        x = []\n",
        "        for r in range(len(A[0])):\n",
        "            e = 0\n",
        "            for k in range(colm_a):\n",
        "                e += A[c][k] * B[k][r]\n",
        "            x.append(e)\n",
        "        d.append(x)\n",
        "\n",
        "    print(\"\\n[A] x [B] =\\n\")\n",
        "    PrintMatrix(d)\n",
        "\n",
        "def Transpose(Mat):\n",
        "    print(\"Your matrix : \")\n",
        "    PrintMatrix(Mat)\n",
        "\n",
        "    Mat_t = []\n",
        "    for i in range(len(Mat[0])):\n",
        "        row = []\n",
        "        for j in range(len(Mat)):\n",
        "            row.append(0)\n",
        "        Mat_t.append(row)\n",
        "\n",
        "    for i in range(len(Mat)):\n",
        "        row = []\n",
        "        for j in range(len(Mat[0])):\n",
        "            Mat_t[j][i] = Mat[i][j]\n",
        "\n",
        "    print(\"Transpose of matrix :\")\n",
        "    PrintMatrix(Mat_t)\n",
        "\n",
        "menu = True\n",
        "while menu is True:\n",
        "    clear_output()\n",
        "    flag = 0\n",
        "    print(\"Enter matrices :\")\n",
        "    # Matrix [A]\n",
        "    print(f\"Enter Dimentions of matrix [A] : \")\n",
        "    row_a = int(input(\"Enter rows of first matrix : \"))\n",
        "    colm_a = int(input(\"Enter columns of first matrix : \"))\n",
        "    print(\"Enter elements : \")\n",
        "    A = MakeMatrix(row_a, colm_a)\n",
        "    print(\"\\n[A] =\")\n",
        "    PrintMatrix(A)\n",
        "\n",
        "    # Matrix [B]\n",
        "    print(\"\\nEnter elements of matrix [B] : \")\n",
        "    row_b = int(input(\"Enter rows of second matrix : \"))\n",
        "    colm_b = int(input(\"Enter columns of second matrix : \"))\n",
        "    print(\"Enter elements : \")\n",
        "    B = MakeMatrix(row_b, colm_b)\n",
        "    print(\"\\n[B] =\")\n",
        "    PrintMatrix(B)\n",
        "\n",
        "    press = input(\"Enter any key to continue...\")\n",
        "    back = False\n",
        "    while back is False:\n",
        "        clear_output()\n",
        "        print(\"\\n\\tMatrix operations\")\n",
        "        print(\"\\n1. Addition of two matrices\")\n",
        "        print(\"2. Subtraction of two matrices\")\n",
        "        print(\"3. Multiplication of two matrices\")\n",
        "        print(\"4. Transpose of a matrix\")\n",
        "        print(\"5. Exit\")\n",
        "        button = int(input(\"Enter choice : \"))\n",
        "        if button not in range(1, 5):\n",
        "            print(\"Wrong input\")\n",
        "            flag = 1\n",
        "\n",
        "        # Dimentions check\n",
        "        if button is 1 or button is 2:\n",
        "            if row_a is not row_b or colm_a is not colm_b:\n",
        "                print(\"\\n\\tDimention Error !!\")\n",
        "                flag = 2\n",
        "        elif button is 3:\n",
        "            if row_a is not colm_b:\n",
        "                print(\"\\n\\tDimention Error !!\")\n",
        "                flag = 2\n",
        "\n",
        "        # Operations\n",
        "        if flag is not 2:\n",
        "            if button is 1:\n",
        "                MatAddSub(A, B, 1)\n",
        "            elif button is 2:\n",
        "                MatAddSub(A, B, 2)\n",
        "            elif button is 3:\n",
        "                MatMult(A, B)\n",
        "            elif button is 4:\n",
        "                ch = input(\"Enter a or b to get transpose of [A] [B]\").lower()\n",
        "                if ch == \"a\":\n",
        "                    Transpose(A)\n",
        "                elif ch == \"b\":\n",
        "                    Transpose(B)\n",
        "                else:\n",
        "                    print(\"wrong input\")\n",
        "            elif button is 5:\n",
        "                exit()\n",
        "        flag = 0\n",
        "        askb = input(\"\\n\\nPerform another operation on same matrices ? y/n...\")\n",
        "        if askb is \"y\":\n",
        "            back = False\n",
        "        else:\n",
        "            back = True\n",
        "    flag = 0\n",
        "    ask = input(\"\\n\\nEnter new matrices ? y/n...\")\n",
        "    if ask == \"y\":\n",
        "        menu = True\n",
        "    else:\n",
        "        menu = False\n",
        "\n",
        "clear_output()\n",
        "print(\"\\n\\nExiting the Program .....\")"
      ]
    },
    {
      "cell_type": "markdown",
      "source": [
        "## **Function for uniform outcome**"
      ],
      "metadata": {
        "id": "fldK6K2aWhpo"
      }
    },
    {
      "cell_type": "markdown",
      "source": [
        "**n : number of outcomes in the sample space**\n",
        "\n",
        " ***Output: m outcomes selected uniformly at random from 1 to n***"
      ],
      "metadata": {
        "id": "QOjoA1nGNnhQ"
      }
    },
    {
      "cell_type": "code",
      "execution_count": 1,
      "metadata": {
        "id": "C3RZ5EMaOMIa"
      },
      "outputs": [],
      "source": [
        "#uniform funtion\n",
        "import numpy as np\n",
        "\n",
        "def uniform(n,m):\n",
        "    '''m = no of outcomes\n",
        "    n = no of samples'''\n",
        "    return np.random.randint(1,n+1,m)"
      ]
    },
    {
      "cell_type": "markdown",
      "metadata": {
        "id": "oX-SgobGj8Ga"
      },
      "source": [
        "# Probability of die showing a number"
      ]
    },
    {
      "cell_type": "markdown",
      "source": [
        "We will modify the Monte Carlo simulation above for finding the probability that a dies shows a number falling in an event\n",
        ". You will see thatthe estimate is close to \n",
        ". If you change the loop iterations to 10000, the estimate will be much closer to\n",
        "and more consistent aswell."
      ],
      "metadata": {
        "id": "huDNQREfNlS-"
      }
    },
    {
      "cell_type": "code",
      "execution_count": 18,
      "metadata": {
        "colab": {
          "base_uri": "https://localhost:8080/"
        },
        "id": "yj7RsTtxjsaM",
        "outputId": "ee9b74f9-afbd-47cd-cd54-ca971c5e83e4"
      },
      "outputs": [
        {
          "output_type": "stream",
          "name": "stdout",
          "text": [
            "Probablity of getting a number on rolling die\n",
            "Na = 1\n",
            "N = 6\n",
            "P = (Na/N)\n",
            "\tProbablity using Formula = 0.1667\n",
            "\tProbablity using monto carlo : 0.169\n",
            "\n",
            "Probablity of getting an odd number rolling die\n",
            "Na = 3\n",
            "N = 6\n",
            "P = (Na/N)\n",
            "\tProbablity using Formula = 0.5\n",
            "\tProbablity using monto carlo simulation : 0.4985\n"
          ]
        }
      ],
      "source": [
        "# Date : 16/12/2022\n",
        "print('Probablity of getting a number on rolling die')\n",
        "print('Na = 1\\nN = 6\\nP = (Na/N)')\n",
        "print(f'\\tProbablity using Formula = {round(1/6,4)}')\n",
        "no = 0; \n",
        "for i in range(10000):\n",
        "    die = uniform(6,1);\n",
        "    if die == 1:\n",
        "        no += 1;\n",
        "print('\\tProbablity using monto carlo :',no /10000)\n",
        "\n",
        "#\n",
        "print('\\nProbablity of getting an odd number rolling die')\n",
        "# odds = 1,3,5 hence Na = 3\n",
        "print('Na = 3\\nN = 6\\nP = (Na/N)')\n",
        "print(f'\\tProbablity using Formula = {round(3/6,4)}')\n",
        "no = 0; \n",
        "for i in range(10000):\n",
        "    die = uniform(6,1);\n",
        "    if die == 1 or die == 3 or die == 5 :\n",
        "        no += 1;\n",
        "print('\\tProbablity using monto carlo simulation :',no /10000)"
      ]
    },
    {
      "cell_type": "markdown",
      "metadata": {
        "id": "CSuj2uYdQIBL"
      },
      "source": [
        "#Estimating probability by simulation - Monte Carlo"
      ]
    },
    {
      "cell_type": "markdown",
      "source": [
        "**The probability of an event A can be estimated as follows. We can simulate the** **experiment repeatedly and independently, say N times, and**\n",
        "**count the number of times the event occurred, say NA**\n",
        "\n",
        "**A good estimate of P(A) is the following :** \n",
        "\n",
        "###                                    P(A) ≈ NA/N \n",
        "                  \n",
        "**As N grows larger and larger, the estimate becomes better and better. This method is generally termed as Monte Carlo simulation.** "
      ],
      "metadata": {
        "id": "2BTttEoPN051"
      }
    },
    {
      "cell_type": "markdown",
      "source": [
        "We will first evaluate probability of coin toss de\n",
        "scribed above using Monte Carlo simulations.\n",
        "There are two steps: generate a large number of to\n",
        "sses and count the number of heads or tails.\n",
        "These two steps can be written in a single loop us\n",
        "ually.\n",
        "You should run the simulation multiple times to se\n",
        "e what probability estimate is obtained each time.\n",
        "You will see that the estimate is close to 0.5."
      ],
      "metadata": {
        "id": "9Jwi3-tWSK73"
      }
    },
    {
      "cell_type": "code",
      "execution_count": 19,
      "metadata": {
        "colab": {
          "base_uri": "https://localhost:8080/"
        },
        "id": "jGmBElDoG4m7",
        "outputId": "aacdbb0e-46ad-4bba-a5e2-6187093e16d4"
      },
      "outputs": [
        {
          "output_type": "stream",
          "name": "stdout",
          "text": [
            "Na = 1\n",
            "N = 2\n",
            "P = (Na/N)\n",
            "Probablity using Formula  = 0.5\n",
            "\n",
            "Probablity using monte carlo simulation : 0.493\n"
          ]
        }
      ],
      "source": [
        "# Date : 16/12/2022\n",
        "\n",
        "'''1 FOR HEAD AND 2 FOR TAIL\n",
        "HENCE WE WILL FIND PROBABLITY OF GETTING HEAD'''\n",
        "print('Na = 1\\nN = 2\\nP = (Na/N)')\n",
        "print(f'Probablity using Formula  = {round(1/2,3)}')\n",
        "\n",
        "no = 0; \n",
        "for i in range(1000):\n",
        "    coin = uniform(2,1);\n",
        "    if coin == 1:\n",
        "        no += 1;\n",
        "print('\\nProbablity using monte carlo simulation :',no/1000)"
      ]
    },
    {
      "cell_type": "markdown",
      "metadata": {
        "id": "gqJiskZNm-0R"
      },
      "source": [
        "#Gambler's ruin (simple random walk)"
      ]
    },
    {
      "cell_type": "markdown",
      "source": [
        "A gambler starting with\n",
        "units of money plays the following game at a casino:\n",
        "If he has\n",
        "units of money, a coin is tossed. <br> -> If heads, the casino pays him 1 unit. If tails, he loses 1 unit to the casino.\n",
        "<br> -> If he loses all money, he goes bankrupt and stops.\n",
        "<br> -> If he gets\n",
        "units of money, he wins and stops playing.\n",
        "\n",
        "**We are interested in Monte Carlo simulation of Gambler's ruin and verifi cation of the formula for.\n",
        " First, we consider the case**\n",
        "."
      ],
      "metadata": {
        "id": "EFPThUhQQ24J"
      }
    },
    {
      "cell_type": "code",
      "execution_count": 20,
      "metadata": {
        "colab": {
          "base_uri": "https://localhost:8080/"
        },
        "id": "KyeoZoCMkkex",
        "outputId": "8aa17fcc-3fe7-4ee2-ece0-675750291b70"
      },
      "outputs": [
        {
          "output_type": "stream",
          "name": "stdout",
          "text": [
            "Probablity by using formula = 0.5\n",
            "Probablity using monte carlo simulation = 0.491\n"
          ]
        }
      ],
      "source": [
        "# Date : 16/12/2022\n",
        "\n",
        "no = 0\n",
        "k = 5\n",
        "N = 10\n",
        "print('Probablity by using formula =',1-k/N)\n",
        "\n",
        "for i in range(1000):\n",
        "    k = 5\n",
        "    while k > 0 and k < N:       #checking the money greater than 'k' or less than 'N'\n",
        "        bet = uniform(2,1)       # assigning the output of game to 1 or 2 using uniform function\n",
        "        if bet == 1:                  # if it is =1 increment k\n",
        "            k += 1\n",
        "        else:                            # else decrement k\n",
        "            k -= 1                       # condition for k = 0\n",
        "        if k == 0:                     # increment no if k = 0\n",
        "            no += 1\n",
        "print('Probablity using monte carlo simulation =',no / 1000)"
      ]
    }
  ],
  "metadata": {
    "colab": {
      "provenance": [],
      "authorship_tag": "ABX9TyPWwiId85BikahUnklmz77n",
      "include_colab_link": true
    },
    "kernelspec": {
      "display_name": "Python 3",
      "name": "python3"
    },
    "language_info": {
      "name": "python"
    }
  },
  "nbformat": 4,
  "nbformat_minor": 0
}