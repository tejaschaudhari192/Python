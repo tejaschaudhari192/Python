{
 "cells": [
  {
   "attachments": {},
   "cell_type": "markdown",
   "metadata": {},
   "source": [
    "DataTypes"
   ]
  },
  {
   "cell_type": "code",
   "execution_count": 11,
   "metadata": {},
   "outputs": [
    {
     "name": "stdout",
     "output_type": "stream",
     "text": [
      "[1, 2, 3, 4, 5]\n",
      "{3}\n",
      "(1, 2, 3)\n",
      "{5: 'five'}\n"
     ]
    }
   ],
   "source": [
    "#1 List\n",
    "l = [1,2,3,4,5]\n",
    "l.pop\n",
    "print(l)\n",
    "\n",
    "# 2nd set\n",
    "s = set()\n",
    "s.add(3)\n",
    "print(s)\n",
    "\n",
    "\n",
    "t = (1,2,3)\n",
    "print(t)\n",
    "\n",
    "d = {\t\n",
    " 5 : \"five\"\n",
    "}\n",
    "d[10] = \"Ten\";\n",
    "del d[10]\n",
    "print(d)\n",
    "\n"
   ]
  },
  {
   "cell_type": "code",
   "execution_count": 19,
   "metadata": {},
   "outputs": [
    {
     "name": "stdout",
     "output_type": "stream",
     "text": [
      "ZeroDivisionError\n",
      "Exception\n"
     ]
    }
   ],
   "source": [
    "try:\n",
    "\ta = int(input(\"Enter a:\"))\n",
    "\tb = int(input(\"Enter b:\"))\n",
    "\tc = a/b\n",
    "\tprint(\"a/b = %d\"%c)\n",
    "except Exception:\n",
    "    print(\"ZeroDivisionError\");\n",
    "    print(\"Exception\")\n",
    "else:\n",
    "    print(\"else block\")"
   ]
  },
  {
   "cell_type": "code",
   "execution_count": 31,
   "metadata": {},
   "outputs": [
    {
     "name": "stdout",
     "output_type": "stream",
     "text": [
      "3.0\n",
      "2.0\n"
     ]
    }
   ],
   "source": [
    "from math import sqrt\n",
    "\n",
    "print(sqrt(9))\n",
    "\n",
    "import numpy as np\n",
    "data = [1,2,3]\n",
    "print(np.mean(data))"
   ]
  },
  {
   "cell_type": "code",
   "execution_count": 21,
   "metadata": {},
   "outputs": [
    {
     "name": "stdout",
     "output_type": "stream",
     "text": [
      "kaju\n",
      "sgrrgr\n",
      "erf23e34\n",
      "noh 0 0 0\n",
      "['all.ipynb', 'bhoju.txt', 'main.py', 'oops.py']\n"
     ]
    }
   ],
   "source": [
    "file = open(\"bhoju.txt\")\n",
    "data = file.read()\n",
    "\n",
    "lines = words = char = 0;\n",
    "for line in file:\n",
    "    line = line.strip(\"\\n\");\n",
    "    words=line.split()\n",
    "    lines+=1\n",
    "    words+=len(words)\n",
    "    char += len(line)\n",
    "\n",
    "file.close()\n",
    "print(data, words, lines, char)\n",
    "import os\n",
    "l = os.listdir()\n",
    "print(l)\n"
   ]
  },
  {
   "cell_type": "code",
   "execution_count": 2,
   "metadata": {},
   "outputs": [
    {
     "name": "stdout",
     "output_type": "stream",
     "text": [
      "Found\n"
     ]
    }
   ],
   "source": [
    "import re\n",
    "animal = \"'cat,'goat','dog'\"\n",
    "if (re.search('dog',animal)):\n",
    "    print('Found')\n",
    "else:\n",
    "    print('Found')"
   ]
  },
  {
   "cell_type": "markdown",
   "metadata": {},
   "source": []
  }
 ],
 "metadata": {
  "kernelspec": {
   "display_name": "base",
   "language": "python",
   "name": "python3"
  },
  "language_info": {
   "codemirror_mode": {
    "name": "ipython",
    "version": 3
   },
   "file_extension": ".py",
   "mimetype": "text/x-python",
   "name": "python",
   "nbconvert_exporter": "python",
   "pygments_lexer": "ipython3",
   "version": "3.9.12 (main, Apr  4 2022, 05:22:27) [MSC v.1916 64 bit (AMD64)]"
  },
  "orig_nbformat": 4,
  "vscode": {
   "interpreter": {
    "hash": "2043299c89c8cd0b4d1a6f5cf4529bd58e6a4e0fe3181a25e0d328c821cdc5c5"
   }
  }
 },
 "nbformat": 4,
 "nbformat_minor": 2
}
