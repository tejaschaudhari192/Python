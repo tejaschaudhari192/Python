{
 "cells": [
  {
   "cell_type": "markdown",
   "metadata": {
    "id": "IsKgsD-K6L3U"
   },
   "source": [
    "**What is Python?**\n",
    "\n",
    "Python is a popular programming language. It was created by Guido van Rossum, and released in 1991.\n",
    "\n",
    "**It is used for:**\n",
    "\n",
    "web development (server-side),\n",
    "software development,\n",
    "mathematics,\n",
    "system scripting.\n",
    "\n",
    "**What can Python do?**\n",
    "\n",
    "Python can be used on a server to create web applications.\n",
    "\n",
    "Python can be used alongside software to create workflows.\n",
    "\n",
    "Python can connect to database systems. It can also read and modify files.\n",
    "\n",
    "Python can be used to handle big data and perform complex mathematics.\n",
    "\n",
    "Python can be used for rapid prototyping, or for production-ready software development.\n",
    "\n",
    "**Why Python?**\n",
    "\n",
    "Python works on different platforms (Windows, Mac, Linux, Raspberry Pi, etc).\n",
    "\n",
    "Python has a simple syntax similar to the English language.\n",
    "\n",
    "Python has syntax that allows developers to write programs with fewer lines than some other programming languages.\n",
    "\n",
    "Python runs on an interpreter system, meaning that code can be executed as soon as it is written. This means that prototyping can be very quick.\n",
    "\n",
    "Python can be treated in a procedural way, an object-oriented way or a functional way.\n",
    "\n",
    "**Python Syntax compared to other programming languages**\n",
    "\n",
    "Python was designed for readability, and has some similarities to the English language with influence from mathematics.\n",
    "\n",
    "Python uses new lines to complete a command, as opposed to other programming languages which often use semicolons or parentheses.\n",
    "\n",
    "Python relies on indentation, using whitespace, to define scope; such as the scope of loops, functions and classes. Other programming languages often use curly-brackets for this purpose.\n",
    "\n",
    "Guado van : 1991\n",
    "\n",
    "python 1.x : 1994\n",
    "\n",
    "python 2.x : 2000 : 2.7 (EDL) : print\"Hello\"\n",
    "\n",
    "python 3.x : 2008 : 3.10       : print(\"Hello\") \n",
    "\n",
    "\n"
   ]
  },
  {
   "cell_type": "markdown",
   "metadata": {
    "id": "fyib-9rmRZFp"
   },
   "source": [
    "**Python Variables**\n",
    "\n",
    "In Python, variables are created when you assign a value to it:"
   ]
  },
  {
   "cell_type": "code",
   "execution_count": null,
   "metadata": {
    "colab": {
     "base_uri": "https://localhost:8080/"
    },
    "id": "XtsapJth7BCN",
    "outputId": "b653f5c5-3f13-4797-b497-47bcefeb6cde",
    "tags": [
     "bhoju"
    ]
   },
   "outputs": [
    {
     "name": "stdout",
     "output_type": "stream",
     "text": [
      "5\n",
      "Hello, World!\n"
     ]
    }
   ],
   "source": [
    "x = 5\n",
    "y = \"Hello, World!\"\n",
    "\n",
    "print(x)\n",
    "print(y)"
   ]
  },
  {
   "cell_type": "markdown",
   "metadata": {
    "id": "OZRAyFfZR20M"
   },
   "source": [
    "**Comments**\n",
    "\n",
    "Python has commenting capability for the purpose of in-code documentation.\n",
    "\n",
    "Comments start with a #, and Python will render the rest of the line as a comment:\n"
   ]
  },
  {
   "cell_type": "code",
   "execution_count": null,
   "metadata": {
    "colab": {
     "base_uri": "https://localhost:8080/"
    },
    "id": "4S2fe8UeSAW0",
    "outputId": "818512f0-c52a-4ea7-fd9e-f23c04a667c1"
   },
   "outputs": [
    {
     "name": "stdout",
     "output_type": "stream",
     "text": [
      "Hello, World!\n"
     ]
    }
   ],
   "source": [
    "#This is a comment.\n",
    "print(\"Hello, World!\")\n"
   ]
  },
  {
   "cell_type": "markdown",
   "metadata": {
    "id": "NQWuzf7RSUGT"
   },
   "source": [
    "**Multi Line Comments**\n",
    "\n",
    "Python does not really have a syntax for multi line comments.\n",
    "\n",
    "To add a multiline comment you could insert a # for each line:"
   ]
  },
  {
   "cell_type": "code",
   "execution_count": null,
   "metadata": {
    "colab": {
     "base_uri": "https://localhost:8080/"
    },
    "id": "nHhbVtScSFZv",
    "outputId": "fa01cc66-4f10-4837-ac9a-177b5c0b891d"
   },
   "outputs": [
    {
     "name": "stdout",
     "output_type": "stream",
     "text": [
      "Hello, World!\n"
     ]
    }
   ],
   "source": [
    "#This is a comment\n",
    "#written in\n",
    "#more than just one line\n",
    "print(\"Hello, World!\") "
   ]
  },
  {
   "cell_type": "code",
   "execution_count": null,
   "metadata": {
    "colab": {
     "base_uri": "https://localhost:8080/"
    },
    "id": "o51IYxr5SjqX",
    "outputId": "6547813e-119d-4ac2-90a7-b7e00a5c2b27"
   },
   "outputs": [
    {
     "name": "stdout",
     "output_type": "stream",
     "text": [
      "Hello, World!\n"
     ]
    }
   ],
   "source": [
    "\"\"\"\n",
    "This is a comment\n",
    "written in\n",
    "more than just one line\n",
    "\"\"\"\n",
    "print(\"Hello, World!\")\n"
   ]
  },
  {
   "cell_type": "markdown",
   "metadata": {
    "id": "Prf1kyYgS5qf"
   },
   "source": [
    "**Variables**\n",
    "\n",
    "Variables are containers for storing data values."
   ]
  },
  {
   "cell_type": "code",
   "execution_count": null,
   "metadata": {
    "colab": {
     "base_uri": "https://localhost:8080/"
    },
    "id": "9HB8EgBtStiV",
    "outputId": "c2ab78c0-0ba1-4f8e-a9ae-078ee1cd731f"
   },
   "outputs": [
    {
     "name": "stdout",
     "output_type": "stream",
     "text": [
      "5\n",
      "RCPIT\n"
     ]
    }
   ],
   "source": [
    "x = 5\n",
    "y = \"RCPIT\"\n",
    "print(x)\n",
    "print(y)"
   ]
  },
  {
   "cell_type": "markdown",
   "metadata": {
    "id": "K4Gr_y4bTRO8"
   },
   "source": [
    "Variables do not need to be declared with any particular type, and can even change type after they have been set."
   ]
  },
  {
   "cell_type": "code",
   "execution_count": null,
   "metadata": {
    "colab": {
     "base_uri": "https://localhost:8080/"
    },
    "id": "TYzE3L6TTFwp",
    "outputId": "fc7226de-ba02-48e8-f192-dfde9620b3a0"
   },
   "outputs": [
    {
     "name": "stdout",
     "output_type": "stream",
     "text": [
      "RCPIT\n"
     ]
    }
   ],
   "source": [
    "x = 4       # x is of type int\n",
    "x = \"RCPIT\" # x is now of type str\n",
    "print(x)"
   ]
  },
  {
   "cell_type": "code",
   "execution_count": null,
   "metadata": {
    "colab": {
     "base_uri": "https://localhost:8080/"
    },
    "id": "k8fnTQF0TWYT",
    "outputId": "1ed5c5e4-9ccb-40d8-bc3a-255e7ff68776"
   },
   "outputs": [
    {
     "data": {
      "text/plain": [
       "int"
      ]
     },
     "execution_count": 8,
     "metadata": {},
     "output_type": "execute_result"
    }
   ],
   "source": [
    "Y=45\n",
    "type(Y)\n"
   ]
  },
  {
   "cell_type": "code",
   "execution_count": null,
   "metadata": {
    "colab": {
     "base_uri": "https://localhost:8080/"
    },
    "id": "sm-6ra0NTug_",
    "outputId": "35fcaca2-722c-4e94-f969-99311d4b6b36"
   },
   "outputs": [
    {
     "data": {
      "text/plain": [
       "str"
      ]
     },
     "execution_count": 9,
     "metadata": {},
     "output_type": "execute_result"
    }
   ],
   "source": [
    "X=\"RCPIT\"\n",
    "type(x)"
   ]
  },
  {
   "cell_type": "code",
   "execution_count": null,
   "metadata": {
    "colab": {
     "base_uri": "https://localhost:8080/"
    },
    "id": "QOcAz7OPUAIV",
    "outputId": "31eeb9b9-321c-438b-9edf-2e91940342cb"
   },
   "outputs": [
    {
     "name": "stdout",
     "output_type": "stream",
     "text": [
      "3\n",
      "3\n",
      "3.0\n"
     ]
    }
   ],
   "source": [
    "x = str(3)\n",
    "y = int(3)\n",
    "z = float(3)\n",
    "\n",
    "print(x)\n",
    "print(y)\n",
    "print(z)\n",
    "\n"
   ]
  },
  {
   "cell_type": "markdown",
   "metadata": {
    "id": "wTIhGKh6UlYw"
   },
   "source": [
    "**ingle or Double Quotes?**\n",
    "\n",
    "String variables can be declared either by using single or double quotes:"
   ]
  },
  {
   "cell_type": "markdown",
   "metadata": {
    "id": "3v5pVKdaxhnM"
   },
   "source": [
    "\n",
    "**Variable Names**\n",
    "\n",
    "A variable can have a short name (like x and y) or a more descriptive name (age, carname, total_volume). Rules for Python variables:\n",
    "\n",
    "A variable name must start with a letter or the underscore character\n",
    "\n",
    "A variable name cannot start with a number\n",
    "\n",
    "A variable name can only contain alpha-numeric characters and underscores (A-z, 0-9, and _ )\n",
    "\n",
    "Variable names are case-sensitive (age, Age and AGE are three different variables)"
   ]
  },
  {
   "cell_type": "code",
   "execution_count": null,
   "metadata": {
    "id": "Et-1dPIHx02z"
   },
   "outputs": [],
   "source": [
    "myvar = \"John\"\n",
    "my_var = \"John\"\n",
    "_my_var = \"John\"\n",
    "myVar = \"John\"\n",
    "MYVAR = \"John\"\n",
    "myvar2 = \"John\""
   ]
  },
  {
   "cell_type": "markdown",
   "metadata": {
    "id": "Zq0QlSC_ySXc"
   },
   "source": [
    "**Many Values to Multiple Variables**\n",
    "\n",
    "Python allows you to assign values to multiple variables in one line:"
   ]
  },
  {
   "cell_type": "code",
   "execution_count": null,
   "metadata": {
    "colab": {
     "base_uri": "https://localhost:8080/"
    },
    "id": "O-7gFAtvx2Gs",
    "outputId": "4f1cac2c-fc1d-4599-975e-273da0852fe1"
   },
   "outputs": [
    {
     "name": "stdout",
     "output_type": "stream",
     "text": [
      "Orange\n",
      "Banana\n",
      "Cherry\n"
     ]
    }
   ],
   "source": [
    "x, y, z = \"Orange\", \"Banana\", \"Cherry\"\n",
    "print(x)\n",
    "print(y)\n",
    "print(z)"
   ]
  },
  {
   "cell_type": "code",
   "execution_count": null,
   "metadata": {
    "colab": {
     "base_uri": "https://localhost:8080/"
    },
    "id": "tOGr7ZwGzenI",
    "outputId": "49808735-a80d-421e-dc26-a489e85f63d5"
   },
   "outputs": [
    {
     "name": "stdout",
     "output_type": "stream",
     "text": [
      "Orange\n",
      "Orange\n",
      "Orange\n"
     ]
    }
   ],
   "source": [
    "x = y = z = \"Orange\"\n",
    "print(x)\n",
    "print(y)\n",
    "print(z)"
   ]
  },
  {
   "cell_type": "markdown",
   "metadata": {
    "id": "f6uS_mK2zv5t"
   },
   "source": [
    "**Unpack a Collection**\n",
    "\n",
    "\n",
    "\n",
    "If you have a collection of values in a list, tuple etc. Python allows you to extract the values into variables. This is called unpacking."
   ]
  },
  {
   "cell_type": "code",
   "execution_count": null,
   "metadata": {
    "colab": {
     "base_uri": "https://localhost:8080/"
    },
    "id": "seGsJl0nz_7q",
    "outputId": "95b6bbef-238d-4456-9688-4b11c939fd46"
   },
   "outputs": [
    {
     "name": "stdout",
     "output_type": "stream",
     "text": [
      "apple\n",
      "banana\n",
      "cherry\n"
     ]
    }
   ],
   "source": [
    "fruits = [\"apple\", \"banana\", \"cherry\"]\n",
    "x, y, z = fruits\n",
    "print(x)\n",
    "print(y)\n",
    "print(z)"
   ]
  },
  {
   "cell_type": "markdown",
   "metadata": {
    "id": "XmXm9SVZ-Sib"
   },
   "source": [
    "**Python Data Types**\n",
    "\n",
    "In programming, data type is an important concept.\n",
    "\n",
    "\n",
    "Variables can store data of different types, and different types can do different things.\n",
    "\n",
    "Python has the following data types built-in by default, in these categories:\n",
    "\n",
    "Text Type:\t**str**\n",
    "\n",
    "Numeric Types:\t**int, float, complex**\n",
    "\n",
    "Sequence Types:\t**list,** t**uple, range**\n",
    "\n",
    "Mapping Type: **dict**\n",
    "\n",
    "Set Types:\t**set, frozenset**\n",
    "\n",
    "Boolean Type:\t**bool**\n",
    "\n",
    "Binary Types:\t**bytes, bytearray, memoryview**\n",
    "\n",
    "None Type:\t**NoneType**"
   ]
  },
  {
   "cell_type": "code",
   "execution_count": null,
   "metadata": {
    "colab": {
     "base_uri": "https://localhost:8080/"
    },
    "id": "v907CDZ30A7h",
    "outputId": "f7c1f2a0-f96c-4929-a4b2-62cc7ffe53ad"
   },
   "outputs": [
    {
     "name": "stdout",
     "output_type": "stream",
     "text": [
      "<class 'int'>\n"
     ]
    }
   ],
   "source": [
    "x = 5\n",
    "print(type(x))"
   ]
  },
  {
   "cell_type": "code",
   "execution_count": null,
   "metadata": {
    "colab": {
     "base_uri": "https://localhost:8080/"
    },
    "id": "w_DJVEmGVUmY",
    "outputId": "fd0110d1-4d14-4323-f8fa-d424d26f17d4"
   },
   "outputs": [
    {
     "name": "stdout",
     "output_type": "stream",
     "text": [
      "Hello World\n",
      "<class 'str'>\n"
     ]
    }
   ],
   "source": [
    "x = \"Hello World\"\n",
    "\n",
    "#display x:\n",
    "print(x)\n",
    "\n",
    "#display the data type of x:\n",
    "print(type(x)) \n"
   ]
  },
  {
   "cell_type": "code",
   "execution_count": null,
   "metadata": {
    "colab": {
     "base_uri": "https://localhost:8080/"
    },
    "id": "UsYFTMnAVsY_",
    "outputId": "a01a1f7a-b303-4e12-e551-f57cc7d00d64"
   },
   "outputs": [
    {
     "name": "stdout",
     "output_type": "stream",
     "text": [
      "['apple', 'banana', 'cherry']\n",
      "<class 'list'>\n"
     ]
    }
   ],
   "source": [
    "x = [\"apple\", \"banana\", \"cherry\"]\n",
    "\n",
    "#display x:\n",
    "print(x)\n",
    "\n",
    "#display the data type of x:\n",
    "print(type(x)) \n"
   ]
  },
  {
   "cell_type": "code",
   "execution_count": null,
   "metadata": {
    "colab": {
     "base_uri": "https://localhost:8080/"
    },
    "id": "5ZTIVEG2VxRl",
    "outputId": "b761c8a3-8885-46ed-f381-b1c54f78b090"
   },
   "outputs": [
    {
     "name": "stdout",
     "output_type": "stream",
     "text": [
      "('apple', 'banana', 'cherry')\n",
      "<class 'tuple'>\n"
     ]
    }
   ],
   "source": [
    "x = (\"apple\", \"banana\", \"cherry\")\n",
    "\n",
    "#display x:\n",
    "print(x)\n",
    "\n",
    "#display the data type of x:\n",
    "print(type(x)) \n"
   ]
  },
  {
   "cell_type": "code",
   "execution_count": null,
   "metadata": {
    "colab": {
     "base_uri": "https://localhost:8080/"
    },
    "id": "wfBhNpsfV2qv",
    "outputId": "540318e3-99a2-4483-c8c2-4946fcab03e8"
   },
   "outputs": [
    {
     "name": "stdout",
     "output_type": "stream",
     "text": [
      "True\n",
      "<class 'bool'>\n"
     ]
    }
   ],
   "source": [
    "x = True\n",
    "\n",
    "#display x:\n",
    "print(x)\n",
    "\n",
    "#display the data type of x:\n",
    "print(type(x)) \n"
   ]
  },
  {
   "cell_type": "code",
   "execution_count": null,
   "metadata": {
    "colab": {
     "base_uri": "https://localhost:8080/"
    },
    "id": "9DlDMjWcV6-C",
    "outputId": "aa0b91ab-661a-4e09-8131-a65e24110b18"
   },
   "outputs": [
    {
     "name": "stdout",
     "output_type": "stream",
     "text": [
      "{'name': 'John', 'age': 36}\n",
      "<class 'dict'>\n"
     ]
    }
   ],
   "source": [
    "x = {\"name\" : \"John\", \"age\" : 36}\n",
    "\n",
    "#display x:\n",
    "print(x)\n",
    "\n",
    "#display the data type of x:\n",
    "print(type(x)) \n"
   ]
  },
  {
   "cell_type": "code",
   "execution_count": null,
   "metadata": {
    "colab": {
     "base_uri": "https://localhost:8080/"
    },
    "id": "XeqxeJ5EWB15",
    "outputId": "ac795a0e-2ef3-4373-feda-c1c7e525a068"
   },
   "outputs": [
    {
     "name": "stdout",
     "output_type": "stream",
     "text": [
      "range(0, 6)\n",
      "<class 'range'>\n"
     ]
    }
   ],
   "source": [
    "x = range(6)\n",
    "\n",
    "#display x:\n",
    "print(x)\n",
    "\n",
    "#display the data type of x:\n",
    "print(type(x)) \n"
   ]
  },
  {
   "cell_type": "code",
   "execution_count": null,
   "metadata": {
    "colab": {
     "base_uri": "https://localhost:8080/"
    },
    "id": "gaUCTla4WI5x",
    "outputId": "131213b7-bc1f-492b-bfb1-c937d6118dfa"
   },
   "outputs": [
    {
     "name": "stdout",
     "output_type": "stream",
     "text": [
      "Enter a number :20\n"
     ]
    }
   ],
   "source": [
    "x=input(\"Enter a number :\")"
   ]
  },
  {
   "cell_type": "code",
   "execution_count": null,
   "metadata": {
    "colab": {
     "base_uri": "https://localhost:8080/"
    },
    "id": "FjlEMhiDWOHE",
    "outputId": "290310fb-5a81-4e97-f70a-041015169b40"
   },
   "outputs": [
    {
     "name": "stdout",
     "output_type": "stream",
     "text": [
      "Enter a number :6\n",
      "Enter a number :3\n",
      "63\n"
     ]
    }
   ],
   "source": [
    "x=input(\"Enter a number :\")\n",
    "y=input(\"Enter a number :\")\n",
    "\n",
    "z=x+y\n",
    "\n",
    "print(z)"
   ]
  },
  {
   "cell_type": "code",
   "execution_count": null,
   "metadata": {
    "colab": {
     "base_uri": "https://localhost:8080/"
    },
    "id": "_4eK3TbRWTy-",
    "outputId": "4765bfc8-21af-431c-f22f-c649aebd7a35"
   },
   "outputs": [
    {
     "name": "stdout",
     "output_type": "stream",
     "text": [
      "Enter a number :5\n",
      "5\n",
      "<class 'str'>\n"
     ]
    }
   ],
   "source": [
    "x=input(\"Enter a number :\") #str\n",
    "print(x)\n",
    "print(type(x))"
   ]
  },
  {
   "cell_type": "markdown",
   "metadata": {
    "id": "G2cwCphNXn8S"
   },
   "source": [
    "Specify a Variable Type\n",
    "\n",
    "There may be times when you want to specify a type on to a variable. This can be done with casting. Python is an object-orientated language, and as such it uses classes to define data types, including its primitive types.\n",
    "\n",
    "\n",
    "Casting in python is therefore done using constructor functions:\n",
    "\n",
    "**int()** - constructs an integer number from an integer literal, a float literal (by removing all decimals), or a string literal (providing the string represents a whole number)\n",
    "\n",
    "**float()** - constructs a float number from an integer literal, a float literal or a string literal (providing the string represents a float or an integer)\n",
    "\n",
    "**str()** - constructs a string from a wide variety of data types, including strings, integer literals and float literals\n",
    "\n"
   ]
  },
  {
   "cell_type": "code",
   "execution_count": null,
   "metadata": {
    "id": "h3XJ46HtWf0r"
   },
   "outputs": [],
   "source": [
    "x = int(1)   # x will be 1\n",
    "y = int(2.8) # y will be 2\n",
    "z = int(\"3\") # z will be 3"
   ]
  },
  {
   "cell_type": "code",
   "execution_count": null,
   "metadata": {
    "colab": {
     "base_uri": "https://localhost:8080/"
    },
    "id": "kHBGym6GX-pX",
    "outputId": "841bed73-72a2-4195-c6a0-70e8efe6cc2e"
   },
   "outputs": [
    {
     "name": "stdout",
     "output_type": "stream",
     "text": [
      "1\n",
      "2\n",
      "3\n"
     ]
    }
   ],
   "source": [
    "print(x)\n",
    "print(y)\n",
    "print(z)"
   ]
  },
  {
   "cell_type": "code",
   "execution_count": null,
   "metadata": {
    "colab": {
     "base_uri": "https://localhost:8080/"
    },
    "id": "iy7F2y1BYB-h",
    "outputId": "b6bd3e97-8fdd-4a5e-c63d-1bb16281c5c7"
   },
   "outputs": [
    {
     "data": {
      "text/plain": [
       "34"
      ]
     },
     "execution_count": 30,
     "metadata": {},
     "output_type": "execute_result"
    }
   ],
   "source": [
    "int(34.5)\n"
   ]
  },
  {
   "cell_type": "code",
   "execution_count": null,
   "metadata": {
    "colab": {
     "base_uri": "https://localhost:8080/"
    },
    "id": "KXCKO7fbYRfH",
    "outputId": "ee292ff9-2c22-420c-bece-9dc344f58d41"
   },
   "outputs": [
    {
     "data": {
      "text/plain": [
       "1"
      ]
     },
     "execution_count": 31,
     "metadata": {},
     "output_type": "execute_result"
    }
   ],
   "source": [
    "int(True)"
   ]
  },
  {
   "cell_type": "code",
   "execution_count": null,
   "metadata": {
    "colab": {
     "base_uri": "https://localhost:8080/"
    },
    "id": "R1XP-rVhYbiq",
    "outputId": "415d546a-fc5a-4215-db10-920b48cab896"
   },
   "outputs": [
    {
     "data": {
      "text/plain": [
       "55"
      ]
     },
     "execution_count": 35,
     "metadata": {},
     "output_type": "execute_result"
    }
   ],
   "source": [
    "int('55')"
   ]
  },
  {
   "cell_type": "code",
   "execution_count": null,
   "metadata": {
    "colab": {
     "base_uri": "https://localhost:8080/",
     "height": 165
    },
    "id": "oyL8zR3oYemI",
    "outputId": "b3c96bf0-95b6-4f05-bff0-945545c2d568"
   },
   "outputs": [
    {
     "ename": "TypeError",
     "evalue": "ignored",
     "output_type": "error",
     "traceback": [
      "\u001b[0;31m---------------------------------------------------------------------------\u001b[0m",
      "\u001b[0;31mTypeError\u001b[0m                                 Traceback (most recent call last)",
      "\u001b[0;32m<ipython-input-34-2e56e0bf9855>\u001b[0m in \u001b[0;36m<module>\u001b[0;34m\u001b[0m\n\u001b[0;32m----> 1\u001b[0;31m \u001b[0mint\u001b[0m\u001b[0;34m(\u001b[0m\u001b[0;36m3\u001b[0m\u001b[0;34m+\u001b[0m\u001b[0;36m6j\u001b[0m\u001b[0;34m)\u001b[0m   \u001b[0;34m//\u001b[0m\u001b[0mError\u001b[0m\u001b[0;34m\u001b[0m\u001b[0;34m\u001b[0m\u001b[0m\n\u001b[0m",
      "\u001b[0;31mTypeError\u001b[0m: can't convert complex to int"
     ]
    }
   ],
   "source": [
    "int(3+6j)   #Error"
   ]
  },
  {
   "cell_type": "code",
   "execution_count": null,
   "metadata": {
    "colab": {
     "base_uri": "https://localhost:8080/"
    },
    "id": "m47q3EmzYkMJ",
    "outputId": "bca38493-616c-4c0d-891a-11a852cdd177"
   },
   "outputs": [
    {
     "data": {
      "text/plain": [
       "30.0"
      ]
     },
     "execution_count": 36,
     "metadata": {},
     "output_type": "execute_result"
    }
   ],
   "source": [
    "float(30)"
   ]
  },
  {
   "cell_type": "code",
   "execution_count": null,
   "metadata": {
    "colab": {
     "base_uri": "https://localhost:8080/"
    },
    "id": "oi7QACRLY65m",
    "outputId": "ea8d736e-5bcd-44bb-ea2b-1088b55fd4b0"
   },
   "outputs": [
    {
     "data": {
      "text/plain": [
       "1.0"
      ]
     },
     "execution_count": 37,
     "metadata": {},
     "output_type": "execute_result"
    }
   ],
   "source": [
    "float(True)"
   ]
  },
  {
   "cell_type": "code",
   "execution_count": null,
   "metadata": {
    "colab": {
     "base_uri": "https://localhost:8080/"
    },
    "id": "qUKk8MTdY_XW",
    "outputId": "17f98d62-87be-4117-e1f6-75305b515262"
   },
   "outputs": [
    {
     "data": {
      "text/plain": [
       "33.55"
      ]
     },
     "execution_count": 38,
     "metadata": {},
     "output_type": "execute_result"
    }
   ],
   "source": [
    "float(\"33.55\")"
   ]
  },
  {
   "cell_type": "code",
   "execution_count": null,
   "metadata": {
    "colab": {
     "base_uri": "https://localhost:8080/",
     "height": 165
    },
    "id": "t5Q00TCHZEDF",
    "outputId": "3f645b76-5c0c-4d86-bec8-0c8fb0af7f00"
   },
   "outputs": [
    {
     "ename": "ValueError",
     "evalue": "ignored",
     "output_type": "error",
     "traceback": [
      "\u001b[0;31m---------------------------------------------------------------------------\u001b[0m",
      "\u001b[0;31mValueError\u001b[0m                                Traceback (most recent call last)",
      "\u001b[0;32m<ipython-input-39-2cc73495a5c6>\u001b[0m in \u001b[0;36m<module>\u001b[0;34m\u001b[0m\n\u001b[0;32m----> 1\u001b[0;31m \u001b[0mfloat\u001b[0m\u001b[0;34m(\u001b[0m\u001b[0;34m\"RCPIT\"\u001b[0m\u001b[0;34m)\u001b[0m\u001b[0;34m\u001b[0m\u001b[0;34m\u001b[0m\u001b[0m\n\u001b[0m",
      "\u001b[0;31mValueError\u001b[0m: could not convert string to float: 'RCPIT'"
     ]
    }
   ],
   "source": [
    "float(\"RCPIT\") #ERROR"
   ]
  },
  {
   "cell_type": "code",
   "execution_count": null,
   "metadata": {
    "id": "XhkgnXQ-ZG-W"
   },
   "outputs": [],
   "source": [
    "float(1+4j)"
   ]
  },
  {
   "cell_type": "code",
   "execution_count": null,
   "metadata": {
    "colab": {
     "base_uri": "https://localhost:8080/",
     "height": 35
    },
    "id": "39ptBwS3ZOsy",
    "outputId": "e6e3fb77-0ee0-457d-93aa-52e91f837895"
   },
   "outputs": [
    {
     "data": {
      "application/vnd.google.colaboratory.intrinsic+json": {
       "type": "string"
      },
      "text/plain": [
       "'30'"
      ]
     },
     "execution_count": 40,
     "metadata": {},
     "output_type": "execute_result"
    }
   ],
   "source": [
    "str(30)"
   ]
  },
  {
   "cell_type": "code",
   "execution_count": null,
   "metadata": {
    "colab": {
     "base_uri": "https://localhost:8080/",
     "height": 35
    },
    "id": "ZE121078ZR6V",
    "outputId": "7cfa2d65-760e-4046-9570-59f5a765c7b0"
   },
   "outputs": [
    {
     "data": {
      "application/vnd.google.colaboratory.intrinsic+json": {
       "type": "string"
      },
      "text/plain": [
       "'1.1'"
      ]
     },
     "execution_count": 41,
     "metadata": {},
     "output_type": "execute_result"
    }
   ],
   "source": [
    "str(1.1)"
   ]
  },
  {
   "cell_type": "code",
   "execution_count": null,
   "metadata": {
    "colab": {
     "base_uri": "https://localhost:8080/",
     "height": 35
    },
    "id": "fI1yheIVZVDm",
    "outputId": "e990565e-cbae-4bca-a135-42c7734df05d"
   },
   "outputs": [
    {
     "data": {
      "application/vnd.google.colaboratory.intrinsic+json": {
       "type": "string"
      },
      "text/plain": [
       "'True'"
      ]
     },
     "execution_count": 42,
     "metadata": {},
     "output_type": "execute_result"
    }
   ],
   "source": [
    "str(True)"
   ]
  },
  {
   "cell_type": "code",
   "execution_count": null,
   "metadata": {
    "colab": {
     "base_uri": "https://localhost:8080/",
     "height": 35
    },
    "id": "aJFVBsYJZaEG",
    "outputId": "21ee9f8d-1c18-46ae-8352-60017d89ce89"
   },
   "outputs": [
    {
     "data": {
      "application/vnd.google.colaboratory.intrinsic+json": {
       "type": "string"
      },
      "text/plain": [
       "'(7+7j)'"
      ]
     },
     "execution_count": 44,
     "metadata": {},
     "output_type": "execute_result"
    }
   ],
   "source": [
    "str(7+7j)"
   ]
  },
  {
   "cell_type": "code",
   "execution_count": null,
   "metadata": {
    "colab": {
     "base_uri": "https://localhost:8080/"
    },
    "id": "2T4ED153Zdx2",
    "outputId": "92e2ae7c-b6d8-45dc-d30d-0da1b21668f3"
   },
   "outputs": [
    {
     "data": {
      "text/plain": [
       "True"
      ]
     },
     "execution_count": 45,
     "metadata": {},
     "output_type": "execute_result"
    }
   ],
   "source": [
    "bool(1)"
   ]
  },
  {
   "cell_type": "code",
   "execution_count": null,
   "metadata": {
    "colab": {
     "base_uri": "https://localhost:8080/"
    },
    "id": "6NS_7FnbZuFS",
    "outputId": "8960cf7b-b4c7-439b-9b3d-52a61009360f"
   },
   "outputs": [
    {
     "data": {
      "text/plain": [
       "False"
      ]
     },
     "execution_count": 46,
     "metadata": {},
     "output_type": "execute_result"
    }
   ],
   "source": [
    "bool(0)"
   ]
  },
  {
   "cell_type": "code",
   "execution_count": null,
   "metadata": {
    "colab": {
     "base_uri": "https://localhost:8080/"
    },
    "id": "QTHNaDRrZv4W",
    "outputId": "8ccfbeda-7400-4c5a-fce0-b05a5935209b"
   },
   "outputs": [
    {
     "data": {
      "text/plain": [
       "True"
      ]
     },
     "execution_count": 47,
     "metadata": {},
     "output_type": "execute_result"
    }
   ],
   "source": [
    "bool(1.1)"
   ]
  },
  {
   "cell_type": "code",
   "execution_count": null,
   "metadata": {
    "colab": {
     "base_uri": "https://localhost:8080/"
    },
    "id": "_-b-HDOoZx8t",
    "outputId": "8b6de5b8-aa17-4066-d1a0-822b4ddaf3c8"
   },
   "outputs": [
    {
     "data": {
      "text/plain": [
       "False"
      ]
     },
     "execution_count": 48,
     "metadata": {},
     "output_type": "execute_result"
    }
   ],
   "source": [
    "bool(0.0)"
   ]
  },
  {
   "cell_type": "code",
   "execution_count": null,
   "metadata": {
    "colab": {
     "base_uri": "https://localhost:8080/"
    },
    "id": "fQIqlmX3Z0d1",
    "outputId": "c71d3b33-400d-4529-e116-bec36224a6bb"
   },
   "outputs": [
    {
     "data": {
      "text/plain": [
       "True"
      ]
     },
     "execution_count": 49,
     "metadata": {},
     "output_type": "execute_result"
    }
   ],
   "source": [
    "bool(\" \")"
   ]
  },
  {
   "cell_type": "code",
   "execution_count": null,
   "metadata": {
    "colab": {
     "base_uri": "https://localhost:8080/"
    },
    "id": "qf0A2jmjZ5oe",
    "outputId": "eafbd4fd-0703-44cf-fc84-0967d7e8949d"
   },
   "outputs": [
    {
     "name": "stdout",
     "output_type": "stream",
     "text": [
      "Enter a number :55\n",
      "Enter a number :55\n",
      "110\n"
     ]
    }
   ],
   "source": [
    "x=input(\"Enter a number :\")\n",
    "y=input(\"Enter a number :\")\n",
    "\n",
    "a=int(x)\n",
    "b=int(y)\n",
    "\n",
    "z=a+b\n",
    "\n",
    "print(z)"
   ]
  },
  {
   "cell_type": "code",
   "execution_count": null,
   "metadata": {
    "colab": {
     "base_uri": "https://localhost:8080/"
    },
    "id": "ZX_hIdomaAL-",
    "outputId": "d908c645-4c40-4b19-8c9a-a4e9873c1abd"
   },
   "outputs": [
    {
     "name": "stdout",
     "output_type": "stream",
     "text": [
      "Enter a number :55\n",
      "Enter a number :55\n",
      "110\n"
     ]
    }
   ],
   "source": [
    "x=int(input(\"Enter a number :\"))\n",
    "y=int(input(\"Enter a number :\"))\n",
    "\n",
    "z=x+y\n",
    "\n",
    "print(z)"
   ]
  },
  {
   "cell_type": "code",
   "execution_count": null,
   "metadata": {
    "colab": {
     "base_uri": "https://localhost:8080/"
    },
    "id": "np-GJpduaEwB",
    "outputId": "649a1bfe-183d-492d-b00c-68652d80fde7"
   },
   "outputs": [
    {
     "name": "stdout",
     "output_type": "stream",
     "text": [
      "Enter Employee Number1\n",
      "Enter Employee NameAshish\n",
      "Enter Employee Salary100\n",
      "Enter Employee Addressshirpur\n",
      "Is Employee Married[True|False]:1\n",
      "Employee Number 1\n",
      "Employee Name Ashish\n",
      "Employee Salary 100.0\n",
      "Employee Address shirpur\n",
      "Employee Married or not True\n"
     ]
    }
   ],
   "source": [
    "eno=int(input('Enter Employee Number'))\n",
    "ename=input('Enter Employee Name')\n",
    "esal=float(input('Enter Employee Salary'))\n",
    "eaddr=input('Enter Employee Address')\n",
    "marriedornot=bool(input('Is Employee Married[True|False]:'))\n",
    "\n",
    "\n",
    "print('Employee Number',eno)\n",
    "print('Employee Name',ename)\n",
    "print('Employee Salary',esal)\n",
    "print('Employee Address',eaddr)\n",
    "print('Employee Married or not',marriedornot)\n"
   ]
  },
  {
   "cell_type": "markdown",
   "metadata": {
    "id": "mMEx6fEScEVr"
   },
   "source": [
    "Python Strings\n",
    "\n",
    "Strings in python are surrounded by either single quotation marks, or double quotation marks.\n",
    "\n",
    "'hello' is the same as \"hello\".\n",
    "\n",
    "You can display a string literal with the print() function:\n"
   ]
  },
  {
   "cell_type": "code",
   "execution_count": null,
   "metadata": {
    "colab": {
     "base_uri": "https://localhost:8080/"
    },
    "id": "3OsmBh7fcM9K",
    "outputId": "debb0109-d63f-46a8-8fb1-84c99fe4683b"
   },
   "outputs": [
    {
     "name": "stdout",
     "output_type": "stream",
     "text": [
      "Hello\n",
      "Hello\n"
     ]
    }
   ],
   "source": [
    "print(\"Hello\")\n",
    "print('Hello')"
   ]
  },
  {
   "cell_type": "code",
   "execution_count": null,
   "metadata": {
    "colab": {
     "base_uri": "https://localhost:8080/"
    },
    "id": "h_9fHFBOaYrm",
    "outputId": "591982e7-11b7-4e49-9c06-4f4c28d9891e"
   },
   "outputs": [
    {
     "name": "stdout",
     "output_type": "stream",
     "text": [
      "Hello\n"
     ]
    }
   ],
   "source": [
    "a = \"Hello\"\n",
    "print(a)"
   ]
  },
  {
   "cell_type": "markdown",
   "metadata": {
    "id": "QB6qeY-OcvNP"
   },
   "source": [
    "Strings are Arrays\n",
    "\n",
    "Like many other popular programming languages, strings in Python are arrays of bytes representing unicode characters.\n",
    "\n",
    "However, Python does not have a character data type, a single character is simply a string with a length of 1.\n",
    "\n",
    "Square brackets can be used to access elements of the string."
   ]
  },
  {
   "cell_type": "code",
   "execution_count": null,
   "metadata": {
    "colab": {
     "base_uri": "https://localhost:8080/"
    },
    "id": "gTInnKuwcWEm",
    "outputId": "763943de-33c1-4722-d014-2a487400c074"
   },
   "outputs": [
    {
     "name": "stdout",
     "output_type": "stream",
     "text": [
      "e\n"
     ]
    }
   ],
   "source": [
    "a = \"Hello, World!\"\n",
    "print(a[1])"
   ]
  },
  {
   "cell_type": "code",
   "execution_count": null,
   "metadata": {
    "colab": {
     "base_uri": "https://localhost:8080/"
    },
    "id": "v0aPUsUBczwS",
    "outputId": "b5253cf5-5b4e-4318-f6b7-6c2fa33161ba"
   },
   "outputs": [
    {
     "name": "stdout",
     "output_type": "stream",
     "text": [
      "13\n"
     ]
    }
   ],
   "source": [
    "a = \"Hello, World!\"\n",
    "print(len(a))"
   ]
  },
  {
   "cell_type": "code",
   "execution_count": null,
   "metadata": {
    "colab": {
     "base_uri": "https://localhost:8080/"
    },
    "id": "f5vfbhGQc58g",
    "outputId": "9b3f7973-d98f-4bd5-9a85-d3730269ce18"
   },
   "outputs": [
    {
     "name": "stdout",
     "output_type": "stream",
     "text": [
      "True\n"
     ]
    }
   ],
   "source": [
    "txt = \"The best things in life are free!\"\n",
    "print(\"free\" in txt)"
   ]
  },
  {
   "cell_type": "code",
   "execution_count": null,
   "metadata": {
    "colab": {
     "base_uri": "https://localhost:8080/"
    },
    "id": "JPyZbpp8c_x3",
    "outputId": "252a1896-c53f-48fd-a7ba-e51a50823714"
   },
   "outputs": [
    {
     "name": "stdout",
     "output_type": "stream",
     "text": [
      "Yes, 'free' is present.\n"
     ]
    }
   ],
   "source": [
    "txt = \"The best things in life are free!\"\n",
    "if \"free\" in txt:\n",
    "  print(\"Yes, 'free' is present.\")"
   ]
  },
  {
   "cell_type": "code",
   "execution_count": null,
   "metadata": {
    "colab": {
     "base_uri": "https://localhost:8080/"
    },
    "id": "7jWvrirXdEDS",
    "outputId": "2ef7c50e-daec-4925-8dbb-3a75e5739730"
   },
   "outputs": [
    {
     "name": "stdout",
     "output_type": "stream",
     "text": [
      "True\n"
     ]
    }
   ],
   "source": [
    "txt = \"The best things in life are free!\"\n",
    "print(\"expensive\" not in txt)"
   ]
  },
  {
   "cell_type": "code",
   "execution_count": null,
   "metadata": {
    "colab": {
     "base_uri": "https://localhost:8080/"
    },
    "id": "ILtY1SjxdIWi",
    "outputId": "1012ec4d-e2a6-4b9a-aeaa-3f57b60b7e04"
   },
   "outputs": [
    {
     "name": "stdout",
     "output_type": "stream",
     "text": [
      "No, 'expensive' is NOT present.\n"
     ]
    }
   ],
   "source": [
    "txt = \"The best things in life are free!\"\n",
    "if \"expensive\" not in txt:\n",
    "  print(\"No, 'expensive' is NOT present.\")"
   ]
  },
  {
   "cell_type": "markdown",
   "metadata": {
    "id": "SnNGYj1qdZSl"
   },
   "source": [
    "**Slicing**\n",
    "\n",
    "You can return a range of characters by using the slice syntax.\n",
    "\n",
    "Specify the start index and the end index, separated by a colon, to return a part of the string."
   ]
  },
  {
   "cell_type": "code",
   "execution_count": null,
   "metadata": {
    "colab": {
     "base_uri": "https://localhost:8080/"
    },
    "id": "PLHznsPVdNtE",
    "outputId": "fd8b1f19-6f60-46cb-f80c-88c534035355"
   },
   "outputs": [
    {
     "name": "stdout",
     "output_type": "stream",
     "text": [
      "llo\n"
     ]
    }
   ],
   "source": [
    "b = \"Hello, World!\"\n",
    "print(b[2:5])"
   ]
  },
  {
   "cell_type": "code",
   "execution_count": null,
   "metadata": {
    "colab": {
     "base_uri": "https://localhost:8080/"
    },
    "id": "AYyXQENgdhBJ",
    "outputId": "609412b8-9532-427d-960c-5a09b777a981"
   },
   "outputs": [
    {
     "name": "stdout",
     "output_type": "stream",
     "text": [
      "Hello\n"
     ]
    }
   ],
   "source": [
    "b = \"Hello, World!\"\n",
    "print(b[:5])"
   ]
  },
  {
   "cell_type": "code",
   "execution_count": null,
   "metadata": {
    "colab": {
     "base_uri": "https://localhost:8080/"
    },
    "id": "0RFeAF4cdrjV",
    "outputId": "b1fc4baf-5c9e-4576-a91e-6a490cfe9372"
   },
   "outputs": [
    {
     "name": "stdout",
     "output_type": "stream",
     "text": [
      "llo, World!\n"
     ]
    }
   ],
   "source": [
    "b = \"Hello, World!\"\n",
    "print(b[2:])"
   ]
  },
  {
   "cell_type": "code",
   "execution_count": null,
   "metadata": {
    "colab": {
     "base_uri": "https://localhost:8080/"
    },
    "id": "ywDIVXyld0Ih",
    "outputId": "3520ff41-7dc8-48d2-d023-801f95551327"
   },
   "outputs": [
    {
     "name": "stdout",
     "output_type": "stream",
     "text": [
      "orl\n"
     ]
    }
   ],
   "source": [
    "b = \"Hello, World!\"  #Negative Indexing\n",
    "print(b[-5:-2])\n"
   ]
  },
  {
   "cell_type": "code",
   "execution_count": null,
   "metadata": {
    "colab": {
     "base_uri": "https://localhost:8080/"
    },
    "id": "foNau_XXec5g",
    "outputId": "a8cdeccd-3884-4876-dbfc-0f4d2100b7b5"
   },
   "outputs": [
    {
     "name": "stdout",
     "output_type": "stream",
     "text": [
      "HELLO, WORLD!\n"
     ]
    }
   ],
   "source": [
    "a = \"Hello, World!\"\n",
    "print(a.upper())"
   ]
  },
  {
   "cell_type": "code",
   "execution_count": null,
   "metadata": {
    "colab": {
     "base_uri": "https://localhost:8080/"
    },
    "id": "Vcy6M78Sjw1j",
    "outputId": "511d66c5-6b66-480e-d9c8-f4751683bca5"
   },
   "outputs": [
    {
     "name": "stdout",
     "output_type": "stream",
     "text": [
      "hello, world!\n"
     ]
    }
   ],
   "source": [
    "a = \"Hello, World!\"\n",
    "print(a.lower())"
   ]
  },
  {
   "cell_type": "markdown",
   "metadata": {
    "id": "NSAs8B-lkDQK"
   },
   "source": [
    "Remove Whitespace\n",
    "\n",
    "Whitespace is the space before and/or after the actual text, and very often you want to remove this space.\n",
    "\n",
    "The strip() method removes any whitespace from the beginning or the end:\n",
    "\n",
    "a = \" Hello, World! \""
   ]
  },
  {
   "cell_type": "code",
   "execution_count": null,
   "metadata": {
    "colab": {
     "base_uri": "https://localhost:8080/"
    },
    "id": "4npSOyHwj18P",
    "outputId": "67540789-b200-4c60-f486-961e2a51b813"
   },
   "outputs": [
    {
     "name": "stdout",
     "output_type": "stream",
     "text": [
      "Hello, World!\n"
     ]
    }
   ],
   "source": [
    "a = \" Hello, World! \"\n",
    "print(a.strip()) # returns \"Hello, World!\""
   ]
  },
  {
   "cell_type": "markdown",
   "metadata": {
    "id": "jBge8A7bkeAC"
   },
   "source": [
    "The replace() method replaces a string with another string:"
   ]
  },
  {
   "cell_type": "code",
   "execution_count": null,
   "metadata": {
    "colab": {
     "base_uri": "https://localhost:8080/"
    },
    "id": "r-hzqZBUkb4D",
    "outputId": "38b6789b-1d94-4137-a7e0-d73803c0b864"
   },
   "outputs": [
    {
     "name": "stdout",
     "output_type": "stream",
     "text": [
      "Jello, World!\n"
     ]
    }
   ],
   "source": [
    "a = \"Hello, World!\"\n",
    "print(a.replace(\"H\", \"J\"))"
   ]
  },
  {
   "cell_type": "markdown",
   "metadata": {
    "id": "Ri_N-CJhkq_y"
   },
   "source": [
    "Split String\n",
    "\n",
    "The split() method returns a list where the text between the specified separator becomes the list items."
   ]
  },
  {
   "cell_type": "code",
   "execution_count": null,
   "metadata": {
    "colab": {
     "base_uri": "https://localhost:8080/"
    },
    "id": "EFTJM9xBkT9f",
    "outputId": "70312b33-806b-44b7-dc47-d5fe54c20169"
   },
   "outputs": [
    {
     "name": "stdout",
     "output_type": "stream",
     "text": [
      "['Hello', ' World!']\n"
     ]
    }
   ],
   "source": [
    "a = \"Hello, World!\"\n",
    "print(a.split(\",\")) # returns ['Hello', ' World!']"
   ]
  },
  {
   "cell_type": "markdown",
   "metadata": {
    "id": "6vdcXdfwmIAd"
   },
   "source": [
    "String Concatenation\n",
    "\n",
    "To concatenate, or combine, two strings you can use the + operator."
   ]
  },
  {
   "cell_type": "code",
   "execution_count": null,
   "metadata": {
    "colab": {
     "base_uri": "https://localhost:8080/"
    },
    "id": "-jNwQhT7kzkZ",
    "outputId": "16bcaf0d-a3df-49e0-e937-ce1300f0948f"
   },
   "outputs": [
    {
     "name": "stdout",
     "output_type": "stream",
     "text": [
      "HelloWorld\n"
     ]
    }
   ],
   "source": [
    "a = \"Hello\"\n",
    "b = \"World\"\n",
    "c = a + b\n",
    "print(c)"
   ]
  },
  {
   "cell_type": "code",
   "execution_count": null,
   "metadata": {
    "colab": {
     "base_uri": "https://localhost:8080/"
    },
    "id": "ICbgZUzAmOa2",
    "outputId": "09d569c4-fd10-4d78-cadf-d986f37c4474"
   },
   "outputs": [
    {
     "name": "stdout",
     "output_type": "stream",
     "text": [
      "Hello World\n"
     ]
    }
   ],
   "source": [
    "a = \"Hello\"\n",
    "b = \"World\"\n",
    "c = a + \" \" + b\n",
    "print(c)"
   ]
  },
  {
   "cell_type": "markdown",
   "metadata": {
    "id": "z4q_78_RmtW5"
   },
   "source": [
    "String Format\n",
    "\n",
    "As we learned in the Python Variables chapter, we cannot combine strings and numbers like this:"
   ]
  },
  {
   "cell_type": "code",
   "execution_count": null,
   "metadata": {
    "colab": {
     "base_uri": "https://localhost:8080/",
     "height": 200
    },
    "id": "PvkfnR6PmR9X",
    "outputId": "3e73c080-6016-4c34-e3d4-68b05461d10c"
   },
   "outputs": [
    {
     "ename": "TypeError",
     "evalue": "ignored",
     "output_type": "error",
     "traceback": [
      "\u001b[0;31m---------------------------------------------------------------------------\u001b[0m",
      "\u001b[0;31mTypeError\u001b[0m                                 Traceback (most recent call last)",
      "\u001b[0;32m<ipython-input-72-4d1b227cff41>\u001b[0m in \u001b[0;36m<module>\u001b[0;34m\u001b[0m\n\u001b[1;32m      1\u001b[0m \u001b[0mage\u001b[0m \u001b[0;34m=\u001b[0m \u001b[0;36m36\u001b[0m\u001b[0;34m\u001b[0m\u001b[0;34m\u001b[0m\u001b[0m\n\u001b[0;32m----> 2\u001b[0;31m \u001b[0mtxt\u001b[0m \u001b[0;34m=\u001b[0m \u001b[0;34m\"My name is John, I am \"\u001b[0m \u001b[0;34m+\u001b[0m \u001b[0mage\u001b[0m\u001b[0;34m\u001b[0m\u001b[0;34m\u001b[0m\u001b[0m\n\u001b[0m\u001b[1;32m      3\u001b[0m \u001b[0mprint\u001b[0m\u001b[0;34m(\u001b[0m\u001b[0mtxt\u001b[0m\u001b[0;34m)\u001b[0m\u001b[0;34m\u001b[0m\u001b[0;34m\u001b[0m\u001b[0m\n",
      "\u001b[0;31mTypeError\u001b[0m: can only concatenate str (not \"int\") to str"
     ]
    }
   ],
   "source": [
    "age = 36\n",
    "txt = \"My name is John, I am \" + age\n",
    "print(txt)"
   ]
  },
  {
   "cell_type": "markdown",
   "metadata": {
    "id": "gvaS3zQ8m3_J"
   },
   "source": [
    "But we can combine strings and numbers by using the format() method!\n",
    "\n",
    "The format() method takes the passed arguments, formats them, and places them in the string where the placeholders {} are:\n",
    "\n",
    "se the format() method to insert numbers into strings:"
   ]
  },
  {
   "cell_type": "code",
   "execution_count": null,
   "metadata": {
    "colab": {
     "base_uri": "https://localhost:8080/"
    },
    "id": "hACGqUfvmw2U",
    "outputId": "58e3462f-e5ab-48fd-d06c-b421a49605f1"
   },
   "outputs": [
    {
     "name": "stdout",
     "output_type": "stream",
     "text": [
      "My name is Ashish, and I am 32\n"
     ]
    }
   ],
   "source": [
    "age = 32\n",
    "txt = \"My name is Ashish, and I am {}\"\n",
    "print(txt.format(age))"
   ]
  },
  {
   "cell_type": "markdown",
   "metadata": {
    "id": "QqOZ0V_unLDH"
   },
   "source": [
    "he format() method takes unlimited number of arguments, and are placed into the respective placeholders:"
   ]
  },
  {
   "cell_type": "code",
   "execution_count": null,
   "metadata": {
    "colab": {
     "base_uri": "https://localhost:8080/"
    },
    "id": "g6nnr_35m_7v",
    "outputId": "c49c018a-fbab-43ff-f3c3-37faf903307e"
   },
   "outputs": [
    {
     "name": "stdout",
     "output_type": "stream",
     "text": [
      "I want 3 pieces of item 567 for 49.95 dollars.\n"
     ]
    }
   ],
   "source": [
    "quantity = 3\n",
    "itemno = 567\n",
    "price = 49.95\n",
    "myorder = \"I want {} pieces of item {} for {} dollars.\"\n",
    "print(myorder.format(quantity, itemno, price))"
   ]
  },
  {
   "cell_type": "code",
   "execution_count": null,
   "metadata": {
    "colab": {
     "base_uri": "https://localhost:8080/"
    },
    "id": "8nIfyzzVnQav",
    "outputId": "395daa11-1a68-484b-c7ee-62fc6b40f4ab"
   },
   "outputs": [
    {
     "name": "stdout",
     "output_type": "stream",
     "text": [
      "I want to pay 49.95 dollars for 3 pieces of item 567.\n"
     ]
    }
   ],
   "source": [
    "quantity = 3\n",
    "itemno = 567\n",
    "price = 49.95\n",
    "myorder = \"I want to pay {2} dollars for {0} pieces of item {1}.\"\n",
    "print(myorder.format(quantity, itemno, price))"
   ]
  },
  {
   "cell_type": "markdown",
   "metadata": {
    "id": "CL9pQASWnngb"
   },
   "source": [
    "String Methods\n",
    "Python has a set of built-in methods that you can use on strings.\n",
    "\n",
    "Note: All string methods return new values. They do not change the original string.\n",
    "\n",
    "Method\tDescription\n",
    "\n",
    "capitalize()\tConverts the first character to upper case\n",
    "\n",
    "casefold()\tConverts string into lower case\n",
    "\n",
    "center()\tReturns a centered string\n",
    "\n",
    "count()\tReturns the number of times a specified value occurs in a string\n",
    "\n",
    "encode()\tReturns an encoded version of the string\n",
    "\n",
    "endswith()\tReturns true if the string ends with the specified value\n",
    "\n",
    "expandtabs()\tSets the tab size of the string\n",
    "\n",
    "find()\tSearches the string for a specified value and returns the position of where it was found\n",
    "\n",
    "format()\tFormats specified values in a string\n",
    "\n",
    "format_map()\tFormats specified values in a string\n",
    "\n",
    "index()\tSearches the string for a specified value and returns the position of where it was found\n",
    "\n",
    "isalnum()\tReturns True if all characters in the string are alphanumeric\n",
    "\n",
    "isalpha()\tReturns True if all characters in the string are in the alphabet\n",
    "\n",
    "isdecimal()\tReturns True if all characters in the string are decimals\n",
    "\n",
    "isdigit()\tReturns True if all characters in the string are digits\n",
    "\n",
    "isidentifier()\tReturns True if the string is an identifier\n",
    "\n",
    "islower()\tReturns True if all characters in the string are lower case\n",
    "\n",
    "isnumeric()\tReturns True if all characters in the string are numeric\n",
    "\n",
    "isprintable()\tReturns True if all characters in the string are printable\n",
    "\n",
    "isspace()\tReturns True if all characters in the string are whitespaces\n",
    "\n",
    "istitle()\tReturns True if the string follows the rules of a title\n",
    "\n",
    "isupper()\tReturns True if all characters in the string are upper case\n",
    "\n",
    "join()\tJoins the elements of an iterable to the end of the string\n",
    "\n",
    "ljust()\tReturns a left justified version of the string\n",
    "\n",
    "lower()\tConverts a string into lower case\n",
    "\n",
    "lstrip()\tReturns a left trim version of the string\n",
    "\n",
    "maketrans()\tReturns a translation table to be used in translations\n",
    "\n",
    "partition()\tReturns a tuple where the string is parted into three parts\n",
    "\n",
    "replace()\tReturns a string where a specified value is replaced with a specified value\n",
    "\n",
    "rfind()\tSearches the string for a specified value and returns the last position of where it was found\n",
    "\n",
    "rindex()\tSearches the string for a specified value and returns the last position of where it was found\n",
    "\n",
    "rjust()\tReturns a right justified version of the string\n",
    "\n",
    "rpartition()\tReturns a tuple where the string is parted into three parts\n",
    "\n",
    "rsplit()\tSplits the string at the specified separator, and returns a list\n",
    "\n",
    "rstrip()\tReturns a right trim version of the string\n",
    "\n",
    "split()\tSplits the string at the specified separator, and returns a list\n",
    "\n",
    "splitlines()\tSplits the string at line breaks and returns a list\n",
    "\n",
    "startswith()\tReturns true if the string starts with the specified value\n",
    "\n",
    "strip()\tReturns a trimmed version of the string\n",
    "\n",
    "swapcase()\tSwaps cases, lower case becomes upper case and vice versa\n",
    "\n",
    "title()\tConverts the first character of each word to upper case\n",
    "\n",
    "translate()\tReturns a translated string\n",
    "\n",
    "upper()\tConverts a string into upper case\n",
    "\n",
    "zfill()\tFills the string with a specified number of 0 values at the beginning"
   ]
  },
  {
   "cell_type": "markdown",
   "metadata": {
    "id": "24XG9Yo8oF35"
   },
   "source": [
    "**Python Operators**\n",
    "\n",
    "Operators are used to perform operations on variables and values\n",
    "\n",
    "Python divides the operators in the following groups:\n",
    "\n",
    "Arithmetic operators\n",
    "\n",
    "Assignment operators\n",
    "\n",
    "Comparison operators\n",
    "\n",
    "Logical operators\n",
    "\n",
    "Identity operators\n",
    "\n",
    "Membership operators\n",
    "\n",
    "Bitwise operators"
   ]
  },
  {
   "cell_type": "markdown",
   "metadata": {
    "id": "icZWWY_gpYHs"
   },
   "source": [
    "![Arith.jpg](data:image/jpeg;base64,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)"
   ]
  },
  {
   "cell_type": "code",
   "execution_count": null,
   "metadata": {
    "colab": {
     "base_uri": "https://localhost:8080/"
    },
    "id": "w9jQf5mupfdM",
    "outputId": "02f3578d-2e8e-417b-8070-5b12ed80163f"
   },
   "outputs": [
    {
     "name": "stdout",
     "output_type": "stream",
     "text": [
      "8\n"
     ]
    }
   ],
   "source": [
    "x = 5\n",
    "y = 3\n",
    "\n",
    "print(x + y)"
   ]
  },
  {
   "cell_type": "code",
   "execution_count": null,
   "metadata": {
    "colab": {
     "base_uri": "https://localhost:8080/"
    },
    "id": "6EGc3NI_plP-",
    "outputId": "62820d6b-9de3-4a15-e0f8-80e2db8084b8"
   },
   "outputs": [
    {
     "name": "stdout",
     "output_type": "stream",
     "text": [
      "1\n"
     ]
    }
   ],
   "source": [
    "x = 5\n",
    "y = 2\n",
    "\n",
    "print(x % y)"
   ]
  },
  {
   "cell_type": "code",
   "execution_count": null,
   "metadata": {
    "colab": {
     "base_uri": "https://localhost:8080/"
    },
    "id": "yHB_u9y6prTg",
    "outputId": "e54c785a-899b-4c9b-84c2-2d45fab3ebce"
   },
   "outputs": [
    {
     "name": "stdout",
     "output_type": "stream",
     "text": [
      "32\n"
     ]
    }
   ],
   "source": [
    "x = 2\n",
    "y = 5\n",
    "\n",
    "print(x ** y) #same as 2*2*2*2*2\n"
   ]
  },
  {
   "cell_type": "code",
   "execution_count": null,
   "metadata": {
    "colab": {
     "base_uri": "https://localhost:8080/"
    },
    "id": "X57SJn1rpzct",
    "outputId": "d8457cbf-38f5-4e2f-b1bf-2f8af1ed98ef"
   },
   "outputs": [
    {
     "name": "stdout",
     "output_type": "stream",
     "text": [
      "7\n"
     ]
    }
   ],
   "source": [
    "x = 15\n",
    "y = 2\n",
    "\n",
    "print(x // y)\n",
    "\n",
    "#the floor division // rounds the result down to the nearest whole number\n"
   ]
  },
  {
   "cell_type": "markdown",
   "metadata": {
    "id": "rUCCUNKjpeGt"
   },
   "source": [
    "Python Assignment Operators\n",
    "\n",
    "Assignment operators are used to assign values to variables:\n",
    "![assignment.jpg](data:image/jpeg;base64,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)"
   ]
  },
  {
   "cell_type": "markdown",
   "metadata": {
    "id": "vA493NbTqt_h"
   },
   "source": [
    "![comparision.jpg](data:image/jpeg;base64,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)"
   ]
  },
  {
   "cell_type": "markdown",
   "metadata": {
    "id": "zlGqQZ8jsVzV"
   },
   "source": [
    "![logical.jpg](data:image/jpeg;base64,/9j/4AAQSkZJRgABAQEAYABgAAD/2wBDAAIBAQIBAQICAgICAgICAwUDAwMDAwYEBAMFBwYHBwcGBwcICQsJCAgKCAcHCg0KCgsMDAwMBwkODw0MDgsMDAz/2wBDAQICAgMDAwYDAwYMCAcIDAwMDAwMDAwMDAwMDAwMDAwMDAwMDAwMDAwMDAwMDAwMDAwMDAwMDAwMDAwMDAwMDAz/wAARCAFXAxYDASIAAhEBAxEB/8QAHwAAAQUBAQEBAQEAAAAAAAAAAAECAwQFBgcICQoL/8QAtRAAAgEDAwIEAwUFBAQAAAF9AQIDAAQRBRIhMUEGE1FhByJxFDKBkaEII0KxwRVS0fAkM2JyggkKFhcYGRolJicoKSo0NTY3ODk6Q0RFRkdISUpTVFVWV1hZWmNkZWZnaGlqc3R1dnd4eXqDhIWGh4iJipKTlJWWl5iZmqKjpKWmp6ipqrKztLW2t7i5usLDxMXGx8jJytLT1NXW19jZ2uHi4+Tl5ufo6erx8vP09fb3+Pn6/8QAHwEAAwEBAQEBAQEBAQAAAAAAAAECAwQFBgcICQoL/8QAtREAAgECBAQDBAcFBAQAAQJ3AAECAxEEBSExBhJBUQdhcRMiMoEIFEKRobHBCSMzUvAVYnLRChYkNOEl8RcYGRomJygpKjU2Nzg5OkNERUZHSElKU1RVVldYWVpjZGVmZ2hpanN0dXZ3eHl6goOEhYaHiImKkpOUlZaXmJmaoqOkpaanqKmqsrO0tba3uLm6wsPExcbHyMnK0tPU1dbX2Nna4uPk5ebn6Onq8vP09fb3+Pn6/9oADAMBAAIRAxEAPwD9/KKKKACiiigAooooAKKK5vxh8ZfB/wAPPF3h3w/4g8V+G9D17xhNJb6DpuoanDa3mtyxgNIlrE7B52RWUsIwxAYE4zR1sH9fcdJRRRQAUUUUAFFFFABRRRQAUUUUAFFFFABRRRQAUUUUAFFFFABRVXXNcsvDGi3mpaleWun6dp8L3N1dXMqww20SKWeR3YhVVVBJYkAAEms/4efEfw98XfBen+JPCevaL4n8O6tH51jqmk3sd7ZXqZK7opo2ZHXIIypIyDR/X37fk/uD+vu3/NfebVFFFABRRRQAUUUUAFFFFABRRRQAUUUUAFFFFABRRRQAUUUUAFFFFABRRRQAUUUUAFFFFABRRRQAUUUUAFFFFABRRRQAUUUUAFFFFABRRRQAUUUUAFFFFABRRRQAUUUUAFFFFABRRRQAUUUUAFFFFABRRRQAUUUUAFFFFABRRRQAUUUUAFFFFABRRRQAUUUUAFMuP+PeT/dNPplx/wAe8n+6awxX8Gfo/wAio7o/DD/ggZ/wQ6/Zd/bp/wCCf9v8RPil8Mm8S+M7zxRrNpJqS+JNWsWMcN2yxAR211HECo7hMnvmvf8A9jjWPEf/AAS4/wCC0F9+yyvj7xH4u+BvjvwFJ448M23ijU2vrrwVLBJKstvHcyNuFrsgmO1uAPLPUO8ngX/BAf8Aa1/ak+FH7Adt4f8AhT+yLD8WvB48U6w0Hiyb4qaXoEbSvdsZEazniaYCNuCQTuxkV91fsGf8E8viY37Y/iz9qH9pDUvCt38WfEmir4Y0Lw34aMsuj+DdHDbzAJZAGnnkbl3xtBMm0kPhe2PMnB09I+zV09E26Vl7vV8/LK9tk2nrrpmVnXxClrL2srPdpKtd69Pc5o2vu0rO1j7C+FHxi8I/HnwTbeJvA3irw34z8N3jOlvquhanDqNjOyMUcJNCzIxVgVIB4IIPNUviF+0R8P8A4SeKNL0PxX468HeGda1y3ubvTtP1bWrayur+G3QyXEkMUjq0iRIC7soIRQS2BzXwH/wRl07/AIYY/bz/AGmv2Sbj/RdB07VU+JvgCB3HOjaiQs8UY/uQTCKP/eLn3Mv7H/hSw/4KK/8ABZf9oP40a1Z2Ou/D74M6efgz4VguoxcWt1dEGTWZDG2VPzSNCTghklwc4rGN6ns3T2lBzd+llZp+lVqm+t7u2jMZWh7RT+zJRVut3dP5071Pla9yb4Hf8F1/APjH/gqb8bfA/iT44fBDTPgr4Q8P6PL4Q1ZvEunW9rrF5PEkl2RevPsuHjZmTZGwCAYK7gTVf/grbqdvrX/BV/8A4Jy3lncQ3dnd+K9fmgnhcSRzI1laFXVhwykEEEcEGvK/2Qf2A/gR4m/4OAf2tvBmpfBT4Sah4P8ADfhbwxcaRoVz4P0+XTdLlmtImleC3aExxM7EliigsSSc10X/AAXv+EE3xM/4KAf8E/8AwToWr3ng2HUvFGt6cLzSG+y3FhZ/Z7ETJbso/dObcSRoygFCwIwQCJw+v1Ka+Jzi1fr7893r5LrZHVKPLWxMXpFUZXt0vhk9F53bfeTZ+jEP7Xfwnufi63w/j+J/w7k8eqdp8NL4jszq4Pp9l8zzv/Ha9Er8yf8Agsf/AMEdP2c/B/8AwSs+KWseC/hL4I8D+Kvhr4bn8SaH4i0PS4rPWIbixTz1Ml4g8+feEKsZncktuzuAYZn7cv7f3xK8J/8ABvr8GfFnh3XJtN+LHx00zwr4Vt9ciJWa1vNTt0NxcowxskKJMVfIKswIOQKrV05OCvJShFLZSdRtR9NYtO+i0d97c/L765tItTk3u0oJOXr7rurdmrbX++PiJ+3D8FfhD43j8M+LPjB8LvC/iSRgiaTq/iqwsb52OMAQyyq5PI4x3Fem2l3Ff2sc8Ekc0Myh45I2DLIpGQQRwQRzkV8i/Ar/AIISfss/Bv4K2PhK/wDgx8P/ABxfLbbdT8ReJ9Dt9V1rV7hx++uZLuZGlV3cs3yMoUn5QuBXhf8AwRz07UP2KP8Ago7+0r+yPYalqeofC3wTb6b4z8BW19ctcyaDaXyhriySRiW8pZZFCqxyNjMcl2Y3FRdT2N/es2n0fLq1rqvdvJX3Seidk8ZSap+2tZXimnuuZ8qfZ+84ppbXum0mffVr+058Nb7TPFV7D8QvA81n4FvH0/xLOmu2rReHrlPvQXjB8W8i90l2sPSrHwa/aD8A/tGeHJNY+Hvjjwf480iGTyZL7w7rNvqltG/90yQO6hvYnNflD/wST/YX8F/tY/t7ftvax8T9LsfHXhLw38aNTTSvCWsQLd6Mt+8k3m309q4MU8oiMccfmhhGDKVALk11nxG/Zx8I/wDBOH/g4e/Zrk+DOg6X8P8Aw78f/D2v6P4t8PaJALPSrw2Ft9ohmW2jAijcO0X3FA/dk4Bdi04aLqOlGW9SKat0bpuevrayttdN9Ut8ZFUpV1DVUpSTv1UZ8ja81vru00tLN/rFX5t/8FgP+UuP/BO3/sb/ABF/6R2lfpJX5t/8FgP+UuP/AATt/wCxv8Rf+kdpU0/97w//AF8h+ZdP+FX/AOvVX/03M/SSqPiXxPpvgzQbrVdY1Cx0nS7GMy3N5eTrBb26DqzuxCqo9SQKvV+W/wAWfhxZ/wDBWj/gub41+EvxIkudW+CP7MvhvS9UfwgZ3j0/xHrl+qzRXF4ikedHFGzAI3GYwOVdwyV5VI0o7yu/RRTk3+FkuraV0tVnoqcqsto2+bclFL72rvoruztY/QH4PftjfCL9obXbrS/AHxU+HHjnVLEFrmz8P+JbLU57cDgl0hkZlx3yBXo9fnH/AMFbv+CPnwT0j9iLxv8AEL4U/Dzwj8Hfil8I9IufGPhfxJ4J0q30C8trqxia42SNbIgkR1jZCHDY3ZGCK8x/b3/4KCfED4//APBG/wDZdh8PaxceE/HH7XWs+HfBWqaxYfu5dOS9Qi+lhIxtLshUYwQsrYIOCKjea5aa9/mhGz2bqNqLv0V009LrRrmvZHK4tSn8LU3ftyJOSt1dpJrXW9nbd/pFp37ZHwh1j4sN4BtPip8N7rx0jmNvDkPiayfVlYcFTaiTzcjuNtdB8N/jZ4M+M762ng/xd4Z8Vt4b1CTSNXGjarBfHSr2P/WWs/lM3lTL/FG+GHcCvm7Q/wDghF+yX4f+BsPgS3+B3gNbeGzFqmu/2XF/wkSuB/x8rqePtSzhvnDrICD0wOK+Yv8Ag1m8I3Pw+8IftZaDeaxqHiC80P44axp8+qXzbrrUpIkija4lPeSQqXY+rGnFRc5U+0W79HaUY7dPi6+XmZybUYz7tK3Ve7J+j2Pr7/gmN+zH8G/2XPAPxB0r4MfEC8+IWmat421DUtfuLnxVF4gfStWk2G4s2kj/ANU8fybkkzNlt0jMzbj7J8Zv2j/h3+zjo8OofEPx54L8B6fcNsiufEWt22lwyt6K87oCeegNfm7/AMEJPizbfAT9i/8AbX8dXkTT2fgz4z+N9cniXOZEtrW3mZRjnkIRV/8A4I1f8E6fAv7an7Ntj+07+0d4X8P/ABo+LXxuabWpJfFthHq1hoGnGaRbSxsrWdWihiSNQwwu4b8ZwBT5ZSjDl2VKlJ36c8E4xXfaSv0UddWk9KloylKV7ynUS8+WXvSb+av3clbS7X6T/DP4s+FfjV4Th17wb4m8P+LdDuCVi1HRtRhv7SUjqFliZkPUdD3rjfFH7cvwT8D/ABFTwfrXxh+Fuj+LZJPJTRL3xXYW+ou/TYLd5RIW9tuap+HP2Yfg7+yZ8CfHOk+G/D/hX4T+BNaju9T186SkWj6fab7VYZrrjEUGIYkywCqNmSM5J/L/AF7xX/wTU8Ufs8a74F+E/wCzTr/xmsobKfSRq/gL4QX+tapHIFKGWPWJoUlaRW+YSi4OcZDEdca1VRlJxV1FJ26ve67JJqyb3vqlYqnTbS5na7tfou3q/Ly6n6mftvnd+xZ8XCP+hL1j/wBIZq8F/wCDen/lC/8As/f9i63/AKVT14B/wRy+K3iD4t/8GzF5deI9RvNVvdH8IeKtFgnuyTOLW1+2RQRsTz+7iVEHoqAdq9//AODen/lC/wDs/f8AYut/6VT1sqap1sRGLurUWn3T9u07dNHscNSUpTw/MrNKun6p0E/ldaH1x438Z6b8OfBmr+INZuo7HR9CsptQvrmT7tvBEhkkc+wVSfwr8sf2Ovg740/4OCrHVfjh8bPFXjjwx+z1qWo3Nj4B+F3h/V59Ht9VsoZDEb/VJrdllnd3VgEDAKVYqQpAb7M/4LJ2uoXn/BKH9oqPS/M+2N8P9YK+X97aLSQvj/gAb/61Yn/BCnVNP1b/AII+/s7yaZLBNbx+C7KBzEflE8alJlP+0JVcH3BrOlFSnUlNX5VC19k5Od21s3aFlfa7e9rddWTjCnGOnM5XfVqKhZJ9m53feyWzd/Ffib/wbzeBfgF4Dvte/ZB8QeN/2evippSm+0ubTfFeo3uj61OgyltqNreTTpLA5AU8ccEhwCh9x/4I6/8ABQ64/wCCj/7G9r4s17TIfD/xA8L6lceF/GelR5CWOrWpAl2g8qjqySBSTt3lcnbk/VVfl7/wbtwfbvjV+3Zq+nf8izqHxw1SPT9v+raVHlMxXgDkSRcjrx7ZFVlH2sXqlBzSfRxlCOnZNT1W10nutZqxXLCpHR86i7dU4Tlr3s4Kz3V2tnp9/QftffCW6+Ec3xAj+KHw7k8B28720viRfElmdIjlRirxtdeZ5IZWBBUtkEYNb3wo+NHg748eE49e8D+LPDPjPQ5mKJqOhapBqNo7DqBLCzITyOM1+Qv/AAbQf8E7fh/+0j+wlJ41+L+gaL8UrW18Wa1Y+FtB8R2MWoaR4dt/PH2h47SVTE1xNNvZpnVnCJGqlQCD6N8Yv2ffC/8AwSq/4Li/s16p8FdJsfAvhH9pJdW8LeM/Cmkx/ZdHuZLSCOW2u4rZcRQyK0q/cAGFbABdy20YfvKdKf8Ay8UbW6OUeZJ+r08m+quzXEU+WdeNPX2Upp36xhJqTXmknLztpa6P1F8beOtD+Gvhi71vxHrGleH9FsE8y6v9Su47W1tl/vPJIQqj3JFYPwX/AGjvh7+0holxqXw78eeDPHum2riKe78Oa3bapBC5zhWeB3VTweCe1fjR+3D+3t+zr8Tv+C4Xj3wz+2B4wWx+D/wCsbG08HeDbvR9R1TSte1m4gSa5v7uC1glWQxLIYwswCkMuAQHzxP7Qf8AwUP/AGK/h1+29+zj8Sf2L9a8O+HfHX/CbWfhbxjoXhjwhqPhvTNe8O3zeXP9ohe0gt3eN9hUgF9zK2G8tSueE/fezfSo0lbWybtFvyeja3jF31acTPFfuudfyJt30TtHmaXmtl3kraLU/dvxD8Z/B/hL4i6D4P1bxZ4a0zxb4pSaXRdEu9Tgh1HV0hXfM1vbswkmEagsxRTtAycCqvwu/aD8A/HC+1q18F+OPCHjC58N3AtNXh0TWbfUJNKmOcRXCwuxic7W+V8Hg8cV+ZX/AAWY+Cw/aJ/4LkfsS+CptRvtN03xBpXiq21V7OYwzXNh9k3XdsHHzIJ4BJCWUhgspKkHBH3D4n/Y4/Z3/Zi/Zt+JVlB4V8CfB34feJdBex8XXuiwQeHbdrJYpYzLLLEECyKk0gEp+f5h8xIGF/zCrEPS/PZPRXjOUbt9I2W+rvfRJK9SjbEKgu0G3vpJXsl1f3fjp2E37c/wTt/iangqT4xfCyPxlJKIU0FvFdgNTaQnGwW3m+aWzxjbmt/48ftC+B/2aPAjeIvH3jTwj4F0h5fssF/4i1e30y0luGR2SESTOil2CMQoOSFbHQ1+Ov7RnjH/AIJ2/Fb9ijxl4V+DP7Mvij4gRf2Fd2um+KfAPwZvZ7vTZ44m8u6/tWeCKVhHIqlnaZgwB3blJz9kf8ElPD2i/t7/APBDv4JzfGjw54b+KGzQ3by/FOlwavG8tpLc2sE5W4VwZliXb5mN3zNzyc54i/1erON04cutrXUlLVdmuR91qtdwpyiq9OE/t82i1s48u/dNy8no9NUVv+CIX/BYTQP27P2X/DM3xJ+KXwrT40+JtZ1SGPwpZ6xZWeomGK5m8hIbAymdh9njDgkMzLlskc19ufFL4xeEfgd4Vk17xt4q8OeD9DhO2TUdb1KHT7VD6GWZlQdO5r8zP+DWn9kr4Val/wAE1fAPxIuPhl8Prj4iWeva4LfxTJ4ds21qALf3EKhLwx+cuIzsGH4X5enFVf8Agm/+zf4W/wCCwn7UXx4/aE+Pei2PxI03wj481HwB8PfC2vRC90Pw/ptl5YedbOTMTTTFlLNIp+ZGOORjpnG840oaPkU3/hSgtt3Jymr9NW79GqloyqSl/PKKS73m/lFKLtu9Erdv0u+DH7Rfw9/aO0ObVPh5478G+PNNt38qW78O61bapBE/91ngd1B9iaveNfjH4R+G3iHw/pHiLxV4b0DVvFt0bHQ7LUtThtbjWbgAEw20cjBppACDtjDHBHFflt/wWl/ZH8B/8EqtE+H/AO1p8AfC+h/CfxN8O/FWnad4l0/wvZx6XpnijRLuYQz2txawhYmO4phgm75ieWVCu7/wcNeCNS+L37UP7C/h/R9YvvDt14i+I89n/aNm+y6s4ZYYFleJv4ZBEX2t1VsEcis786g6a+Kqqbv3bhqn25Zp7aO6s7XcVH7NTc3tTlUT8oqWj9HHXXZp6Xsv0g8EftCeAfib4717wt4b8ceD/EHibwqVXWtI03Wbe7v9HLEgC5gjcyQ5IIG8DJBrn/GX7b3wX+HPxFTwf4h+L3wv0HxdI4jXRNR8VWNrqLMegFu8okyfTbXkvxZ/4J1eF/gJ+yD8VNN/Zj8B+D/hl8UNd8FXui6PquiWMOnXl3ceS3kGe4UBpZfMwVmmZmVmLbuWJ/Pn/glxf/sF3nwa8J/AP48fBnwN8Pf2iLOxWw8SWfxR8Hx22r67qLHEt1BqlzGS4nkJaMCdXO7CLgAkp3nN046tJabOTbl8O+iSTe7XMtLalT92HtJaJt67qNlH4vVt22TtvfQ/a6ORZo1ZWVlYZVgcgj1FOqvpGlW+haVa2NrH5NrZxJBCmS2xFAVRk8nAA61YqpWv7uxMb297cKKKKkoKKKKACiiigAooooAKKKKACiiigAooooAKKKKACiiigAooooAKKKKACiiigAooooAKKKKACiiigAooooAKKKKACiiigAooooAKKKKACiiigAooooAKKKKACiiigAooooAKKKKACmzjMD/7pp1FRUhzwcH1VgWjufAf/BtV8G/F/wACf+CYdh4f8ceFfEng3Xk8V63cNpuuaZNp12sUl2zRyGKZVfay8g4wRyK+/KKZcO8dvI0aeZIqkqmdu49hntmtalS6Tf2Ypf8AgMUv0LqSc6s6n88pS/8AApOVvlc/MD/g4Z1rxB+wz42+Ef7YHgOxF94m8DNf+BNXskKodUsdUtpVtA38TiG9EbhBkkyE8YJr6z/4JK/sey/sM/sA/D3wHqJ87xQtkdX8TXJbc93q14xuLt2Y8sRJIUBP8Ma184aj+zD+0R/wVR/ah+F/iD9oX4YeHvgb8H/gtrf/AAk1r4Oi8WweJ9S8YaxHkWtxNNbIsMVtFndsPzkllIIfKfo9U4ePs6Mk95SuvKG9vLmm5Ta/w3SeijEe/WjbaKs+0paq/nywtFS7NpO2/wCW3xa1L4lf8E1/+C1vxa+NT/A34tfGT4Z/HLwto+nWl18OdGTWL7R7+yjjhMNxbmVCkbCMsZWKqA6AFiGA7z/gpT8MPGvxh/4KPf8ABP8A8XaP4H8WXWkeHfEGs6h4inttMmuYfDSz2VrsF5LGpSD5gyAuVBZGAziv0NopUV7NUlv7KSa9FJyt9733sl5t6VKjlOpP+eDg/nTVNP5RS06u589/8FZvBesfEf8A4Ji/H7QPDuk6nr2vaz4C1iz0/TdOtXuru+ne0kVIooowXkdmIAVQSScAV81+Iv8Agmpr/wC23/wb7/CT4QXRvPAfxK8O+DfD2paO2rWkltNoutWNvEyR3ETL5keSHifK7k3k7SVwf0Yop/YlD+Zwaa3Tg5OLXmnK/qkTze9FtXSUlZ7NS5U0/JpWfdNn54fDn/gsJ8bPhr4W03wj8Wv2Lv2kb74sWsItbu78EaFa6v4V1O4Vceemo/aVjgjkI3bW3eXuxlsV1/8AwSj/AGMfiT4O+Nnxm/aP+OOnab4d+K/x2u7RR4YsL1b2HwlpFnH5VrZvOvySzlQpkZCVOxcYJZR9wUVUZ2k6jS5mmr7WT3sul7WfldKybTz5fc9kn7t07b3ttd9Unr6pN3aR8Af8EUfg14w+FX7Q37a194o8KeJPDdn4q+NGo6rolxqmmT2cWsWbbttzbNIqiaE9pEyp9ab/AMFBPgz4w8af8Fu/2HfFmj+E/EureFfCcXi0a5rNnpk8+n6MZrCNIftM6qY4fMYFV8xl3EYGTX6A0UUJeylSkv8Al2kl52hyflr6mmIl7X29/wDl65N+XNPndvTYK/M3/guovjDwB+23+xh8UvD/AMKviv8AFPQfhh4g13UdetPAfhmfXL62ikt7SOPKJhFLNu2+Y6A7GwTiv0yorOz54VFvGSkvVFU6nKpJq6lGUX6Si4v8GfCfgz/guh/wmXjDSdH/AOGO/wBuzSf7WvIbP7bqPwn8izs/McJ5s0n2o7IlzuZsHCgnBxXK/tg/s6/GL9ib/gpdN+1f8FPA9x8WvDXjzQIPDfxN8EafcRW+sMlvt+z6lY+YQs0qIioYs7jtIAxIXi/Raiq2lGpHSUb6+TXK012abXfW6s0mZ9JQlrGSSt6NSTv3TSa811V0fmJ+1P8Ath/HP/gq18A/EHwT+Dn7NPxu+FI+IEL6D4l8Z/FrRYvDdj4e02YbbmS3hE8k15I0ZZFEY4L57HHef8FGP+CR2qeP/wDgmt8K/h38FbyC38ffs232j+IPAb6iyrHqV3pkewQzMcKpmUlskhfMC5IXJH3/AF5/+09rvxK8M/BrUr/4SaB4X8UeOLWSB7TStf1CTT7O+i81fPTz0VjHIYt+wlSu/bu4zUyfLH3Lp80ZXWrTi7xa30i23az3d7lRu5pys0lJWeitJWlfzkkle6tZWtq38g/Dr/grt8bviloSeEbP9ir4+aJ8YvIW3nfXrK30/wAC2l0cK8p1l5sy26El/wB1C8jKNqgkg15b/wAGtPhnXvDfw9/aqj8Sapb65rkfxy1q11HUoIjFHqF3FHCJ51TJ2q7ksFycBsV6X4l/as/4KEfGPRtQ8MeG/wBkrwD8HtYvo2trfxl4l+K9lrum6eTkGcWdnB57kD5lDDGdu5WGVP0B/wAEwP2BrH/gnD+yXpfw9j1qbxRr095c634k1+aMxya5qt0++4uCpJIH3UUEk7UXOTk1tTtzTqyS1jyrXq5RloukUou99W3HdLTGp8MKcb6Sv6JRktX1bcla2lk726/NH/BDb9lzX9L/AGb/ANqvwh8SvB/ibw1p/j/4yeLJI7bWNNm0+TVNLvIbeIXEIlVTJDIu8LIoKtg4Jwa4P9jn4xfHb/gh98LJPgX8RvgF8YPjp8OfCV5cJ4D8a/CzRoteurvTpZWlSC+sfNSSCSMuw3E7edoDBQ7fqxRWd2uXl6QhB+apxUYvyas2mtuZrVOxrK07uS+1KS7pyd2vR6XXWye6R8D/ALcugfFD/gr1/wAEgPjF4b8M/DLxx8IfFXiIJB4e0XxpJb2Gqa1BbyWtyfNjildbYTlZoAkr9V3NhWzXL/s/f8FC/jF49/Z80v4P+Cf2O/jP8N/iNo+gw6FJf+KdIg0rwL4fZIfJa4hvfN8y8ijxvSKCHfJgLlc7x+kFFRUpxkqkF8M0rrzimr331u7pW/u8pUajXI+sG2n/AIuVvTb7Ktf53PzB/wCCNX7P3j74V/8ABu7r3gfxR4N8W6H42k0rxfEuiano9xZ6nM80l4YcW0iCUmXcpQBfm3DGcivoz/ghZ8OPEXwi/wCCSfwP8N+LNB1rwx4i0nQWhvtL1aylsr2yf7TM22WGRVdGwQcMAcEV9ZUVrze9OX8ypr/wWpJffzO/oYTpqU4z/ldR/wDgxwb+7kXrfUq67odn4n0S803ULeK8sNQge2uYJV3RzxOpV0YdwVJBHvX5d/s+fDH4+f8ABBXxL4i8E+Gfhh4q/aK/ZX1TUrjWPDieE5Yp/FngQzPvksjZyupu4SxJUxt13OSpcpX6nUVmk4z54Ozas+zW9mvJ6p6NO9nZtPZtShyS1V7runtdfLR9Gt1orfnR8SP+ClP7SH7afgW78H/s6/sufGb4Z6/ritYXHjT4waZB4XsfC0bja13FbebLNdyKCSqovDbSVcAqfp3/AIJx/sGeHf8Agm9+yFoPwv8AD95catLYiW+1jV7gYn1vUZzvuLp+uNzcKCSVRUXJxk+9U2ZS8LAdSCBU1tKNRQWslZvq7XsvS+tlu7N3srTrKUebaLul0u9L+btpfor2Su7/AIa/8G/X7Y3xU/Yo/wCCedxqV98FPiN8aPhTrnivV5tKuPhtYxatr2g3a3JjmtrnT5JInkhkKiVJombaWkVlHyk/UnwK+E3xa/4Kcf8ABTbwL+0V8Sfhn4i+DPwl+B+m3sPgHw34o8uHxFrmo3qCOe+u7VGb7MiIAAjHduRCCwLY9Q/4N/8A9kb4hfsSf8E8LLwL8T/D/wDwjPiqHxLq+oPY/bra9xBPdNJE/mW8kkfzKQcbsjuAa+2K6ubllTqPVxjG3k+RRd7dY3aXbdpyVzTGWnXxCjpGVSpe3VOo3o+0tG+6ejUXY/N/4+/Cj4tf8E1f+Cmnjj9o34afC/XPjR8LfjbpNja+PvDvhp0bxHouoWKGOC+tLeRlF0jRnaY1O7czklQAT67+z3/wUw+JH7WXxc8M6R4X/ZV+OngPwjcXL/8ACSeJPidp9t4Z/sm3WNyv2ezM8k11I8iog2hQofccgV9h0VjTvGMYS1UdvS90n3S2S3S0vZJGdX325LRy3fytfydkr9L62ve/5+/tw/Bnxh4t/wCC8/7F/jDSvCfiXU/CPhXSfFketa3aaZPNpukPNp7pCtxcKpjhMjEKodhuJwMmu4/4L2/sg+PP23f+Cani7wT8OLSDVvFEd9p+sQ6PNcCBNdjtLlJntCzELlwuQHIUsqjIzkfZVFKfvUadFaezbafn7R1E+2knts0tdy+f9863eKi15KPL66r7uh+bfiH/AIKE/Gb9rr9lXxR8Nfhr+yT8bvhd4wn8NXOlXupeONEi0jw74eQ2rxu1iyuZ9RdfuQxQwKHYoWKLmvWP+CCfwm8TfCn/AII6fB/wn4v8P654S8SWOlXsF7pes2Etje2TPfXLKJIZVV0JVlYBgMgg9DX2ZRTkoyVVSX8Tlv8A9u8+3l778/N30wVOzp8r0p3t8+Xfz91eXkuv5X/8EMvGnxQ/YA8Lab+yX8Q/2fvjFHquk+J9WltfH2n6Olx4KmsJp5blLmTUPMwjNuKrEEZssgbYdwW14C8HfGL/AIId/tPfF648O/B3xt8df2b/AIveI7jxvbr4Et4r3xN4Q1W4A+0W5sGdGuIX2qFKEBVRcncSp/UaihSkuWV/eUeVvvG0dGvWMZXWvMu2htNqTnfaUub0leTun/281Z6WffU/Lz9oDTvi3/wXd8U/DnwXL8FfiN8C/wBnnw34itfFPi/UfiLbQ6Tr/iVrVt0Om22npJJJGjMctLIQMAEEFAr+k/8ABXD4NeLviP8At0fsN6t4b8K+I9e0jwj8R577XLzTdMmurbRbcwRATXMkalYYyQRukKjjrX31RRG0XDkXwzVT1knF6/KEY6bJLrdvGrT9pGpGT+KEqfpGSktPnNvXq+1kuN/aF8Z+Kvh38EfE+veCPC3/AAnHizR7CS70zw+LtLQ6zMg3C3Ez/LGzgFQzZAJBweh/MP8A4KFftE+KP+CvP7KfiL4KaX+w38frP4i6vFHBp2s/EDw1Z6PoHhS6Z1D30OpyTksYlDEeSgaQfLjDYP63UVnOlGd41NYu2m34rVX8tVZNNPU6I1JQalDRrr/wP6WuqZxH7M/wz1X4L/s5+AvB+uazJ4i1rwr4esNIv9VfO7Up4LeOKSc55+dlLc88129FFdFatKrUlVnvJtv1epz0acacFTjskkvkFFFFZmgUUUUAFFFFABRRRQAUUUUAFFFFABRRRQAUUUUAFFFFABRRRQAUUUUAFFFFABRRRQAUUUUAFFFFABRRRQAUUUUAFFFFABRRRQAUUUUAFFFFABRRRQAUUUUAFFFFABRRRQAUUUUAFFFFABRRRQAUUUUAFFFFABRRRQAUUUUAFFFFABRRRQAUUUUAFFFFABRRRQAUUUUAFFFFABRRRQAUUUUAFFFFABRRRQAUUUUAFFFFABRRRQAUUUUAFFFFABRRRQAUUUUAFFFFABRRRQAUUUUAFFFFABRRRQAUUUUAFFFFABRRRQAUUUUAFFFFABRRRQAUUUUAFFFFABRRRQAUUUUAFFFFABRRRQAUUUUAFFFFABRRRQAUUUUAFFFFABRRRQAUUUUAFFFFABRRRQAUUV4P/wAFP/jN4l/Z3/4J6fGLxz4O1L+x/FPhXwveajpd79niuPss8aZR/LlVo2wezqQe4qoxu7IqnBzkoLroe8UVynxQ+MWgfAv4Oav438XaiumeH/DunNqOo3ZieQxxquTtjQF3YnhURSzMQqgkgV5v8Jf269N8c/EG18K+LvAfj/4QeINX0efX9GtfGUenKutWNv5f2qWKWxvLqKN4POhMkM7xTBZAwjKq5WW0m03tq/ub/JN+ib2TM6cueEZr7W34f5ryu0uqPc6K+Z/Bn/BTjRfHGqeA7q1+GPxWh8CfFDVYNK8J+Nri20uPSNaaeOSWCZYPt39owwyxxO6PPZxhlC/30DWNG/br8K+BfAPjXVry++IHiy+0/wCI194G0vSJ7DT/AO09V1YMDHpmmpbiGNoACdkt26skaSSXEyojSAV3Lk666dbpwVrb815x0tfVLdoqfu2v1+61pu99rWpy1v0fRNr6QorxFP2vfEq/Dy81af8AZ++N1vrttq0OlxeGSmgy6jeLLH5guknj1RrAW6/MrNJdoysuCuWTd4r+2b+2xefEb9gj4xXWg6d8QPhT4++H2p6Vpmq6ZqcsNnq2lPPd2UsbpcWNxPBJFNbzAh4LhwQzo2GV0E8ybaXTf8Py5lftfUmpPkjzP+t/8mfbFFV9Y1i18PaRdahfXENnY2ML3FxPKwWOGNAWZ2J4AABJJ6AV8+/Cj/gpF4d+JviXwbDeeBviR4N8M/EydrbwR4p1+ysotK8WSeVJcRLCsN1LdWrT28Uk0Qvre2MirtH7wqhqPvS5Vvp+N7fN2dlu7O17FPRcz8/uWrfolq3slq7H0VRXy3oP/BVjw34h0q88QRfDT4tQ/D/R/E154S1jxlPY6dHpOj3ltqUmmyNJGb37ZJb+cin7Rb20sSJIDI0ZjnWLqfir+33pvw78T+KrXSPh38SvH2j/AA/fyvF+u+HLbT3sPDTiBLmRHS5u4Lm7eO3kSV0sIblwGCYMv7uplKMVeTsrX9Fo7vstVq7LVa6opRbk4R1a0011u1Zd3dNWWuj00Pe6K+fvFX/BQ3Rbb4zHwD4P8B/Eb4n+In8K6d40gHhq3sEsrjTL2aeGKUXd9d21ujAwFvLkkR3VwYhLtlEafET9vxvhJ4ruE8S/Bz4waP4Ks9cg0GbxvLbaS2jRyzTx28U/kpqDaibZppUTzhZlBneSIwXFfaUXo22tdNmovftJ29brdMmTSjzdLJ6a6Ncy27x19NT6Cor5d+G/7dvjLxJ+3P8AFz4Z6l8K/ER8G/D+fS0h8VWtzpMNpp0NxZPcSXF952pCdo2K/u/ItmdVB8xVPNaXwm/4KYeGfiprXg+aTwP8SPC/gn4lXJs/BXjTWrOyj0XxVKwZ7dYUiupLy2FzEjywNe21usigAHe8aOUv3iTj1t5b7J9m9op6tppXaZPMknJ7K9/le79Fa7eyWrtdH0hRXzfD/wAFMPDNxe+PrpfA/wASF8IfCnVNW0vxl4tlsrKHSPD506ATzTHfdLc3UbJnb9iguHDDDpGSAe0/Z/8A2o9Y+OOuxWuofB34qfD2xvdNOqafqniP+x5bLUI90Q2K2n6hdPDKVlVglwsTMofGSjhVTaqJOHVJ/JptP5pNruk7bFS929+7j84u0l58r0l/LdXtdHrlFcH8e/jRqnwX0bSZ9H+HPjz4mX2sX/2FNO8LJYCa2HkyymeaS+urW3ihAi27mlBLvGoBLCvJdZ/4Kj+CfCP7PWueP9e8K/EbRZPCnjGz8C+IPDD6VDe6/o2p3V1a28KNDaTzR3Cst7azqbWWcvFMuwO58urpxc3yx1emnXVqK07Xklfa7S3aCXurme3+Sb/KLduybPpaivBdX/bmu9EGlaVN8Gfiw3xA1wXVzYeCopNBk1aawtjCsuovMupnT4bcPPEgE13HM7MQsTEHHoH7Pnx+0n9ozwJNrOm2OsaNdadfz6Rq+j6tCkOoaJfwNtntZxG7xl0OCHikkidWV43dGVjMddu1/kmk36JtJvpL3XZ6BL3d+9vnq7fNJtd0rq61O6orz7Tf2ktD1Txb8StFjtdWW6+FaW76szRR+XcCazF2vkHflsRnB3hPm45HNeZaZ/wUn0Px14V+HV54F+HvxH+Iet/EnwhbeO7Tw/pA0m11DTNInWPy7i6e+v7a1U75Vj8uOeRywYhSqlxMZKXw67L71Jr8ISfkotuyVwl7qvLRf8FL85RS7tpLVn0dRXhnin9uKPSZvDek6L8L/if4u8ea9ocXiO78G6bDpltq3h2xkJjEl/Je3tvZRN5waERrcu8jRymJZI4pZEpXv/BRjwfdfD7wfqXh3w/4z8YeKPHV5fadpPgzS7W2i15rrT5Gi1KKb7VPDa2/2N0dJZJrhItwVY3kaWJZLt1XpprezadrbpNNNq6TVmw1Ts+1/wAL69tNUnq1qtD6Aor5d/4Jt/GLxR8ZvG/7R134o03xh4dk0v4mixsfD/iO/tru68P248PaLJ9nX7Lc3NskbSSSTBIZmXM7E4dnAm+In7b/AI58Ff8ABRaH4Q6b8JfE3jDwvN4Mg8QvqejzaTFPbzSX/wBnaZzealBm1jXhlWFpi/Kq61dSny1KVPrUjGS+dP2lm/KN9dromU1GE5vaDs//AANQX3trTf5n05RXzXP/AMFPvCUOtX19/wAIb8RJPhjpniF/C138S0tbE+GYL9J/skilftf9oNAl5/orXS2Zt1kDMZRErSj6C8aeMtL+HXg/VvEGuX9tpei6HZzahqF7cPshtLeJDJJK57KqKST6CspSUYe0lot7/K+vbRp69Gns0aKLdT2S1ltZau92ret001ummnqjSorwHwF+33aeKNHuvEmvfDH4ofD/AOHMOiXPiKHxt4lg0yDSbiwhQS+c0UN7LfWvmQkyql3awPtUqypJ+7p3we/4KAaT8TPHXhjQtc+H/wASfhpJ4/t5LrwddeLLOxhh8VJHCbh0hW2up5baYW4877PfJbTlA+IyYpRHTTUnB7rddt9+zfK7J2bs7LRk3Tjzrbo++12u6V1drRXV9z3yivlHSf8AgrV4d1Twr4S8VN8J/jVa+AfGupJoum+KH0exktW1CSWSCG2a1jvH1D97cRiFJham3LSxt5ojPmDC/ar/AG5rnx1+xT+07pVn4f8AiF8IPij8Ofh1e64dP1a5so9UsobiyvDZahb3WmXl1Bgy2s6qUnEqPASyoCjNlUqctGVdK6im38le3rZp23s1LZpm1Gi5140G7OTS9LvlTfle69U1vofZdFfO/wCzz+2/H4y1vwP4T8R+A/iX4MufGGjG58N654kt7NLTxU0FvHLKI1iupbq3mMTGYRX8FtKVST5N0cirzfgH/go34e0P4I/B66tdM+L3xN1X4tTapYaAr6bpKazqNxYrcSSC6EL21lBuEDKkn7uIfIZGTLNW2Ij7GbhLo7eru47b3urW3uclOsppPbS/ysne+zSvutD6sorwfQP+ChHhO8+E/ijxHrWgeMvCmseD/EEPhTVPCeo2cE+uR6vcC3NnZRraTT2073C3dq0bwzvEFmy7x7Jdm/8AAv8Aawj+LvxA1TwfrngXxx8MfGWm2Eerronif+zpJr6weQxC6gm0+7u7Z0EqlGTzhKh2lkVZI2eevL328/d5tO/u+9pf3fe21NZe6rv/AIbXl17a6K+70Wp6zRXlPx//AGs9N+B3jTw/4R0/wv4s+IXjzxRbXOoad4Y8NJZ/bnsrYxLcXckt7cW1rDDG08KZlnQu8qqgdsgcv4q/b5g8NQ+DNLh+FfxU1X4jeNor+6t/ANtBpceuafa2Mohuru5lnvo9Pjt0keFVkF2wmNxF5XmAkgjqrr5edr3t3Ss7taKzvazHbW3z/wCH7N9E9X0ue/UV83a9/wAFPvBOj/DbwVr1t4Z+IOsal428WS+A4vDdjpUTazpWvRW9zNJYXcbzLHEyNavGZhI1uN6S+b9mJuBr6L/wUN8IWnw6+IGveNtC8YfDG8+GEttF4g0PX7W3udSg+1IjWZhGnT3cN19pMixxLbyyO0mYyocbaOjfRfc9E9H10lF6X0aezDld4x6y2XXRtarprFrW2qa3PeqK+LdH/am8b/Eb/go94R03WfAvxa+Efh9fhP4o1R9N17UdGmTVJ49Q0NY7mOCw1C8iM0CSSqDcqhX7QQoYNIBl+H/+CnniyXxn+zfpngv4b/Ej4s+E/i98Nbvxg+oTDw/Z+I7tovsHlGQPqFlZRyKt0WuFSMIWmh8jIWVU29i+SE/5vw96qtf/AAVJ6+neyWsml019dIPTv8a29dj7mor5v1D9u7wl8JpvjZqGual4+1Rvh/4m0zQDo02n2Mkkmo39jYvZ6ZpC2yrJOZ5LuFQbpywmlkzIsCgrNdf8FIvD3hLwR8StQ8aeBfiH8P8AxB8LfDM3jLUvC+tRadNql/pEccjfa7OSzvLiynUvFJFtFyHR1AkWNZI2fn5koe0e1r3+Sk/VqLu0r2Wu2papybUUtW0l83Zel20le13pvofRVFeFfCP9u6w+J/xO8N+G9S+HfxL8Cp450+fU/CmqeJLOxhtfEcUMccriOOC6mubWUQyrJ5N9DbSbQ427kdVpad+301p8RvD+i+Kvg78YPAWi+LNdfw5pHibXLfSTpl5eZlEKtHbX817As/kt5T3FtGpLRhihdQdJRcZqnLRt2t53tb1b0S3b0SMfaR5XO+i3fla9/RLVvZLVs+gqK+dv2A/G2teMvFf7Qkesavqmqx6L8V9S07T1vLp51sLVbKwZYIgxPlxKzuQi4UF2OOTWv8XP23l8BfFnWvBPhX4Y/Er4seIPC2nW2qa/D4VGkxLosVz5pthI2o31n50kogmYJbecyhBvCb4w+UJqVKnV2U4wn6KcFPV7aJ6vYqOspxX2ZSj/AOAycfxa0PcqK+VdC/b28dap/wAFFfFnwjg+D/i3WPCOj+HPDmrw6zYvpVvNp51Ga9Sa5vBdalFIbZBbqojht2uFeC5zGytCX6TVf+Cgn/CHeP8ATdP8VfB34weDvC2seKB4RsvGOq2+kf2PNeyXL2tqxih1CTUI4LmdUjhlktFVjPCWKK4at/ZSvGPWWiXW97W9W9Eur0V2DkkpPpFJv0cea/yWr7dT6Gor5T/Zw/4KAeMfih+0z8bvB/iT4V+INJ8IfDHxbLosXi6O50iLTdNs49ItL7zL8NqbXLPI0zOjW9sVWKaASCN1mCdV8O/+ChWk+OfFnhKC9+HfxN8KeFfiHcfZfCPi7WrSwj0nxFK8TzwKkUN3JfWvnwRySR/bbW3ztCNtkdI2lRvy2+0oyXpJXjfs5dE9X0uOXu81/stp/wDbrtJ+itq9krXtc+gqK+Uov+CtXhkeFND8WXHwu+Mtr8Pde1r/AIRyHxW2kWMtmmoteyWEVubSO8bUX826RYo5YrR4WM8R8wKWZe5+Hn7e/h3Xb3x5YeNvDPiz4Q6z8N9Ei8T63p/i1tOkeHSJftGy/WbTru7t2i3WtypXzfNUwndGAyFs4VIyp+1i/d116aJN/wDkrUv8LUtmmC1fKt9Pxdl9793/ABab6HulFeD+A/287HxJ8QNB0LxF8OfiV8O4vGiXDeFNS8Swaclr4naGB7pooktrye4t5jbRyTiK9htpCkbgqHR0Xl/gd/wVP8O/HLR/hx4gh+Gnxa8N+BPitNBZeHvFmt2GnwafPeTxu0VtJDHeyXsRdonjWZ7YW7sEKTMkkTvpyu/K1rou2rbSXk200k9W9Erk8ycHUWy1v0ta9/NJatrRJNt2Tt9QUV8i/AX/AIKW674i1346XPxF+Gfibwj4D+D/AIj1izuPF6tpkmm2On2FpDcH7TFFqM17JcMrO48i1KFXjHyuHUevfs//ALUesfHHXYrXUPg78VPh7Y3umnVNP1TxH/Y8tlqEe6IbFbT9QunhlKyqwS4WJmUPjJRwsUn7SMZw+1GM16SjzRv2bSbS62drlPS9+kpR9XF2du6Tau1orq9j1yiuN+A/xj/4Xt8PV8Qf8Ir4y8G7r68sf7N8UaZ/Z2oD7PcyQed5W5v3Uvl+ZE2fnjdGwM4HZU1qroOtv60CiiigAooooAKKKKACiiigAooooAKKKKACiiigAooooAKKKKACiiigAooooAKKKKACiiigAooooAKKKKACiiigAooooAKKKKACiiigArxv/gob+z1rn7WX7D3xS+Gvhu50qz17xt4dutJsJ9Tlkis4ppU2qZWjSR1TPUqjH2NeyUUa9Cqc3CSkuh8t/Fb4N/Gr9sT4E+LPhl8Q/Cfwt+H2j69pHl2eveHfHV/4kurO/ikiltnayn0exR4hJGGcfaASF2gfNuWGL9lz4pftNfGDw74p+NVr8P8AwrZeC/DmsaLY6Z4O1u81o6tc6pBHb3F5LPc2dobdI4Y3VLdUmJacs0w8tVb6qorOrShUjKM1dSTTT21TT09G19z3SaimvZ8vJpy2t8rW+5pNdVrZ2bT/AC1+B3x81D4v63+zD8GfDfjL4F/EK2+GPiiwlluvA/iW51fW5NJ03TbyH7dqumNBH/YeP9GjdZZrnNxcLCCrMDXv+of8E8vHGn6Bq2s6Rq3hQ+NtD+NN/wDFjwrBdT3A02+inge1NheyLEZIGkt57hTLFHN5TmNwswVo2+y6K1u+d1r++25N6aybpyva1t6UHbVb30dkpQhpGKtGKsl2VqkbX3+GrJdHs91c+Sf2k/2fvjl+1r8JdHt/FXh74T2smg+LINTu/AEPjLUrnw7430pbWWJ7LU9QOmRybPPmE/kGwmhc2kSSBxIWj830z/glT4qsv2dvj54V0Xw38E/hm3xa1LQtS0jw/wCEFmttE0P7Gtp9ojkdLSLzHZoJCJUt08zcu6NDmvv6ip5Um2la/wDwP/kU/LW1k2gqx9okp9Fb8/8A5J/reythfFD4f2XxZ+GniLwrqTTJp/iXTLnSrpom2yLFPE0TlT2baxx718sfD/8AY++Mniu0+Cvgv4iz/Dez8EfAnVLPVbbWdA1K8utV8ZyafbS21iJrKa1ii00Hek8oS5vMtF5akKxcfYlFEEoz51veL+cG3B+sW215vW+g6kVOPLLtJfKaSmvSSST66KzTPzN/ZD+EPxc/am/ZD8cfDG10v4eeH/hV4m+KfjK31bxO/iO7uvED2A8VahJdQQ6X/Z626SS7WgWVr5hGr+bsZlER774pf8ErzYftB/EjxVp/wF/ZX+Otj8RtVXXorr4lQLp+s+HLlreKGa1Fwuk6gby1ZoRMgYwNEZZE+cbWX70oqpWclK2trN9Wny3V+l3GL9223m7vTmlLu2/R3k/v95p9102t4P8ACP8AZb1r4eftma58QpG8MW3h3UPhzoHg+2sNLjkt/s1zYXWoTSbINuyO22XcSxgSMw2sCAAC3y/8Xv8Agkt43+KGt+MF1Lwf8CPF/iDVfGQ8TaT8VvFV7dah4usrIarDex6XDbtYN9hjt7cPaxG3vjEBGr+QpmkVf0YopfaUuqv98pc7/wDJvw0d1cUlzQcHs+X/AMlhyL/yX8dd7HzRf/sweOtG/a2+KOsafp/g/XPhr8btL06x8QT3fiC503WtAa2tLi0k+zWyWU8N2rxvEwL3FuVbePmAGeH+Gf7Fnxl1Twb8Gfhj4+uPhvH8Pfgfqem6jb+ItF1O8n1rxj/ZI2ack2nyWkUOnFsRSzsl1dAtEY0ULJvj+z6KVKKpvmS1vF/ODbg/+3G24+ut9BTjGUXBrRqS+Ulaf/gVlf0VrHz78Ff2XvFXwl+FPxy0uQeC9Y1T4i+Lde8RaPbags11pckV7GiwwX6bFYqSpWVE3DaxwW6V5v8AsG/sBeJf2av2jdY8WWvhXwN8E/BGoaZcxXPgHwJ421XxB4f1jU7iW2b+0RaXNnZWumvBHbGNVtLc+cLly7L5ah/sqinR/dOLj9mCgv8ACo8vz073V7SSUkmEoqScX1lKb/xSlzO3bW+2tm1ex86/8FBP2WfEn7TFr4FbSdK8H+OdD8NapNd654B8Yarcab4d8XRvbskP2t4bW7En2abZMkUttLEzqCQrojr4V4C/4JT+MvCn7P3jjwrY6b8H/BH/AAlXxo8N/Euw0Pwok9poeh6dYSaHLcWUYW2TdMDptyFdYkSd2WRlt/NaOL7/AKK0wtR4ebqU920//AZQkvxhHe7srJ2Kqe/Dkltr+KlH5aSe1lfV6nyd+3p/wT6X9o746+C/iTa+Afgz8WLrwzpF74fvfCPxMslOmXlvcSxTR3VtefY7xrS5hkiI4tpFljndSUKq1eufsc/BpvgX8G10WT4d/Cr4WNJfT3X/AAjnw9TOjWYYgBhL9ltPOlcKGd/s0XJC4bZvb1Wis6f7uHJHbX8Zcz9bybd3d62TtoFRKclJ7q34LlX4aeiR8v8AxP8A2e/jB4e+NHxX1L4d2/w21TQ/jJp1pDd3niLV72yu/DF1BZPZ+ZHawWkqX8TJ5T7DcWjAq67yGDL5H42/4JkeJta/ZV+BXw+1r4S/An4raj8K/BejaQNb1Pxlq/hLWvDurWCQZn0vVbHTp7sQPJBG2ENq48r5t4fan35RUwjyQcF1ad+vu8/LZ9Lc8rNWe2uhUpN+lmvv5b/fyq62301Z8AeMv+CSmuJq/wAPPFOveG/gz+1F4q0PwNZeCfEUPxdgKfa2tZJ54tTtL97LUZY5i1xLHLHJCxnUxO0yvERL6DbfsXeOPhn/AMKh8bfDvwL8DfCPi74b2+vaXP4D0m7udH8Jvp+qzRSulvewWJeO4je1tpDKbDbMxuAYot6un19RVyk397f3tt/fzPe7Sdk0rBzNy5n2t90VFelkla1lfVq+p4L+w98A/Hnwc1v4xa98QpfCP9sfFDxsPFUFr4duLi4ttNgOkabZC2aSeONpHjezdfNCKJQFk2QlzDHW+LXwN+Imjftv+H/i14D0/wAF+IrO48KP4O13Ttf1650aSyh+3x3SXdq8Nldid8GZTDIIQSIyJBlsfQdFVOfNUp1P5EkvRQ9nbz9xtd+t76mcoqUZxlrzO79eZTT07SSaW2lmmro+Hbn9gH4uP8Ddc/Z5juvh4fgrrniK7vz4sfVLz/hJrbSbnUW1KXTxpgtPszziSSS2W7+3KBGVmMDOpib6u/aJ+Cen/tHfs/eNvh3qlxc2Wl+N9BvdAubi3x51vHcwPCzpnjcofIzxkc12lFYTpQlS9lJaNWfmrW/Ltbq9229Kc3TrKvT0ad12TvfRevTbZJJJJfKk37Pfxq/aE/Zy8RfBP4taf8L9J8F654MvPCt34o8L+IL681TVJJIBbRXK6dPYwxWQKl5WT7XdbWCxhnBMgPCH7NXxj+MHxX+EWrfF5fhtoum/BG4m1Owk8J6re6hN4t1KTTp9OW4miuLWAadCsVzPJ9nSS7ZnkRfOCxEzfVdFbyqTlNzb1e/m9dbbJ+8/hsnpdNpWzUIqCppaK6XkmkmvNNJb3fZq7PlXw/8AsOeLNK/Yu+Dvw5k1Dw62ufD7xZomu6jOs832WaCy1QXkqwt5W9nMYwoZFBbglRzTv2rf2HPFnx11v9om40nUfD1tH8XPhHbeAdI+1zzK1tfRtrBaW42xNtg/4mEOGTe3yyfIMLu+qKKy5F7J0X8MnJv/ALejGD/8lijalVlTqe1jvaK/8Anzr/yb8ND5d8Ffs6/Fr4ofGr4W6x8TNP8Ah34V8NfBUXN5otp4a8Q3mu3ev6hLYS6ck9w89hZraxRW09wfJQTmR51O9BD+8539nv8A4J8+M/hPo37MdvqOp+GJpPgtqHiG61s21xOwul1CG8jhFtuhXcVNwm/f5eAGxu4z9iUVdSTqO83d7/O9/wA+1kcqw8Fa3RWXktNPw+9t9T41/aF/4Jlat8fvDHxws7648EXUnjj4haN498OWet6cdX0m5OnadplubPVLWRArQzvZTxsELlY5lkBLrsrtf2IP2UpPgN421vVG/Z9/Zq+CK3lilqJfhrL9svtVPmbitxN/ZOneXEm0EJtm3M2cpsw/0rRRTfJpHsvwhGF+7fLGK1utLpJ3ZtW/e/H/AFZ8yXyd382fP37RfwG+IVv+074R+MXwuh8H65r2j+H77wlq/h7xPqtxo9nqFjczQXMdxFe29rdvDPDPbgbDbukqTvlo2RSee8b/AAN+NjfGLwH8aNF0/wCF198RdN8P6l4V8R+FLvX76y0OaxurqK6ge21NbGafz7Z7eNCz2SpcCWU7YCqLX1FRUwXKoqP2XLl205ubmt/i55Xvd+87NaWJWle63tfzatyt+ceWNumiumfHHhf/AIJ4eNLLU/hr4i1PWfC83ii2+L958VvGUdu86WUJudJvLEWVgTGWmEIltkEkoi80RSSlYiwhG3+0R+wF4h+OOrfG+4t9b0PS5fHcnhTVPDM0yTXC2moaHP8Aao/tkS7MwPPHEpEchYxs+CrAV9WUVEqceRQj7qi01bpaMYRte/wxjG177a3D/l5Gq943freU5O/q5yv01tsfKvh74AfGv4pftd6T8TPiBpvwt8K6fo3w/wBe8HQ6P4e8Q3+tzNc391pk6XTXM9jaKYytm6GIQhoyisHm84rBxnwz/YQ+LX7OXw+/ZZ1DwvF8O/FnjP4GeAbjwJrel6r4gvNI0vUEubewWS5tr2OwuZcxy6egVHtlDpMSWjKBW+3aK6fbPkUFsrfnUf4+1nf10tZBrzcz31X4Rj+UI/NXe58bfEr/AIJ3eNvGmp/GjXrDW/DGm+IvE3xF8O/Efwb5rz3Fql1pFhp0Qtb8eWrLFNJZzRl4t7JHMsgBdfLqv8Z/2H/ix+1n4e+MfiDxsvw88J+MvGHwv1L4Z+FtF0XW7zV9LsUuw0sl5eX8tlbSs0k3kr5cdpiJIC26Vpdsf2jRXN7GHs/ZW01t5NwVNtPu6aUdbq2yT1NFWkpqp1Tjr35Zc8U/JS97S2t76aHifin9m/Xdc+KvwJ1yG80uK1+GNvqEWqAyP5szXGm/ZEMA2FWxJyd5X5fU8V8p/Db/AIJMeNtF8YfDa/1vwZ8Bbrxb4B8a2XiLWPixPeXeqeOPHdvDPK0rTPNYJJZSujRnyvtl1Cqx+QmyMIyfoxRWn/L/AOs/a5lL5xaa+V1qtn1vpbk+rw+rywq+GSs/Tl5f/SXa+66WPHf2S/2fNa+A+v8AxeutYutLuY/H/j698VaeLOR3aG1mtbSFUl3Iu2UNA5IXcuCvzHkDw3/goT+wB4k/au+K39saN8M/g/JrdjZRx+G/iaPGeseE/G3hC4MNxCSkmnWby3kMRneVIDe28UhdkdVx5p+1KKz9jH2dOm9oKMVq1pGKitVZ3slqmnfVM6acnCUpR3k5N9dZNyejumrt6NNW0aPmPQf2afih8G/2x4viB4fk8JePNL8V+DvD/g/xVda/rdxo2pWZ0y4vHbULeOGyuY7qSZb6VjC8luFeJR5hDkp89ar/AMEjPHXiDxP4fm1Lwb8A9W8U+HfiRpfjK5+LurX13qPjjxFZWuuQ3ptSH08NYsLRBAgS9nhCW6wrHFHKHg/SGiuqnWlGvDEbyg7p+fMpra2iktFtbR3SVs+RKDgtmkn10UeTrfXl6vW+qs7t/LeifsjeOPD3xy+OmmSWPhHWPhP+0Bevqeram3iC5stf0F30S30uS3hshZSQXKk2kbiVruEqJn+RvLHmed/sef8ABNm+/Zv8b+B4Lv8AZ3/Y9t38GyeRJ8S9BsBZeJtQiijkSK7j05dJVba7mHl+ZjUpFQvKylxhK+6KKxp+5JSW6UV8oXUP/AU2l0a+LmKqe+mn5v5y+J22vKyb7W0tqfJh/YP8Xn9h34f/AAz/ALS8N/294U+IGkeK7uf7RN9kktbTxRHq8iRt5W8ym3UqoKBTJgFgvz1u/tD/ALBVx+0r8WPjFJrWqWtj4P8Ait8J7b4ds1szNqFpMtzqkks/lsnllAl9EV+cksjgqBgn6WoqVFKkqPROTXR3lBU3qtfhSt2epVGbpK0O0Y/KM1Nf+TL5rQ+K/wBlL/gn5ffBn4iaDeXn7OH7Hngu80G1uIJfHPgqy8nXNQY20kAkgs/7Jg+wGYuGcC+udiGSIebu8xei+Fv7CPi7wR+w/wDs4/DS61Lw3Jr3wf1bw9f6zPFcTG0uU08kzC3YxB2Zv4N6ID3K19ZUVUm5SjOW6lCXzhJzjotF7z1SSXkZSpxlSlR+zJOPylHlavvs93dny34H/Zw+Kvwl8b/HPS9L0b4VeJfBPxW1fUfE9je67qt59otru5063txYXemLZtFPamaA75Vu0YxS48olfm5n9g39gLxL+zV+0brHiy18K+Bvgn4I1DTLmK58A+BPG2q+IPD+sancS2zf2iLS5s7K1014I7YxqtpbnzhcuXZfLUP9lUUUf3XK4/ZgoL/Clypedo2Wt9lL41zDnFSTi9nJy/7ebu35Xd3p3a+HQ434D/8ACwv+Fer/AMLO/wCEN/4Sv7deZ/4Rf7T/AGf9k+0yfZP+Pj955v2fyvN/h8zft+XFdlRRQtFYrrcKKKKACiiigAooooAKKKKACiiigAooooAKKKKACiiigAooooAKKKKACiiigAooooAKKKKACiiigAooooAKKKKACiiigAooooAKKKKACiiquq63Z6DbrNfXdrZws2wPPKsaluTjLEDOAePagC1RWL/wsfw9/wBB7Rf/AANi/wDiqP8AhY/h7/oPaL/4Gxf/ABVAG1RWL/wsfw9/0HtF/wDA2L/4qj/hY/h7/oPaL/4Gxf8AxVAG1RWL/wALH8Pf9B7Rf/A2L/4qj/hY/h7/AKD2i/8AgbF/8VQBtUVi/wDCx/D3/Qe0X/wNi/8AiqP+Fj+Hv+g9ov8A4Gxf/FUAbVFYv/Cx/D3/AEHtF/8AA2L/AOKo/wCFj+Hv+g9ov/gbF/8AFUAbVFYv/Cx/D3/Qe0X/AMDYv/iqP+Fj+Hv+g9ov/gbF/wDFUAbVFYv/AAsfw9/0HtF/8DYv/iqP+Fj+Hv8AoPaL/wCBsX/xVAG1RWL/AMLH8Pf9B7Rf/A2L/wCKo/4WP4e/6D2i/wDgbF/8VQBtUVi/8LH8Pf8AQe0X/wADYv8A4qj/AIWP4e/6D2i/+BsX/wAVQBtUVi/8LH8Pf9B7Rf8AwNi/+Ko/4WP4e/6D2i/+BsX/AMVQBtUVi/8ACx/D3/Qe0X/wNi/+Ko/4WP4e/wCg9ov/AIGxf/FUAbVFYv8Awsfw9/0HtF/8DYv/AIqj/hY/h7/oPaL/AOBsX/xVAG1RWL/wsfw9/wBB7Rf/AANi/wDiqP8AhY/h7/oPaL/4Gxf/ABVAG1RWL/wsfw9/0HtF/wDA2L/4qj/hY/h7/oPaL/4Gxf8AxVAG1RWL/wALH8Pf9B7Rf/A2L/4qj/hY/h7/AKD2i/8AgbF/8VQBtUVi/wDCx/D3/Qe0X/wNi/8AiqP+Fj+Hv+g9ov8A4Gxf/FUAbVFYv/Cx/D3/AEHtF/8AA2L/AOKo/wCFj+Hv+g9ov/gbF/8AFUAbVFYv/Cx/D3/Qe0X/AMDYv/iqP+Fj+Hv+g9ov/gbF/wDFUAbVFYv/AAsfw9/0HtF/8DYv/iqP+Fj+Hv8AoPaL/wCBsX/xVAG1RWL/AMLH8Pf9B7Rf/A2L/wCKo/4WP4e/6D2i/wDgbF/8VQBtUVi/8LH8Pf8AQe0X/wADYv8A4qj/AIWP4e/6D2i/+BsX/wAVQBtUVi/8LH8Pf9B7Rf8AwNi/+Ko/4WP4e/6D2i/+BsX/AMVQBtUVi/8ACx/D3/Qe0X/wNi/+Ko/4WP4e/wCg9ov/AIGxf/FUAbVFYv8Awsfw9/0HtF/8DYv/AIqj/hY/h7/oPaL/AOBsX/xVAG1RWL/wsfw9/wBB7Rf/AANi/wDiqP8AhY/h7/oPaL/4Gxf/ABVAG1RWL/wsfw9/0HtF/wDA2L/4qj/hY/h7/oPaL/4Gxf8AxVAG1RWL/wALH8Pf9B7Rf/A2L/4qj/hY/h7/AKD2i/8AgbF/8VQBtUVi/wDCx/D3/Qe0X/wNi/8AiqP+Fj+Hv+g9ov8A4Gxf/FUAbVFYv/Cx/D3/AEHtF/8AA2L/AOKo/wCFj+Hv+g9ov/gbF/8AFUAbVFYv/Cx/D3/Qe0X/AMDYv/iqP+Fj+Hv+g9ov/gbF/wDFUAbVFYv/AAsfw9/0HtF/8DYv/iqP+Fj+Hv8AoPaL/wCBsX/xVAG1RWL/AMLH8Pf9B7Rf/A2L/wCKo/4WP4e/6D2i/wDgbF/8VQBtUVi/8LH8Pf8AQe0X/wADYv8A4qj/AIWP4e/6D2i/+BsX/wAVQBtUVi/8LH8Pf9B7Rf8AwNi/+Ko/4WP4e/6D2i/+BsX/AMVQBtUVi/8ACx/D3/Qe0X/wNi/+Ko/4WP4e/wCg9ov/AIGxf/FUAbVFYv8Awsfw9/0HtF/8DYv/AIqj/hY/h7/oPaL/AOBsX/xVAG1RWL/wsfw9/wBB7Rf/AANi/wDiqP8AhY/h7/oPaL/4Gxf/ABVAG1RWL/wsfw9/0HtF/wDA2L/4qj/hY/h7/oPaL/4Gxf8AxVAG1RWL/wALH8Pf9B7Rf/A2L/4qj/hY/h7/AKD2i/8AgbF/8VQBtUVi/wDCx/D3/Qe0X/wNi/8AiqP+Fj+Hv+g9ov8A4Gxf/FUAbVFYv/Cx/D3/AEHtF/8AA2L/AOKo/wCFj+Hv+g9ov/gbF/8AFUAbVFYv/Cx/D3/Qe0X/AMDYv/iqP+Fj+Hv+g9ov/gbF/wDFUAbVFYv/AAsfw9/0HtF/8DYv/iqP+Fj+Hv8AoPaL/wCBsX/xVAG1RWL/AMLH8Pf9B7Rf/A2L/wCKo/4WP4e/6D2i/wDgbF/8VQBtUVi/8LH8Pf8AQe0X/wADYv8A4qj/AIWP4e/6D2i/+BsX/wAVQBtUVi/8LH8Pf9B7Rf8AwNi/+Ko/4WP4e/6D2i/+BsX/AMVQBtUVi/8ACx/D3/Qe0X/wNi/+Ko/4WP4e/wCg9ov/AIGxf/FUAbVFYv8Awsfw9/0HtF/8DYv/AIqj/hY/h7/oPaL/AOBsX/xVAG1RWL/wsfw9/wBB7Rf/AANi/wDiqKANqsXxR/yHPDf/AGEX/wDSS5rarF8Uf8hzw3/2EX/9JLmgDaoooJxQAUV8x6v/AMFj/wBnLRtQ1kP8QLm60Xw5rMPh/V/FFl4Z1e88J6TfSmELDca5DatpkJBuIQ7SXKrGXAcqQcfS2manb61p1veWdxDd2d3Gs0E8LiSOZGAKurDhlIIII4INNJuPOtu/TVXX3pp+juEtHyvfX8NH9z3JqKKKQBRRRQAUVzdl8Y/COpfFG88D2/irw3ceNdNsk1O78Px6nC2qWto7BVuJLYN5qxMxADlQpJAzXSUbq6/rW35q3qHW39d/yCiiigAooooAKKKKACiiigAooooAKKKKACiiigAooooAKKKKACiiigAor5U1j/gtX+zro+qfEG2/4SjxlqCfCi9uNO8Y3umfDjxLqWn+G5oC4mF1d2+nvBGq+W53mTbhSwJHNfSPw5+JPh34weCNN8TeE9e0fxP4d1iLz7HVNKvI7yzvI8kbo5YyUcZBGQTyCO1OKbjzrZ216aq6+9aryCT5Zcj31066Oz+56Ps9zaooopAFFFFABRXlv7MX7UP/AA00njBv+Fd/FL4e/wDCIa9PoOPGmg/2Sdb8rH+mWP7x/PtHz8kvy7sHgV6lQtUmuqT+T1QdWu2n3BRXAf8ADTPhHX/hF4s8ZeDdSt/iZY+D471bu08GXEOtXk93aRl5bCJInIa84CCEsrb3UHGan/Zt+N//AA0f8E9B8a/8Ih448B/27E8v9g+MdK/svW9P2yPHtuLbc/lsdu4DccqynvRHVXXk/k72++zB6Wv1bXzVr/ddHcUUUUAFFFFABRRRQAUUUUAFFFFABRRRQAUUUUAFFFFABRRRQAUUUUAFFFFABRRRQAUUUUAFFFFABRRRQAUUV8zaN/wV5+Bvizx94w8MeHtS+I3i7Wvh/q0uh+IovDXwu8U65HpN7G7I8Mktnp0se7cjYIYhgpIJHNF1e3Xf5aK/4r70Fnbm6Xt89Xb1sm/k+x9M0VT8O67D4o8P2OpW0d5Hb6hbpcxJd2ktncIrqGAkhmVZYnAPKSKrqchgCCKuU5Jp2YoyTV0FFFFIYUUUUAFFeGfss/8ABQHwb+1z8c/jL8P/AA3pviax1n4H63FoOuzalbwR2t3PIJCrWrRzOzp+6bJkWM8jg9vc6FrFSW0kmvNNJp/NNMPtOPVNp+TTs18mFFFFABRRRQAUUUUAFFFFABRRRQAUUUUAFFFFABRRRQAUUUUAFYvij/kOeG/+wi//AKSXNbVYvij/AJDnhv8A7CL/APpJc0AbVeT/ALefhjxb41/Yi+L2j+A2uF8bap4N1a00L7O5SY3r2cqwiNty7XLlQrbhgkHIxXrFFY4ij7WlKk/tJr71Y2w9Z0qsaqV+Vp/c7n48/sW/Fb4a6H/waQ+Kre9vdHs7bw34D8R+HfEFnOVjlstcke5VbaeMnclxJPPAyowDN50ZA+Za8d+G958afgz8Bf8AglL8M/EHjf4jeA5PG2ratY+IdO0jWbnSJr3Smnt5LK0ulTYTstJUQBhvj3HayuAw/ZbX/wBhr4J+K/jAvxC1T4O/C3UvHyXcOoL4luvClhNrC3MOwQzi7aIzeZH5abX3bl2LgjArx3/got/wSk0L/goz8e/gJ4s8TaxpP/CP/BfWbzU7/wANap4dj1ez8VxXAtwbaXzJVSNR5HJaOUHd90Y57ZVufEqvNL36lOUl0ShzX7tpub0tokl7xz06ap4X6vB/BTrKL+05Tp8sbvTVOK1uk5PmdrHwD4w/bT+NH7G3xW/4KLeF/g74s8afEjwz8HPDmj6z4Zm8RazdeLZvB2oXCQJexpcXjzSusMZupvJmd1VrJtyn95u9M/Yg8C/tAa9rn7Lfxq0b4t+FtF+HPii0gtvF48R/HLXvGB+JBvoomCW+nahp0VpYaiksUxWGzdNrF4h8qMrfp18G/gJ4F/Z08JN4f+Hvgvwn4E0GS4a6bTfD2kW+l2jTMAGkMUCIm8hVBbGSFHoK43wR/wAE+/gL8M/iNb+MPDfwR+EPh/xdZzvdQa3pvg7TrTUoJXDB5FuI4RIrsHYFg2SGOeprLD/unC/vOKgrvd8vNzK3VSUrav7K5ubSzxH7yM1H3b82i84wSfk04uWiunOXK49fzv8A+CLGg+OP2o/GXxs+Jfjz9oD9oC6074N/G3xJb6d4Wg8TeZol5aRRpi3uY3he5mgVX+S3E6woUUpGrFi3z1+0l/wUF8ZXnwE+Ef7TnwHj+JHw/wDAfiH4wW3h7T7rxP8AHDxB4lvfE1qTcxXEF54cuzcafb27tHJjZdNJH5SFVUMrL+5vwy+Cng34KwatF4N8I+GfCUevahJq2ppoulwWC6jeSY8y5mESr5kz4G6RsscDJNeeXP8AwTb/AGdbzxHdaxN8A/gtLq19e/2lc3z+CNMa5uLreZPPeQw7ml3szbyS24k5yanD2pzpOWqgqafm48nO+751G1rpK+ql0WIvOnVUNJT57PspKfL5Llcua9ru2jW7+DvBH7P3hvxD/wAHRvxUt9Q1TxxazH4W6b4ktI7XxxrNg9zOt/DuX9zdIZbQEYNo262HTyq8N039pDx98Zf+CdH7Y37Q3jX40/Ezwb8aPg/491DT/D2nad4tvdI0nwoLGW2+w6c+kJKtjdLO7NC5uoJWm3EElgxP7HfE79lL4W/Gzxzovifxl8NfAPi7xL4bKNpGra14etL++0spJ5qGCaWNni2yfONhGG5HPNUfGn7Fvwc+JHxYtfHviL4TfDPXvHVjLBPb+ItR8L2N1q1vJAQYHS6kiMqtGVUoQ2VwMYxXPToyjRjRTtaNSKa+y51faKcdvejH3ErrTZ2untzJVZVXreUJNPqow5HB7+7J+/fXVbdT8svFnxN+NH7aP/BUf9mDwB4k+Kvxg+CsfxT/AGdl17xbpXgrVjo7QalKl207rb3Ec0cEwICiTy/Pi2qFkRlBH68/CfwB/wAKo+F3h3wv/bXiDxJ/wjumW+m/2trt59s1TU/JjWP7RdTYXzZ327nfA3MxOBmq+ofBLwXq3xYsfHl14R8L3XjnS7JtNsvEUulQPq1nasWLW8d0V81IiXclFYKSzccmuorvqVlJNQXKm5O3rOcopeUVK3RabGHK/aObd9IJf9u04Qb9ZSg5d9QooorAsKKKKACiiigAooooAKKKKACiiigAooooAKKKKACiiigD8mf+CEfjPQfh38dv+CjOveKNS03R/Dej/FrULvU77UZkhtLS2R75pJJXchVQKCSScYr4z/Zz+P3xz/Yc/wCCBmn654Tk1bwX4B+KHxvay07Vp5pdPl8N+D70YeeK58qZ9PjmuEdVuljkaPzjJGC7IT+4nin/AIJmfs3+OfFWoa7rf7PvwR1jXNWuXvb3UL7wLpdxdXk7sXeWSV4C7yMxLFmJJJJJzXrvinwhpPjjwrqGha1penaxoeq2z2V7p19bJcWt5A6lHikicFHjZSVKsCCCQRipguWMX1UKcGujUHBu/fm5LWask38V7FPeaW0qlSpfqnPntb/D7RttNNuMbOJ+b3gP4R/tI/s5fGr4hap/wuf4Y/DrwN4x+F+oy+GfDniX4yav8QJdN1y2VfK12K71uxjlSxi8+Lz1UyRL5iMyPuQL4f8AsRftDfGD9mP9sf4F/C79pT4a/HrQfix40h1a703xKnx4uPFejeNryG2n81bzQEnezsrICcOnlKrRSQQbRsEpH6geCf8Agnb+z98M49ZTw38C/g74fTxFpsujasum+C9NtBqljKVMtrOI4R5sDlVLRvlW2jIOBWt8E/2LPg3+zT4gutW+HPwl+Gfw/wBUvrf7Jc3nhvwvY6VcXEO4N5byQRIzJuVTtJIyoPatI2U1K72affXn2e6+JXd7NJR5bRjaW/3bikr3+WqindbPZ26pttSTlK/5+/8ABGqW/wD+CgP7LGvfG344/F74o6b8UE8fXdtqum6b8QNU8N6V4HktLqGK30g6VBcx2QVlSPctzA8kv2khyzNuOD/wTM8C+Pv22v2+f2qp/FH7Qf7QGl6B8F/jkZ9E8NaR4rEOk3MMM9yy2NwssMkxsSq7GtYpY4WXqhZVZf0Y8YfsLfBH4h/FYePPEHwc+FeueOFuIbseItQ8J2F1qwmhCiGT7U8Rl3xhECtuyuxcYwK6zwB8EvBfwo1vxDqXhbwj4X8Nal4uvTqWu3WlaVBZz61dHJNxcvGqtNKdzfPIWb5jzzRSlyVFUWloKKS2Uk6b5vO/I91e71b3Cr71N0073nzXe/Ly1Vy+VudWtZWjokrI/Bn4oftn/GKx/wCCMH7ZXii3+LPxMt/E/hf9omfRNG1iPxPerf6RYC9s1Fpbz+ZvhgCsw8pCEwxGME19e+KNa8S/AT/guB8Afhf4P+JfxT8VeG/jB4A1e5+I/hzVfGupasmnqIJZIdWiEkzHTJJJxsVrXyI18vZEqZxX0z/wUU/4JF+C/wBtb9ibxl8G/B3/AAi/wbh8ca9beI9U1PRvC0Ei3l5HcRzSTzQRPbiaaXywrSs+7oTuxivbP2ef2N/hT+ylb3H/AArn4a/D3wLeajbw2+o3Xhzw3Z6TJqQizt84wRqXwWYgMTgsfU0YW0IRVRfDZNb8yWHjSfyc7ytu2r2vZixV5y9zqpf9ut1edP1UdE9t1e10/wAm/wDgkd8PLP4X/wDBKj9tLxt4f8ReO9M8aeD9c+IOn2rReNtXMenNFZiSKY2hujALxWVWF00f2jIz5lZ/wa/a3+K3xW+D3/BNX4d+KfiV4+0rwP8AHKHVZPG/ie31+7s9a8RXdpIz2dg2rpILqHzXCoRFKkkivtDYGK/XSP8AYs+DcPjrxF4oX4S/DNfE3jC1uLHXtXHhexF9rdvcAC4hup/K8yeOUAB1kLBwBkGr2r/spfC3xB8Fbf4bX/w18A33w6swgg8LXHh60k0WAI/mJts2jMK7X+YYThuRzWeHTpwpKfvciopp7P2UZRl/4E2pbW5laSa3KsVJNQ0u67v1/euDj/4ByuO+z0sz8ff2h/2sfiv8Gfhp/wAFIfhv4R+InxA1LwF8FbPSLrwb4ouPEF9ea14av7toHu9OTV5JWuZdjM4AkleSMKV3YJFd5a/E74h/s/ftbf8ABNy8sfiv8VPEEnx40CeDx1Br/ia51Cw15RpdlJExsmYWkMkZkIEsEMcjkbpHkkZ3f9RNH/ZM+Ffh34L3Xw30/wCGfw/sfh3flzc+Frfw7ZxaLcb2Dtvs1jELbmAY5Q5IB61dvv2cvh7qeqeD7658B+DLi9+HqGPwrcS6JbPL4ZUosZWxYpm2GxEXERX5VUdAKrDfupQcnzW9nd9ZKCmpJ/4uZLrdRV7vUVSPOpJaXVWyWyc+Tlf/AG64uXk37qS0XZ0UUUFBRRRQAUUUUAFFFFABRRRQAUUUUAFFFFABRRRQAUUUUAFFFFABRRRQAUUUUAFFFFABRRRQAV+Nv/BEzwx8XNf/AGxv28G+G3jf4c+E7SP4x3ovY/Evgi98QyXD+febWje31axEagZBVlkJJByMYP7JV4f4s/4Jlfs2+PPE+oa5rn7PfwP1rWtXuZLy+v7/AMC6XcXV7PIxZ5ZZHgLO7MSSzEkkkk0oe7Uc+8XH75Qlfz+G1vO/QKnvU1DtNS27RnG3l8d7+Vup+fP/AAWy/aa+Kf7A/wC2b4D8U/Azx14v8efFLxV4Q1geJfhJHd3+oaI1lb2Ejr4ihsHllisDBLCpEaAG48tlUljO0mloP7Ufw/8A2Z/+CO/wP1O88ffG79pLxB8ePEFhpulaynxN1fQbzUfEV2rA20+ow3ay6XZwujwtBGXCtH80Uj73r9JvA/7KXwt+GXxCk8XeG/hr4B8P+K5tPj0h9a0zw9aWmoPZRpHHHameOMSGFUhhVY920LEgAAUYybT9hb4I2Hws1TwLB8HPhXD4J1u+XU9R8Px+E7BdKv7tduLia2EXlSSjYmHZSw2LzwKIxtCUHrdx7KyU3JxW9k07p62ktuVRUalJyaknaytbu+RRUntdxasuji3f3rt/lf8AB79o740fB79oj/goN8IdZ8Va9pul+AfhLL4s0DT1+Ieq+NJvCmoNpKNusta1CKG/w28S7HUCOT7nQs3mdp8X/jB4H/YR/wCCenxQ034/fG9fHfxd8cWnhHxBqN54nbULe4068muImRrG5SSynljBYx3FzBNMCw3SOI4hH+z3gH9hv4J/Cm31qHwv8H/hb4bh8SaadG1ZNK8KWFmuqWJG02k4jiUSwEcGN8pjjFaUn7Jvwrm8JeE9Ab4Z/D9tB8B3iah4Z00+HbQ2nh25Qlkns4vL2W8isSQ8QVgSSDzWtGShyc2rTp381Cc3Ja3+KElDW+iaejMqyc3daL95ZdnOnSiui0U4Tn6yT3Vz8nvHHx9+InwH+MX/AAU3+Geg/Er4kTeF/hr8MrfxH4SOq+Kr/VNS8N3suk+ZJJaX1zLJdRAyNvCiXCsAVC1zd18XviF8D/gF/wAE2viZ4Z+L3xd8R/FT4wa/oum+KNB1bxtqGq2fi7TLm2VbuSTTZpWtx9nRkXz44lYNMJZHeXEtfqn+1b+wX4N/aO+Cvxk0HS9J8M+DPGHxo8MXHhnWPGFroEEupTJJbtBE9w6mOS5WJSNqPKAAoAK1z3/BPz/glr8Kf2APhL4J03Q/Bfw9uvH3hXQotFvvHNj4Rs9L1jWyEVZZpZUDzAylQWVpXyepPWpwsnT5OfeHs7vrLllUcl6NOMXe+nR2srxN5ym4faU1btzQpxv5vmUpq3Xqm7n5ofD39oHx9+yvdf8ABWv4gfC+1+1eOPC/iuzutOb7KLr7ECbhJbrymBV/IhaSbDgr+6+YFcg+ufsQeBf2gNe1z9lv41aN8W/C2i/DnxRaQW3i8eI/jlr3jA/Eg30UTBLfTtQ06K0sNRSWKYrDZum1i8Q+VGVv1A8EfBTwb8M/E3iLWvDfhHwz4f1jxfcrea7f6bpcFpda3OuQst1JGoadxubDSFiNx55rh/BH/BPv4C/DP4jW/jDw38EfhD4f8XWc73UGt6b4O0601KCVwweRbiOESK7B2BYNkhjnqajC/uvZ315Y0o3/AOvceWSt1U97N20XMpacqxH7xVFHTmlVl/4Macb9nCzs0r+87OPX16iiimMKKKKACiiigAooooAKKKKACiiigAooooAKKKKACiiigArn/HF/DpV9oNzO2yGHUGLEKWPNrcAYA5PJHQe/Sugrj/jB/wAeWi/9hH/23noA1P8AhY+j/wDPxN/4Cy//ABNH/Cx9H/5+Jv8AwFl/+Jrg6KrlJ5jvP+Fj6P8A8/E3/gLL/wDE0f8ACx9H/wCfib/wFl/+Jrg6KOUOY7z/AIWPo/8Az8Tf+Asv/wATR/wsfR/+fib/AMBZf/ia4OijlDmO8/4WPo//AD8Tf+Asv/xNH/Cx9H/5+Jv/AAFl/wDia4OijlDmO8/4WPo//PxN/wCAsv8A8TR/wsfR/wDn4m/8BZf/AImuDoo5Q5jvP+Fj6P8A8/E3/gLL/wDE0f8ACx9H/wCfib/wFl/+Jrg6KOUOY7z/AIWPo/8Az8Tf+Asv/wATR/wsfR/+fib/AMBZf/ia4OijlDmO8/4WPo//AD8Tf+Asv/xNH/Cx9H/5+Jv/AAFl/wDia4OijlDmO8/4WPo//PxN/wCAsv8A8TR/wsfR/wDn4m/8BZf/AImuDoo5Q5jvP+Fj6P8A8/E3/gLL/wDE0f8ACx9H/wCfib/wFl/+Jrg6KOUOY7z/AIWPo/8Az8Tf+Asv/wATR/wsfR/+fib/AMBZf/ia4OijlDmO8/4WPo//AD8Tf+Asv/xNH/Cx9H/5+Jv/AAFl/wDia4OijlDmO8/4WPo//PxN/wCAsv8A8TR/wsfR/wDn4m/8BZf/AImuDoo5Q5jvP+Fj6P8A8/E3/gLL/wDE0f8ACx9H/wCfib/wFl/+Jrg6KOUOY7z/AIWPo/8Az8Tf+Asv/wATR/wsfR/+fib/AMBZf/ia4OijlDmO8/4WPo//AD8Tf+Asv/xNH/Cx9H/5+Jv/AAFl/wDia4OijlDmO8/4WPo//PxN/wCAsv8A8TR/wsfR/wDn4m/8BZf/AImuDoo5Q5jvP+Fj6P8A8/E3/gLL/wDE0f8ACx9H/wCfib/wFl/+Jrg6KOUOY7z/AIWPo/8Az8Tf+Asv/wATR/wsfR/+fib/AMBZf/ia4OijlDmO8/4WPo//AD8Tf+Asv/xNH/Cx9H/5+Jv/AAFl/wDia4OijlDmO8/4WPo//PxN/wCAsv8A8TR/wsfR/wDn4m/8BZf/AImuDoo5Q5jvP+Fj6P8A8/E3/gLL/wDE0f8ACx9H/wCfib/wFl/+Jrg6KOUOY7z/AIWPo/8Az8Tf+Asv/wATR/wsfR/+fib/AMBZf/ia4OijlDmO8/4WPo//AD8Tf+Asv/xNH/Cx9H/5+Jv/AAFl/wDia4OijlDmO8/4WPo//PxN/wCAsv8A8TR/wsfR/wDn4m/8BZf/AImuDoo5Q5jvP+Fj6P8A8/E3/gLL/wDE0f8ACx9H/wCfib/wFl/+Jrg6KOUOY7z/AIWPo/8Az8Tf+Asv/wATR/wsfR/+fib/AMBZf/ia4OijlDmO8/4WPo//AD8Tf+Asv/xNH/Cx9H/5+Jv/AAFl/wDia4OijlDmO8/4WPo//PxN/wCAsv8A8TR/wsfR/wDn4m/8BZf/AImuDoo5Q5jvP+Fj6P8A8/E3/gLL/wDE0f8ACx9H/wCfib/wFl/+Jrg6KOUOY7z/AIWPo/8Az8Tf+Asv/wATR/wsfR/+fib/AMBZf/ia4OijlDmO8/4WPo//AD8Tf+Asv/xNH/Cx9H/5+Jv/AAFl/wDia4OijlDmO8/4WPo//PxN/wCAsv8A8TR/wsfR/wDn4m/8BZf/AImuDoo5Q5jvP+Fj6P8A8/E3/gLL/wDE0f8ACx9H/wCfib/wFl/+Jrg6KOUOY7z/AIWPo/8Az8Tf+Asv/wATR/wsfR/+fib/AMBZf/ia4OijlDmO8/4WPo//AD8Tf+Asv/xNH/Cx9H/5+Jv/AAFl/wDia4OijlDmO8/4WPo//PxN/wCAsv8A8TR/wsfR/wDn4m/8BZf/AImuDoo5Q5jvP+Fj6P8A8/E3/gLL/wDE0f8ACx9H/wCfib/wFl/+Jrg6KOUOY7z/AIWPo/8Az8Tf+Asv/wATR/wsfR/+fib/AMBZf/ia4OijlDmO8/4WPo//AD8Tf+Asv/xNH/Cx9H/5+Jv/AAFl/wDia4OijlDmO8/4WPo//PxN/wCAsv8A8TR/wsfR/wDn4m/8BZf/AImuDoo5Q5jvP+Fj6P8A8/E3/gLL/wDE0f8ACx9H/wCfib/wFl/+Jrg6KOUOY7z/AIWPo/8Az8Tf+Asv/wATR/wsfR/+fib/AMBZf/ia4OijlDmO8/4WPo//AD8Tf+Asv/xNH/Cx9H/5+Jv/AAFl/wDia4OijlDmO8/4WPo//PxN/wCAsv8A8TR/wsfR/wDn4m/8BZf/AImuDoo5Q5jvP+Fj6P8A8/E3/gLL/wDE0f8ACx9H/wCfib/wFl/+Jrg6KOUOY7z/AIWPo/8Az8Tf+Asv/wATR/wsfR/+fib/AMBZf/ia4OijlDmO8/4WPo//AD8Tf+Asv/xNH/Cx9H/5+Jv/AAFl/wDia4OijlDmO8/4WPo//PxN/wCAsv8A8TRXB0Ucocx6xXH/ABg/48tF/wCwj/7bz12Fcf8AGD/jy0X/ALCP/tvPUlHL0UVyH7QXid/BXwH8aaxH4d1Dxc+l6Fe3Y0OwLC61gpA7fZYtoLb5MbBtBOWGATgUVqns6cqnZN/d6Jv7k/QKNN1JqC6tL7/u/NHX0V+W37CsPgnw9+2r8Eb/AOG2s/s4w2vibSNYs9b0j4P+GpbNbBFsI7iOy1bUY72WK9midU2G4tredmSWRUQGRBY+FvwF8G+Ff2APh/8AFLT/AA3pNt8TLP4qWcFv4rEIOtW0E/jY201tHdnMyWzwTTRtArCIrNICmHbO3LavCg9OZpPybkoq1tHvdtO3RX3OWjWVTmUd1/8AI83qu2qv1t0P0c+M/wARP+FRfB/xV4s+x/2h/wAIzo93q32XzfJ+0+RC8vl78Nt3bcbtpxnOD0q78O/Fv/CffD/Qtd+z/ZP7a0+3v/I3+Z5Pmxq+zdgbsbsZwM46Cvzl/aig+C+r6h+1RB8fLfwNr3xWT7fJ4B03xZZQ3+px6MujRNZnQ7aZGkaPz1undrNSfPSUudyfL+gP7O//ACb/AOBf+xesP/SaOscPJzjKb/lpNeXOptp/3lZKS+y1ZdTat7soQXeon58rgk/TVuL+0nfsdjRRRWgBRRRQAUUUUAFFFFABRRRQAUUUUAFFFFABRRRQAUUUUAFFFFABRRRQAUUUUAfMV9/wVD0TSbfxZrV58Mfina/D3wL4ivPDeu+NimjyaTp0trdfZZ7hoU1BtQNuknLSLaEqmXICqxH04jiRAykMrDII6EV+Xlr4O+J3iP8AZr+O0cf9m+LfgzffF/xVbeMvCehaHPF4wudHOqTfbTZ3puZIpmIxutls0leEzLFMk3ltWp+1l8QvBv7Qn7Rfh/xDr3xD/Z7t/gDrngexufA2p/FDwkfEnhC+1AXN2L4Qu+pWVrb6gkQtV2zb5zGJVjCBLgGacr0KcuslFvpbmpqf4u/L31W8WjbFU4wxFWCekZTSXlGpyK3VtLWXbR7SP0L1n4v+HfD/AMVdB8E3moeT4o8TWN5qWm2XkSt9pt7RoFuH8wKY12G5hGGYFt/yg4bHS1+Wl58Hfgl4T+JP7M/iD4y+IvhF8T/hyvhrxdosHjvxRo1rbeHbt/7Qtp9MsYZL+W4XyoYftcdoXuJN8UUjxuwZifS/in8efA/wMX9s3wv4m8SaL4f8QeMI5NV8M6LPMEv/ABDZN4UsoFmsLYfvLuMS208ZMCuFaFwcbTicRU9lRqVHq4qbXS7jKyWuqbWtrN2V7W2qhQ9pOEb2va73tfRv0T66dL2eh+gFFfn78M/gV4P+P/7TfwJ0fxx4d0vxZocf7PUEz6TqsP2rTbphd6dtM9s+YZ9pwyiVGCOquuGUMKrfsm/DX4rfEX9tTUPE3gnw9rt34Z1C3i0J760Wb/hHjH4U09klsA3FnMDt/fW4jkPlQ5Y+VHtMZVjh6c6s9oqq9O1KpKm/m+W6XTa/U5Mtl9bSa0uoffOEZr5LmtfyvbWy/QyqfiPVJ9E8PX17a6beaxc2dvJNFYWbRLcXrqpIijMzxxB3I2gyOiZI3MoyR+Y/7Wep+E9UtPhP428eeOP2bfFWsr8ONDnuPAXx2Ty7PUIpPMlur/SbyQukN9Pjy5GW0uWPk24fYCob9B/2V9YXxB+zN8Pb5PCup+BY7rw5p8ieHNRZ2u9BU28eLOUyAOXiHyEuA2V5AORXTKjJKonvCTi/vkr380r6XttKzVnNHERmqdSK0nFS181Ftaduaz2vurrVeR6f/wAFFtc1T4val4Dh/Zv+OjeKtH0q21u8svt3hEeTZ3Es0UMvmf255Z3PbzDarFhsyQAQT9LwyNLCrNG0bMoJRsbk9jgkZHsSK+a/BH/KW/4mf9kq8N/+nPWq+Yfhj+yj4b1v/ghv438SeH/A9jrHxN17wF4n06HVUsft2uXEclzekWcMzBpxCWAK28bCMN91MnnCjNShFzsk+a77WnKK8rWjdu/fpoumVP8A2n2Ef7tv+3oQk/xlou2/c/TSivh7V/2nPAv7Sf8AwUJ/Z7ufhj408M+OBp/hHxgr3eiX0eoWdtO0GlFIZJoi0ayjgtEzB1VlJUBgT88fsi+ENJ17xH8L73xX8afgH4P/AGhLXXtOk8UWC+AZrX4r6hfrcIL3Tbq5k1hrmeCdfMiaQ2htvszLLHGkKRlNKMeepGm9Lu3/AJM43S3drXdtVeK1bRlL+Aqy3avbs7Xs30v0v5vZH6peNvEV54V8NzX1joOreJrqJ41XTtNkto7mYNIqsym5mhiwisXbdICVRtoZtqnzu9/aB8Sa7+1DdfD7wn4V0XVdM8MWdje+KtZ1LXpbB9OW8abyYrS3jtJhdTBIGd1kkt1UPFh2LNt4n/grh/yj78ef7+m/+nK1rkfgP+z94Cvv+Csnx88WTeCPCM3inSdO8M3VjrL6NbtqFlNPa3sc0kU5TzEeRFVXZWBZVAOQAKyjP94k9rv8r26afO5FSejit9Pxf/A6pqzelz3T49/tD/8ACj/G/wALdG/sf+1P+FleKv8AhGfO+1eT/Z3+gXl55+3Y3mf8emzZlP8AWZ3fLg+lV8f/APBWpPBran+zw3xCvNJ0/wAER/EwSa1Nq18LLTxbDQ9WLLcyMyp5DYCSJIfLkRmRwyOynxPXo7E/Bz9o6b9nG1jt/gdI3hhYH8AxmPT7h1uiviZ9GFp8jf8AEt8hXeyGTOk4UmdWopyvCbe6k/utT37RTk25a9vTrqU1z0or7UVf1c5rTu7JaaaK/c/R7xL4is/CHhzUNW1Gb7Pp+l20l3dS7Gfyoo1Lu2FBJwoJwASewry/4r/teaX4I+F/w38X6HZ/8JNovxL8QaJpGnzec9ntt9TdRHdbXjLHarBvLZUJ6Eqa+RdN8DfCH4m/FnxB4e/Zp0nwJrvwp1j4Va9aeN9P8FW9tceFrzUna2GlRzRwA2rakV+2ZGPP8rb5ny+TXH+DfCvwN8S/8E7vgBo/w5tfh3DeXPjfwDbeOrbwp9ms75dQzGJI9SFrtmS53eaGWbEmd4P8QpR5nUS6c9BW2up1pU5p76WitVquZbtprixFRwg2v5KjvvZxpxnH53b0e6V+jT/Uiivlv9l/4UeF/wBnv9v/AOK3g3wH4d0XwX4Qk8FeG9aOhaHZR6fpiX0t3rEMt0ttEFiWaSK3gR3VQziGMMTsXHB/8FeNF8L3/in4f3niL4gfAHSJdNsdSlsPBvxstPM8HeKZDLZK0/nNKkcN7bxl1jk8u4dUu5cRbS7VpO0eW2z/AEvfRXb2e2ttdNbdXs2pyhLdJP1vFSW9kviS10TPrvWfi/4d8P8AxV0HwTeah5PijxNY3mpabZeRK32m3tGgW4fzApjXYbmEYZgW3/KDhsdLX5bX+hfAjxV8Rf2YvH3xa+E/wn+Gvw1uvCvizRIoPFkVndeHrSZb+1l0+KC6vIYozBLGt5c2askX7mV/LjUblrkv+Ck9/wCAPE/iL9orVobb9n34d/ETwrbmfRf7b8OTax8SPEktppVvNb6to1xHe202n26JHGsT20VxEhtJ53YfvUUjvyy396/koyt99mnZNvqtLtVSpxqcvK/iSt5t/kt/eemiW7SP1RsPi/4d1P4u6l4Dg1DzPFej6Vba3d2PkSjybO4lmihl8wr5Z3PbzDaGLDZkgAgnpa+B9e8C/BXQ/wDgrX/wknxY0X4WWeteL/APhqbwlqfiqysI7jVtbgv7yOQ2MtwoMl6itYKRETKFNuOmyvCfht4R0XxJ46hl+IXxo/Z++H3x+tfG+b3+1vAk8fxTFyNSDQWtrfPrKz3FrcW7RQQ+Tam2ktJhGsRj3JRTu3CMurmm1r8M+XRbvTX7v5rLGco2lKP8sGvWUFKzfTVtJ/5Xf63UV+bPxp/Zy8CfEb4c/t8eMvEHhTRda8WeEda1K78P6ve2wnvPDtxD4P0iaOexkbLWkwlVHMsBR2MUWWPlpt9T074B+GfgL+0v+z7rXgHQtO8O+JPG2ja1a+IdQtowt54rf+y47lJdTuDmW+mFxEsnnXDySbmkYsS7EzUkqcOaV/hpy01/iRcopd2mrP712KqR5Em+s5QX/bkoxbfb4k1v17K/2nRX5L/si+ENJ17xH8L73xX8afgH4P8A2hLXXtOk8UWC+AZrX4r6hfrcIL3Tbq5k1hrmeCdfMiaQ2htvszLLHGkKRlOo+JvwH8G3v7Gf7ZHxMufDWkXnxC8E+NfFmr+G/EVzbifUvDd3bRwTQTWEz5e0ZZY0f9wU3MuWycmtaNN1Kkaaa1Um2ndWTprR2s0/aXWq0V7WaIldSUerkorpq1N69Vbkt138mfo1pXxi8Oa38W9a8C2uo+b4q8PabZ6vqFj9nlX7Pa3b3EdvJ5hXy23tazjarFl2cgArnpq+DdT+H3wU8L/8FiPEGvfFDQ/hZp+v+LPCHhSfwVqHiaysI7zVdZhvdRjlbT5J13yXqA6ep8kmUD7MOgSvL/2VLzwT4E/bk8KWelN+zr+0BrWta9dOvjDQUax+LHhKWRNQa5m1yE+fJNbRI0Nozyy2mxpEjMGfLSlGKbgv5rq+6unay/G97Jaa62S5rqUorRKL17OCl/w1rt62Ta1/UKivnX/gqN4i0XQ/2VZIPEnhfwn4m8P6trul2N9J4rLf8I5oStdxsupamqkeZZ28iI7xMyJJ8qPJGjM6/BMf9i+H/wBmj9vLw/4N8RfCzXfA5+FFjrNm3wz8NP4f8Jvdz22sQXE9pALy7hkkZbSCOWe3l2M9vsYCSKSijF1I1Gvsfn7rt5aS3tbs27pbez1iu9vknLlT7PXpv12av+wFFfA/7cf7O+ifAj9nj4ft4J0fwX4J8G694lsZPinrep+G5tatNU08afdBLjXxFcW9zf2xu2t/tE1zclcOzzs8Xmhu5/4Ja+EPCfhrxB8RJvAnxW+DXjrwveLppGhfCnw4NH8LeHbpRciSVEj1C9hFzcL5XmpG8ZAgidkzKHavZrmmr/C7evw9tt+vbzOf2jcITS0kk/k219+l2uz66X+m5vi54et/i5b+BG1Db4qutIk12Kx8iX5rKOZIHl8zb5YxJIi7S245yBgE10lfDf7W3w/+CWlf8FU/A/ib4zaF8LYdL1j4f3djpereMrGxFtdarBqdo0MMU90u03SxysY1DeZtZyowGxofsV/s4eC/Gmv/AB48Y6h4T0fXPGmmfFLxNHo+qX9st5d6QWiijYWbS7vsu8HD+Rs3/wAW41xwrSdJTa15asn/ANuVVBJLu00/xWkklpLSryPZyhFf9vU3Nv0Ti196+y2/tSivzF+F/wAffBfij9nX9g/4f6X4n0fUvHHgjxV4c0zxLoVpcLNf+Gru20DUIJre/iXLWkqypImycIxaNwAdjY4vxz4R0/xf4++JUfxU+M/7P/wr+Mkfi3VBot/4r8BzXPxD0qzF7I2ky6HfNrEEk0Jt/I8hLO2MRkMsTJLKZg/dKnH6xKjGScVOUebulye8kr3vz7K+27voS5o04y6uMZNPo26is9NLcmrt9pad/wBbqKbAGWFNzb22jLY27j647U6sRRd1cKKD0r8vRL4V0X9oa5aRYX/YS1TxcYiAYf8AhH4vFwcl3k/hHh83ilTk+V/aeOPJPJD3qip9/wDNL8b6d5Wjpe6ctIOfb/Jv79LtfyqUvs2f6hVi+P8A4j+HvhP4Wn1zxVr2i+GtEtXjjm1DVb2OztYWkdY4w0sjKoLOyqATyzADkirniOxvNU8NX1rpt8NLvri2kitL0QLP9kkZSEl8tvlfaxDbTwcYr4r+E/wS8Ufss/EzT/E3x08Fa1+0B4ms7hxY/FvSkfWrrSPNdl3L4dILaKGSSKE/2LHciZYjLcGIDNFP3qnI9Nvnd7LpdebW6tze9YlpDnWr7fr6eifnZan3EDuGRXz78Pf28tQ+LuvapF4V+B3xe17Q9I8RX3hqfX4rrw3BY+fZ3b2txKEn1aO6MSyRuc+RuZRkKSQK+ggcivzr+JHif4N6D4k0+8/Zh+Keo3Xxm1L4gW97P4L0f4galqtvdNc6mP7aGoaBNdSQ2sIhkvJZZGtoTC6Kyuj7cqDXt4wez0t1u5RSb68qu+a2qurJ7FO3sm9n36WtK+uybdrX03ufopRXIftBeJ38FfAfxprEfh3UPFz6XoV7djQ7AsLrWCkDt9li2gtvkxsG0E5YYBOBX5y/sKw+CfD37avwRv8A4baz+zjDa+JtI1iz1vSPg/4als1sEWwjuI7LVtRjvZYr2aJ1TYbi2t52ZJZFRAZEChLmnKL2SX481tPWO6vbVu2nNnXl7KnGo/tO34xX/t1+l+l9bfqTXNfGf4if8Ki+D/irxZ9j/tD/AIRnR7vVvsvm+T9p8iF5fL34bbu243bTjOcHpX5x/C34C+DfCv7AHw/+KWn+G9JtviZZ/FSzgt/FYhB1q2gn8bG2mto7s5mS2eCaaNoFYRFZpAUw7Zv/ALUUHwX1fUP2qIPj5b+Bte+Kyfb5PAOm+LLKG/1OPRl0aJrM6HbTI0jR+et07tZqT56SlzuT5eWvWl9TnVh7slGb76xUHZd3+8uk0tIyfkdeFpxlVhzK8XJL727t9lZWvrq0vM/Rr4d+Lf8AhPvh/oWu/Z/sn9tafb3/AJG/zPJ82NX2bsDdjdjOBnHQVsVx37O//Jv/AIF/7F6w/wDSaOvLv+CmWn+AtU/Zdu4PG8dzJqEmo23/AAhg00oNcHiUMTpp0st0vRMAVP3QglMn7nza9LHctKtNRTspNWWrte1kur7K+rsrq9ziy/mrUqbk9Wk23tte77Lu+i1sfQVFfH//AATMvry48b+NofjF/Z//AA1RarHH4rbchSTScj7C+kjAYaSR1CgD7X9p8zMnJ9S/bh+CHxR+N/gnR7T4Z/ET/hCW0++FzrWmbXtf+Eusxjdp39pwhrrS9+CPtdqjzR7sqpIFZVIuFut7arVave+7S3dk3o0k3ZOqclNvpbvvovu16a2aabaT09UT4keHZPiDJ4SXXtFbxVHYDVH0YX0X9oJZlzGLkwbvMEJkBTzNu3cMZzxTfiP8TfDfwd8F33iTxd4g0Twt4d0wK15qmr30VjZ2oZgimSaVlRcsyqMkZLAdSK8Z/Yes9C+GUGqeCbX4Ka18HfEUf/Ez1ZjbjU9P8STEiJ78a3FvF9NIwJ3XzRX7qPMlgQHNez/Eb4meG/g94MvfEni7xBonhbw7poVrzVNXvorGytQzBFMk0rKiZZlUZIyWA6kUqnux0fz6b+vy33T22V09Z2t1WnXp5dd1ps1vu+E+Cn7aHgP46fsrJ8aNN1KbTvh69pe6gdR1KMQ7LS0lmjkuGUFsRkQs65+baRlQ2VGX8IP22tP+J3xI0fwzq3gXx98P7zxVp02reGJ/EsFikPiW2h2NKYPs11O8MixyxSGG6SCbY5IjPlyhPkP4C+INH/a9/wCCG/xW+H/wz8S+HfGXjL+x/E8L6To2qwXl3E9zqGoyWsciRuTH9oUfu9+A4ORkV6xeftAeEP2xP2rv2b4vhh4o0nxLJ4CvNS8QeLLbS7nzm8N2z6Nc2SW9+Iwfstw1zcxotvPskJhmIX9y+2qfLKeumiaj1s1J3ffZapJJJ33VspSapKXX3r/LlsvLmu1r1tbZ3+zqKKKk0CiiigAooooAKKKKACiiigD1iuP+MH/Hlov/AGEf/beeuwrj/jB/x5aL/wBhH/23nrM0OXooorQzCiiigAooooAKKKKACiiigAooooAKKKKACiiigAooooAKKKKACiiigAooooAKKKKACiiigAooooAKKKKACiiigAooooAKKKKACiiigAooooAKKKKACiiigAooooAKKKKACiiigAooooAKKKKACiiigAooooAKKKKACiiigAooooAKKKKACiiigAooooAKKKKACiiigAooooAKKKKACiiigAooooAKKKKACiiigAooooAKKKKACiiigAooooAKKKKAPWK53x/pkes3Gg2sjOizagw3pjcuLa4PGQR2xyDwT9a6KsXxR/yHPDf/AGEX/wDSS5rM0KX/AAqy0/5/tR/OL/4ij/hVlp/z/aj+cX/xFdPRRcDmP+FWWn/P9qP5xf8AxFH/AAqy0/5/tR/OL/4iunoouBzH/CrLT/n+1H84v/iKP+FWWn/P9qP5xf8AxFdPRRcDmP8AhVlp/wA/2o/nF/8AEUf8KstP+f7Ufzi/+Irp6KLgcx/wqy0/5/tR/OL/AOIo/wCFWWn/AD/aj+cX/wARXT0UXA5j/hVlp/z/AGo/nF/8RR/wqy0/5/tR/OL/AOIrp6KLgcx/wqy0/wCf7Ufzi/8AiKP+FWWn/P8Aaj+cX/xFdPRRcDmP+FWWn/P9qP5xf/EUf8KstP8An+1H84v/AIiunoouBzH/AAqy0/5/tR/OL/4ij/hVlp/z/aj+cX/xFdPRRcDmP+FWWn/P9qP5xf8AxFH/AAqy0/5/tR/OL/4iunoouBzH/CrLT/n+1H84v/iKP+FWWn/P9qP5xf8AxFdPRRcDmP8AhVlp/wA/2o/nF/8AEUf8KstP+f7Ufzi/+Irp6KLgcx/wqy0/5/tR/OL/AOIo/wCFWWn/AD/aj+cX/wARXT0UXA5j/hVlp/z/AGo/nF/8RR/wqy0/5/tR/OL/AOIrp6KLgcx/wqy0/wCf7Ufzi/8AiKP+FWWn/P8Aaj+cX/xFdPRRcDmP+FWWn/P9qP5xf/EUf8KstP8An+1H84v/AIiunoouBzH/AAqy0/5/tR/OL/4ij/hVlp/z/aj+cX/xFdPRRcDmP+FWWn/P9qP5xf8AxFH/AAqy0/5/tR/OL/4iunoouBzH/CrLT/n+1H84v/iKP+FWWn/P9qP5xf8AxFdPRRcDmP8AhVlp/wA/2o/nF/8AEUf8KstP+f7Ufzi/+Irp6KLgcx/wqy0/5/tR/OL/AOIo/wCFWWn/AD/aj+cX/wARXT0UXA5j/hVlp/z/AGo/nF/8RR/wqy0/5/tR/OL/AOIrp6KLgcx/wqy0/wCf7Ufzi/8AiKP+FWWn/P8Aaj+cX/xFdPRRcDmP+FWWn/P9qP5xf/EUf8KstP8An+1H84v/AIiunoouBzH/AAqy0/5/tR/OL/4ij/hVlp/z/aj+cX/xFdPRRcDmP+FWWn/P9qP5xf8AxFH/AAqy0/5/tR/OL/4iunoouBzH/CrLT/n+1H84v/iKP+FWWn/P9qP5xf8AxFdPRRcDmP8AhVlp/wA/2o/nF/8AEUf8KstP+f7Ufzi/+Irp6KLgcx/wqy0/5/tR/OL/AOIo/wCFWWn/AD/aj+cX/wARXT0UXA5j/hVlp/z/AGo/nF/8RR/wqy0/5/tR/OL/AOIrp6KLgcx/wqy0/wCf7Ufzi/8AiKP+FWWn/P8Aaj+cX/xFdPRRcDmP+FWWn/P9qP5xf/EUf8KstP8An+1H84v/AIiunoouBzH/AAqy0/5/tR/OL/4ij/hVlp/z/aj+cX/xFdPRRcDmP+FWWn/P9qP5xf8AxFH/AAqy0/5/tR/OL/4iunoouBzH/CrLT/n+1H84v/iKP+FWWn/P9qP5xf8AxFdPRRcDmP8AhVlp/wA/2o/nF/8AEUf8KstP+f7Ufzi/+Irp6KLgcx/wqy0/5/tR/OL/AOIo/wCFWWn/AD/aj+cX/wARXT0UXA5j/hVlp/z/AGo/nF/8RR/wqy0/5/tR/OL/AOIrp6KLgcx/wqy0/wCf7Ufzi/8AiKP+FWWn/P8Aaj+cX/xFdPRRcDmP+FWWn/P9qP5xf/EUf8KstP8An+1H84v/AIiunoouBzH/AAqy0/5/tR/OL/4ij/hVlp/z/aj+cX/xFdPRRcDmP+FWWn/P9qP5xf8AxFH/AAqy0/5/tR/OL/4iunoouBzH/CrLT/n+1H84v/iKP+FWWn/P9qP5xf8AxFdPRRcDmP8AhVlp/wA/2o/nF/8AEUf8KstP+f7Ufzi/+Irp6KLgcx/wqy0/5/tR/OL/AOIo/wCFWWn/AD/aj+cX/wARXT0UXA5j/hVlp/z/AGo/nF/8RR/wqy0/5/tR/OL/AOIrp6KLgcx/wqy0/wCf7Ufzi/8AiKP+FWWn/P8Aaj+cX/xFdPRRcDmP+FWWn/P9qP5xf/EUf8KstP8An+1H84v/AIiunoouBzH/AAqy0/5/tR/OL/4iiunoouAVi+KP+Q54b/7CL/8ApJc1tVi+KP8AkOeG/wDsIv8A+klzQBtVzvxf+Kui/Av4T+JvGviO4e08P+EdKudZ1KZIzI0VtbxNLIQo5YhUOAOSeK6Kud+L/wAK9F+Onwn8TeCfEdu934f8XaVc6NqUKOY2ltriJopFDDlSVc4I5B5rKvz+zl7L4rO3r0NsP7P2sfbX5bq9t7X1t52PCfht+3P41Xx18N7P4nfC2w8BaH8ZJntfCV7YeKv7aure6FpLfR2mqwfZIEtJpLaGUj7PNeRCSJ0Mg/dtJp/sVftdePv2wtFtfFTfDPQ/CXgG4n1Ow+3XXi5rrVprmzvp7UNFZx2flNbSCHd5klzFKrb18gqqyPmfDb9hnxq3jr4b3nxO+KVh490P4NzPdeErKw8K/wBi3VxdG0lsY7vVZ/tc6Xc0dtNKB9nhs4jJK7mM/u1j9K/Y8/Zx/wCGTvgFpvgb+2f7f/s6+1G8+2/ZPsvmfa7+4u9vl73xs8/Zncd23OBnA3qcvPeG3vfddct/7y12921r63OOPtHyp9lf11vb+7tv7179LHp1FFFSbBRRRQAUUUUAFFFFABRRRQAUUUUAFFFFABRRRQAUUUUAFFFFABRRRQAUUUUAFFFFAH5HS/GTSdf8I/Hybwv8bvHGoftYaL8T/E1p4D8FWfxS1O9urhrbVXFjZnw2141o1iYl2ytJaeVFb+bKzxiPzU+v/wBsL/gqd4e/Ze+MVj8OBqvwb0zxt/YkHiDUP+FjfEmHwTpUFrNJLDGkE7W11LcztJDKdiQbERNzyIWjSTW/4dj+Hde+AnjfwPr+v6hdXHiTx/qvxE0XXtNtxYap4Q1O6vJLu2ns5C0mJ7ZnKiQ4WRS6vHsdkKr+xx8WdA8ZaT8QNC+L/hK3+LFz4ctvC/i/UtR8BS3WgeK7e1mnmtbj+zotShmtbqJrmb547wxMJ5QYseX5RT0w9Km9HFRv5v2aT+6atLvpJN3klripQlia1SC0lKbi/J1bpPrbkd4LpeSaVk34xon/AAUx+KX7S/7QHwFvPgnofgPWvBPxC8JeKbzUdL1vxebG3udR0vUbSymZL220y9LwwOZPIlhPl3SXDMwjEce/6QX9syRPD/7QV5J4ZVZPgPPJA8a6luXWymiWmqkhvKHkj/SfK6P9zf8AxbBg/EX9j/4leLPFnwz8e6f8UvCtv8V/ANpq+m3Wqal4Ilu9D1S01J4ZJoU0+HUYJoPLa1thE5vJWCRsJPOZ94y/i7+wT468Wa98XofCPxV0Xwn4X+OVof8AhJ7W68HHVNStL06XHprT6fdG9jihjaGC3Jintrn5kkw67xszxPN7GpGj8Vp8vW0nK8Hd2ulG61V77q1mrw/sueDq7Llv5pWT26vfSy3tbRBdft9+NPGHxD+HfhHwF8LdJ17X/iF8OY/iCk2r+Lv7J0zSUM1qjW08qWdxMeLg7ZIreQs6qrJGrNImZ4k/4KBfFKXxp8ZtN8LfBfw3rVn8CpoE1+9v/Hzaf/aYfSLfUnj09F0+UyToJnTbcfZom/csJvnkWD0P4RfsWf8ACq/jN4B8Xf8ACS/b/wDhB/honw7+yf2d5X23bNay/bN/mtsz9mx5W1vv538YM3h39jj+wNZ/aCvP+Ej87/he14t3s/s/b/YmNGttM258w+f/AMe/m5/d/f29txMZKcadR4dXlaq4p9/ay9kumjp8t7v1alc48r5mo/XO1O//AIBDnenVT5rdOyasebfFj/gqLHp/xl8A+A/Aul/DufxB8QPC9j4q0wfEPx3/AMIbFqsV9I0dtaaeI7K9kvbzMbmWJI1EYaH5nMmF+lrCzuviT8KobfxHpt94dvte0pY9TsLLVnjudMklixLFFeWzI4eMsyrNCyMCoZSpwR87fGz9gPxp8Tfgd4c+Gtv4w+EeseBdJ8M6dod3o/j74V/8JVby3dnG0a6hbqNSthDIwKnZKJwhiQqVy+73r9n34M6f+zn8CfBvw/0m+1TUtL8E6LaaHaXepzCa8uYraFIUeZwqhpCqAkhVGScADArqnGlapFa+8+XzheVtNlZWWt29H7runNGpWtSnJWlyrmt0naN9et3e1rJWt72jPjbwh+x74f1H/gpf488AT+Nfj/J4R0P4daDr1lp5+NvjIeTe3OoarDNL5n9qeY26O2gXazFRsyACWJ6vwv8A8FNfHmpfsN+KPj9N8HdF03wB4X8LavrMNvdeOnl1nUrjT5ZoxEsSWDxLbyrCWE8k4lUkhrfjcffNB/Zr/sT9snxT8W/7a8z/AISXwjpnhX+yvse37N9iu7648/zt/wA2/wC27dmwbfLzubdheN8Gf8E+9L0r/gnVqX7O+ueIb3VNH1jQ9U0K81eztls7gxX0lw7PHGzSqrIJ8DJYEpkjBxWFGTjGPtLtLmuu95ya6rXl5bapLRPbTqlyyxV/se7r2tCCl98lK+l29Vvr1XxH/aoj+HP7S/wx+Hs2jrLD8RNG1zWJNUN5sGlrpqWblfK8s+Z5guuu9dvl9G3cfMPwy/4L0+AfiZ488GNZ6l8G7rwb8QNcstB0eDTfila3/jqKS9mW3tZrvw+luPJjaV03ql5JNDHIryRKVlSP17wj+xP8Rdf/AGi/h78RPif8UvC/iy4+HujazocGl6D4Ik0KzvodRjtEaWQy6hdyCZTancVcRsrqBHGVZnsfAD9kX4rfs16V4a8D+HPi94Zk+EHhGWG30zTNQ8DPceJoNLhYGPTv7UGoLbMioogWQ6eZBCACxlHn1dHl9pH2m19eitzu93q0+Xl5bJ6c11zWTxld4dJaTtq/O266Wvve3S2l2dZ/wUD+LFn8Dv2SvFHirUNN1jWLXSZLFntNL8Q3WgXUxe+t4123lqRNGAzgsF4dQyNlXYV4D4S8Na58bv8Agsr8RpvFHwx+GHirR/hfpnh9dA13WNbkuNU8JRzxX0/2jTrR9NdEuZ5xtmZbqEhIYPnl2hF+lv2yf2cP+Gtv2cfEPw//ALZ/4R/+3mtT9v8Asn2vyPJuobj/AFe9N27ytv3hjdnnGCfDj9nH/hX/AO1B8TPiR/bP2z/hYtlo1n/Z32Ty/wCz/wCz47hN3m7z5nmfaM42Lt2dWzxlHmVRSXRv8rX736GdRSknDo7fm7+q2et9UjP/AGrf2nb74C3Pgnw/4Z8MxeMvH/xJ1htG8PaTc6kdLsSYreS6ubm7uxDM0FvDbwyMWSGV2cxoqEvlfKvHv/BTPVvhB8Bfi5q/in4bLD8SPgxNpyax4V0zxEt1ZanFqEkYs7ix1CW3hMkciOw/fW8LLLDKjKECyv6r+1b+zFffHq58E+IPDPiaLwb4/wDhtrDaz4e1a5006pYgy28lrc213aCaFp7ea3mkUqk0Tq4jdXBTDeYeK/8AgmtqXxR+CvxV0/xd8QLbUviJ8YbrTJtb8RWXh42em2cOnTRtaWtpp7XMjxwokbZ8y6ldpJ5XL7SkSPVxkvP52026d/i8/I0rOSUXTt+O/vb3+W3l5nS6D+2r4i8EfG3VPBvxc8F+H/A6/wDCJ6h430jUNF8Ty69FPpunzQxXgu1eytTbXEYurVgkZuEcPIBJ+7G/x/8AZ5/4Ld+E/jn8YPAWiLcfBubSfihefYdCtvDnxWsvEHi3TZJIJLiD+1dHit0W1BSJkkNvdXXkzPGh3IWlT6J+K37I2n/GD9o/SfHGrags2lWfgbXfA97ohtTi/h1S40+WSXzg4KbFsSmwId3nZ3Lsw3Ofs/fs4fGj4JSeF/Dd58ZvDHiX4b+E/wDRbe3ufAkkfii/sY0dLaC51MaibZ3QeUJJo9PjaURHAjZyw1pWTg59ldefPUTu+nuezatdXcrrTlHUvaSh8u/wRtZbNc3Pe9n8NmldnaftY/tIp+zH8M7TVbfRZvE3iHxBq9n4c8O6LFcra/2rqd3J5cETzsGEMQO55JdrlI43YJIwCN83/tcft3/EvwX+zD+0N4Z1DwfofgX4z+BvhrdeMtKfS/FUup6Pdac6Twm8tb5rGCb7VbPDIWgktEUubcCQrIzx/SH7WP7NyftOfDO00q31qbwz4h8P6vZ+I/DutRWy3X9lanaSeZBK8DFRNETuSSLcheOR1DxsQ6+Q+Mv+CdHiL42+D/jBcfEb4jaXrXxA+KvgSb4eQarovhh9L0fw5prrOQYLCS8uJZJWmuGklaS7O/yolURBTu4q1Oc6NSD1vzW9ORcqXn7S/NfTk29468NUjCvTm9k4N9dfae/f+77P4ba8976Hbf8ABOn4I2fwM/Zl0extfhf8NvhVNqCRXk+neDL031tfkwRKt3cXDWNm8t1IqjzGeJmyo/eP1Hhfwv8A2hfjj8Y/C/7VWm+MtD8CzeCfCWt+JdCstSt/E0zanp0MWmRSQWyWa6XFHNGfN3NNJdCQGV12uEUt9s+D9A/4RTwlpel+d9o/s20itfN27fM8tAu7GTjOM4ycV4Jof7FPirwf42+MEOkePdBj+Hvxiur/AFa+0e88LSz6vpuoXenw2bvDfrfJEbcNCsvlPaM+WdfNA27azqnLEfWFT1UqVSMV3k3Dk3291SSelr20i2jjwHNTjQc3ZxnCUu9rS5l56tXve6V9ZJHl/wCwV+1X44+HvwO/Zf8ADPjD4c6Po/gz4jeGtL0Dw7rNn4qN9qy3kWhm8X7dYfZEhgikitLja8N5cMG8kMi72MeD4g/4L1eAdL8bXk1rqXwbuPBumeIX8O3NvN8VLODx3K8d4bKS5g8P/Z28yHzR5iq15HO8ALiHfsif6C0n9iT+y/AX7Oeh/wDCTeZ/woG5tLjzv7Ox/b3kaLd6Vjb5v7jd9q83OZMbNvOdwwfh5+x78VfgFcXnh34d/F/w3pfwxutcudXg0nXfBEmr63o0V3dNc3NpZ6guowQrCJJJvJ+0Wc7QhwrGVUVR6mNqQq4x1Iv3XKTv3XMmm+qur7JadE9+fD05UsHTpx0koRv1tJcyaXRpWi9Xvs97er/tUftCab+yh+zl40+JOsWOoanpfgnSZ9WubWy2edMkS5IBdlRR6uxCquWJABr5g+K/7efxc8S/8E5vjV8UvCel/BZW8O+Db/VvC3ijwR8TP+Ew0mS5t0l+0bpH0qFBNbhN6x+XNHK6+W7xctX2B8UND1/xL8P9VsfC2v2/hfxFcQEadqs+nLqMNnMCCrSW5dPOjJGGQSRsVJCujYcfLPgz/gkzY3tz8adS8aat4Hj1r43+Fbjwlrknw78EjwfZ3EU5neW/uIZLu9e61EvcP/pEspAUBfLyXZ/LrKpKM4x/ldunvWdvvdlurb3eqPTw8qcalOU9lKN9L3jzRvffZX0s76rR2a6DxL+1r8X/AIO/sp6L448aeDvgdot5Nc2yajf6x8WpdJ8O6bYSW25b26v59HRo5ZLkpALeO2kG6ZD5mMgeJfFP/grB43+Mv7EzeNvhDb/D1fF3h34waD8P9bk0zxlFrfh28juNS09T9h1NLCQXEFzBe28byG2ilt/OnIUyQKknsuvfsM/FLxfoPww1PWPih8OL74h/B/Upbrw5qZ+HN1/YjQS2Bsn+1ac2sNI90FZ2S4hu4dm8r5ZUsGozf8Exda1/4M/FDR9e+J0Oq+MPiL8QNL+JcGuR+GhbWej6pp8elG3h+xrckzWazaWn7szrKYZBG0zSKbh/TjKk8ROc/hUouNuqU6bas9NYe0upWV1bZo4acZfV4xfxWad79YzV++kuV3TbtZ7p3b+0n/wU/n/ZU1Dwf4P8bQfA3wj8UvEmnXOtXVp4n+LA0PwtYWUM/krs1W404XFxcSlkKwpYADZPudQiGWr4X/4KwS/Fj4W/CnVPh/4J0Pxlr3xO8Y6p4EEFr4yhbRbK/sLG/upLmLUooJVurBmscrNHEJTDMH8gyqbY914t/ZP+KeseLvCvxC0v4peDdF+L2j6Zc6BrN+vge4m8L+ItNlmM0cUmltqguYpoHCNHKmocFp9yssoRNe7/AGVfF/xA8RfBvxD468faTrfiX4W+Kb/xLczaV4ZbTLHVFuNM1DT47WGBrqZ7dY0vVfe807O0LfdDjZjh1HX29vtbXt8T5bbtpxte6Tu3Zq2t1r2fs+2ne/I9+nx7W05bXV22vMG/4KE/GRrH4qQx/AfwrJrPwPlJ8YRj4jObG8ibT4tRiXR5RpZmu5zbSjel3b2KLI0arLIC7xs/aH/4LD+C/hb4r8M+HdD1b4SafrniLwtZeMyfid8RYPAthFp15vFsscpt7uWe6YxuTGkOxFQl5VLRrJ7Dp37I/wBg1r49Xn/CQbv+F3zRy7PsOP7F2aNbaZjPmfvs/Z/N/wCWf39vbceJt/2EfF/wp13wr4k+FfxI0Xwz4u0zwXpngbXn8QeFJNc0fxHZ6eJDazm1hvrSaC5jea4KutyybLh1dJCEdOanKbdpq2kLW6vlnz3u9lJQend2ur20rcqlFUtVZ38nem1+DqL5Ru76vm/C/wDwVWn+NXhb4J3Xwv8AAen+ML740t4gtLb7V4qis9N0m60cOk5e7iguBcWrTRSIk9vG5ZDHIsbBiF439qX/AIKF/Fu3/Zh1G+8H+GfC/hX4o+CfjB4d+H3ijT5PETXml7bu+01ttrePprNNFc2uoWqPI1rDJAJ5mUM8KLL9BL+yp4j8T/Fj4O+OPF3jmz1vxH8MRrTXzWegfYLXWH1GLygsMfnyG2igUAKrvO7Ko3SM2XPI/Ev/AIJv/wDCf+DvjBYw+MvsOp/Ej4h6V8SNKu30jzodBv8ATYdIW2ili89TdwmbSUdwHhZkmZAUKiQ9VH2arynO/Kmmlo9qsLx1Svenz/Fo9E7Xs8Yqfs3F76q77OEkm7dVPl1jZ6XSMD4n/wDBRvxp8M/jf4T+El94T+Cmj/FfxBpKas9h4i+K8+j6PfedeTW1taaTdNo7XGpXR8kvLELOEReZEA0m8EfVPgrVdS1zwbpN7rGlf2Fq95ZwzX2m/aVuv7PnZAZIPNT5ZNjErvUANjI6183/ALQv7G/xe/aX+HKeGvFnj34B+KNJv7NYtW0vxH8GJtY0lrtJpmivLO3k1oNBII5IlInluRvgDp5e5kPun7PvwZ0/9nP4E+Dfh/pN9qmpaX4J0W00O0u9TmE15cxW0KQo8zhVDSFUBJCqMk4AGBURt7OXPbm5tLX1jeX3W0Wt29H7runpU/iLk+G2vrp999drW210Z8hr/wAFVdB+CvwE8P6hDpOhaBdeLfiB4r8L2Vx8RviZcWOg20ml6lexzS3WtXUFzLD532cm3tUhcLvESbY4tw+wPgn4n8WeL/h3aX3jbw5ovhXxFJLMk9jpGuHWrDYsjCKWG6aC3aRJIwj/ADwRspcqV4yfBNI/YE8Z/Dz9nu8+H/hfx94DvNN1zxF4m1bXrHxn8Pj4g0bWrTWdRuL42ktot/bvmH7QYt/nmORS++H5l8v0j9hz9kbTf2JfgFb+B9MurG5jOpX2sTrp2mrpWl21xeXL3MsNjZKzraWaPIyxQb5CiAAu7ZYqNryv5W+5Jr77u79EkrBO97x/ml915Wd/u036t3un6/RRRUgBr5Rsf+Ck2sXvxK1D4S/8K4jX9oKy1YRL4QOuSf2bJorPuXxCdT+yZGnGHgsLcyC6/wBG2FyGr6uNfJt7/wAE0dWufiRD8WY/iPHD+0FDrhvP+ExXQn/s6bR/miHh19O+17jpotyD5YuQ32tRdbt+Vop29oub4f8Agr523v8A3b297lCX8N236fc/l2t15uW/u8x9R+J/E1l4M8MahrGqTfZdO0m1kvLuXY0nlRRoXdsKCxwoJwASccCvmT4Q/tz+Mv2+vDOm+I/2d/Duhx/C/UpnEPxI8aO4tdRSKdopTp2jQOt5cEPFNCxvpdO2NskQXK5U/VQ6c14r8RP2DPA/iz4l3Hjzw3Jrnwv+Id9NHNfeJvBd2um3WslNoA1GAo9nqYEYaNft9vcGJZHMRjchwU9Kl57aW8tdb91tazVrO6lzLlJa07R3/r7n8nfy3Pah05r82/CWkXHwC+Jmpap+0R4c/am0m31z4oahb6V45t/i7qB8G2trearL/YsUthYa95lvbsjWtviTT1hRpFWUqpLV+kgGB6+9fM3jT9jb4p/HpLHw38Uvi14T8S/Day1y11qXTNH8ByaPrOq/Y7tLuzt7q+bUp4GjEsUJl8mzhaUR4UxBmBKfu14z6bPsk5Rba6qVl7r1S1umnZ1KSdF033v53Sklvo1rqnvZanu/xf8AirovwL+E/ibxr4juHtPD/hHSrnWdSmSMyNFbW8TSyEKOWIVDgDknivCfht+3P41Xx18N7P4nfC2w8BaH8ZJntfCV7YeKv7aure6FpLfR2mqwfZIEtJpLaGUj7PNeRCSJ0Mg/dtJ7t8X/AIV6L8dPhP4m8E+I7d7vw/4u0q50bUoUcxtLbXETRSKGHKkq5wRyDzXhPw2/YZ8at46+G958TvilYePdD+Dcz3XhKysPCv8AYt1cXRtJbGO71Wf7XOl3NHbTSgfZ4bOIySu5jP7tYyj/ABHz7e7b/wAm5vO/w8vS++lwqW9muT4vev62jyfK/NzdbWtqaf7FX7XXj79sLRbXxU3wz0Pwl4BuJ9TsPt114ua61aa5s76e1DRWcdn5TW0gh3eZJcxSq29fIKqsj7f7W/7Ycf7Gd94Y17xdotvb/CbULr+zvEXjE6iV/wCERnlZUtJbm28o5s5ZSInuBKPJeSMsnll5I9z9jz9nH/hk74Bab4G/tn+3/wCzr7Ubz7b9k+y+Z9rv7i72+XvfGzz9mdx3bc4GcDL/AGp/2SYf2vdS8O6H4v1SzvfhTYyte6/4Ok03zE8WXKFWtEurgyY+yRSDzWtxF+9kjh3SeWjxSY/vOSCVr6Xv173t17W0va+lyaNtXVvbXa1/JLp99/vN79mX4y678ffh43irVPB114L0nVLl5fD1vf3LNqd9pvHk3d3bNEhs5JeXFuWkdI2j8wxyF4Y+B+PX/BQ3w78MP2hIfgr4T0LWfiL8cL7RP+EhtfCdi0enxQaeXeJb66vrox28dssyhHEJnuQG3JbSgYrtP2TPgTr37NfwpXwZqvjS58caTotzJB4cur60ZNTsdLz/AKPaXdw00n2yWFf3YuNsTPGse9WcPI+18dv2dPAv7TfgxfD/AI+8K6P4q0uGb7VapfQBpdOuQrIl1ayjEltcoHbZPCySxk5R1PNdFW3N+7vbz3267q/81lZ6qNk00Urr+Ja/le2/TVO38t3daOV2mm34Fj4jS+F7q5+JjeCYNavLt5bfTvDC3UtrpNvgBLd7u4KteSAgsZxb2qncFEI27m89/ao+MniTXfF1n8HvhjeGx+IHiKy+36prvkCaHwNo5cxvqDhgUa6lKyRWkL5Dyo8jK0VvMK9C+BfwXb4FeF7rRY/F3jbxZprXbz2A8T6kNUutKhYDFql26C5njU7iHu5Z5vmIMpUKq4nxs/Yg+C/7SniSHWviJ8Ivhf481q3thZQ6h4j8K2Oq3UMAZmWJZJ4nYIGdmCg4BYnqTWOIjzRtHa22z20XXrZS11V7Su+YdJuKu373R6NXvvayW17aJXteNrxPPv8Agj94u1rx5/wTJ+C+r+Itc1nxLrl94cie81TVryS8vr6QM48yaaQl5HOBlmOTX0lXiP8AwT1/Yb8M/wDBPT9lzw98N/DdroLSaZEG1TVdN0SLSW166wFN1PHGW3SlFRSzu7YRRuwAB7dXViJKVSUo9X/X9fkLlS0jt09OgUUUViAUUUUAFFFFABRRRQAUUUUAFFFFABWL4o/5Dnhv/sIv/wCklzW1WL4o/wCQ54b/AOwi/wD6SXNAG1RRRQAUUUUAFFFFABRRRQAUUUUAFFFFABRRRQAUUUUAFFFFABRRRQAUUUUAFFFFABRRRQAUUUUAFFFB6UAFFfnP+zX+0H8fPg7+wl+0Z8VfEXj7wT45h+Hmp/EC40rTrzwxqKXQvNO1G88lWu5NWlH2FfJKJapErRxlEEx2bm931H4/fGT4YeC/h74i8XXnwzvV+JHirw7o0WkaPol9GdAgvt32pGvZbw/bXGUEcotrYDaxaJtwCzTmpKDX2vZffVdoL793slvZ6FYqP1dVJT2g6nzVL4mvw830PqGivlD9oH/gonqn7Onxf+P1nqGgWeteHfhD8ONE8Yada2aTLqOqXt9c6pAbZ5F8weWWs7cLshLrvkOJPlUZX7KH7bXxO+Iv7RGjeFfEmlal4k0HxHY3VxLqVt8FPF/gOHwnPCqyJFPc6zvgvkmBeNXjNu6vGp8phKfKreXIt7X+Wvz+y9dtNWtDOclC/N3S+9Rf/ty9el7M+xKKKKCgooooAKKKKACiiigAooooAKKKKACiiigAooooAKKKKACiiigAooooAKKKKACiiigAooooAKKKKACiiigAooooAKKKKACiiigAooooAKKKKACiiigAooooAKKKKACiiigAooooAKKKKACiiigAooooAKKKKACiiigAooooAKxfFH/Ic8N/9hF//SS5rarF8Uf8hzw3/wBhF/8A0kuaANqiiigAooooAKKKKACiiigAooooAKKKKACiiigAooooAKKKKACiiigAooooAKKKKACiiigAooooAKKKKAPnK+/4Js6Dd+FPi14Vi8ffEWz+H/xht9ZTU/CcLaWdP0u51XJvbyzmaxa8SVpHmkCS3EsKtM+ItoRV9D+NP7L2i/G34OaV4PutU8QaL/wj1zYaho2s6XPFHqWk3tk6PbXMZkjeFnVkGUlieJwWV42VitelUVPKklFaW5bW0a5L8tnunG/uvdaW2RUpOTblrdybvrfntzX781lfv13Z86eFf+CaHg6PV/iZqHjbxN46+K958YPDNp4T8VP4qu7UJf2Ns155Yjisbe2jtm2Xjofs6xrmNJAomaWWTqfgh+ylrnwd8T2F5qHxu+MHj7SdJtWtLDRPEc2kG0gBUIryS2mn293cuiAqGup5sli7bpAHHsVFae0d7/Ly69NtLu2ml9LEy974tf8AhkvyjFPvZX2QUUUVIBRRRQAUUUUAFFFFABRRRQAUUUUAFFFFABRRRQAUUUUAFFFFABRRRQAUUUUAFFFFABRRRQAUUUUAFFFFABRRRQAUUUUAFFFFABRRRQAUUUUAFFFFABRRRQAUUUUAFFFFABRRRQAUUUUAFFFFABRRRQAUUUUAFFFFABRRRQAVx/xjG/TtHVvmV9Qwynow+zzHn8QD+FdhXH/GD/jy0X/sI/8AtvPQByP9n2//ADwh/wC+BR/Z9v8A88If++BU1FaGZD/Z9v8A88If++BR/Z9v/wA8If8AvgVNRQBD/Z9v/wA8If8AvgUf2fb/APPCH/vgVNRQBD/Z9v8A88If++BR/Z9v/wA8If8AvgVNRQBD/Z9v/wA8If8AvgUf2fb/APPCH/vgVNRQBD/Z9v8A88If++BR/Z9v/wA8If8AvgVNRQBD/Z9v/wA8If8AvgUf2fb/APPCH/vgVNRQBD/Z9v8A88If++BR/Z9v/wA8If8AvgVNRQBD/Z9v/wA8If8AvgUf2fb/APPCH/vgVNRQBD/Z9v8A88If++BR/Z9v/wA8If8AvgVNRQBD/Z9v/wA8If8AvgUf2fb/APPCH/vgVNRQBD/Z9v8A88If++BR/Z9v/wA8If8AvgVNRQBD/Z9v/wA8If8AvgUf2fb/APPCH/vgVNRQBD/Z9v8A88If++BR/Z9v/wA8If8AvgVNRQBD/Z9v/wA8If8AvgUf2fb/APPCH/vgVNRQBD/Z9v8A88If++BR/Z9v/wA8If8AvgV5rbftu/Be9+Kn/CCw/F74XzeNxfNpn/CPJ4qsW1X7WrFWt/swl83zQwIKbdwIIxXqFC1XMtgeknF7roQ/2fb/APPCH/vgUf2fb/8APCH/AL4FTUUAQ/2fb/8APCH/AL4FH9n2/wDzwh/74FTUUAQ/2fb/APPCH/vgUf2fb/8APCH/AL4FTUUAQ/2fb/8APCH/AL4FH9n2/wDzwh/74FTE4Fc38I/i54e+O3w80/xV4V1D+1NA1bzDa3XkSweb5cjRP8kiq4w6MOVGcZHGDQF+hvf2fb/88If++BR/Z9v/AM8If++BU1FAEP8AZ9v/AM8If++BR/Z9v/zwh/74FTUUAQ/2fb/88If++BR/Z9v/AM8If++BU1FAEP8AZ9v/AM8If++BR/Z9v/zwh/74FYPwm+Lnh745eBrfxL4V1D+1NFu5ri3iufIlg3vBPJBKNsiqw2yxuuSMHbkZBBPSUKz1QXIf7Pt/+eEP/fAo/s+3/wCeEP8A3wKmooAh/s+3/wCeEP8A3wKP7Pt/+eEP/fAqaigCH+z7f/nhD/3wKP7Pt/8AnhD/AN8CpqKAIf7Pt/8AnhD/AN8Cj+z7f/nhD/3wKmooAh/s+3/54Q/98Cj+z7f/AJ4Q/wDfAryLxV/wUT/Z98CeKr/Qtc+Onwc0bXNKuXs73T77xpptvdWc6MVeKSJ5g6OrAgqwBBGCK9iRxIgZSGVhkEdCKFrHmWw5XT5XuRf2fb/88If++BR/Z9v/AM8If++BXP8AgT4xeHPiZ4l8WaPoeo/btR8D6muja3D9nlj+xXbW0N0se51CvmG4hbchZfnxncCB01Ftn3Sfyaun6NaryF5fL7t/uIf7Pt/+eEP/AHwKP7Pt/wDnhD/3wKmrKvfHeh6b4xsPDtxrOlW/iDVLaa8stMku41vLyCEos0scJO90jMsYZlBCmRASNwyeQeZf/s+3/wCeEP8A3wKP7Pt/+eEP/fArivg7+0l4T+Pmo63b+FZtcv4dBuGtZ7+fw/qFlpt06ySRN9kvJ4Et7xVeJ1L20kqjAycEZ7ujdJrrqHWxD/Z9v/zwh/74FH9n2/8Azwh/74FYPwm+Lnh745eBrfxL4V1D+1NFu5ri3iufIlg3vBPJBKNsiqw2yxuuSMHbkZBBPSUKz1QXIf7Pt/8AnhD/AN8Cj+z7f/nhD/3wKmooAh/s+3/54Q/98Cj+z7f/AJ4Q/wDfAqaigCH+z7f/AJ4Q/wDfAo/s+3/54Q/98CpqKAIf7Pt/+eEP/fAo/s+3/wCeEP8A3wKmooAh/s+3/wCeEP8A3wKP7Pt/+eEP/fArmNQ+OPhnTfjPp/w9e/nl8XalpsmrpY29jcXC29ojFPOuJY0aK3V3DLGZnTzWR1TeUYDraOl+n+Ts/wAU16qwdXHqv1Sa+9NP0aZD/Z9v/wA8If8AvgUf2fb/APPCH/vgVNRQBD/Z9v8A88If++BR/Z9v/wA8If8AvgVNXkOm/wDBQX4Caz45h8L2fxu+EN14lub4aZDpMPjHTpL6W7L+WLdYRNvMpf5AgG7dxjPFC1koLd7Lr/WwbK/Q9Y/s+3/54Q/98Cj+z7f/AJ4Q/wDfAqaigCH+z7f/AJ4Q/wDfAo/s+3/54Q/98Cpqwfij8T9D+C/w91fxV4mvv7N0HQbdru+uvJkm8iJerbI1Z2+iqTQBsf2fb/8APCH/AL4FH9n2/wDzwh/74FSq29Qw6MMiloC5D/Z9v/zwh/74FH9n2/8Azwh/74FTUUAQ/wBn2/8Azwh/74FH9n2//PCH/vgVNWfZeLNL1LxFfaPb6lp9xq2lxxTXtlHcI1xaJLv8p5IwdyK/lvtLABtjYzg0Bctf2fb/APPCH/vgUf2fb/8APCH/AL4Fcfq37S/w40H4v2fw9vviB4Js/H2oIJLXw1PrlrHrFypVnBS0ZxMwKqzAhTwpPQGrWm/G7wzqvxj1LwBHfXEfizS9Pj1WWyuLG4t1ntXbYJoJZEWK4VWwrmF38tmVX2llBUWnt1v+Gr+62vawPTfpb8XZfe2ku7Om/s+3/wCeEP8A3wKP7Pt/+eEP/fAqaimBD/Z9v/zwh/74FH9n2/8Azwh/74FTUUAQ/wBn2/8Azwh/74FFTUUAesVx/wAYP+PLRf8AsI/+289dhXH/ABg/48tF/wCwj/7bz1maHL1y/wAb/EV54Q+C3i/VtOm+z6hpeiXt3ay7FfypY4HdGwwIOGAOCCD3FdRVHxL4ds/GHhzUNJ1GH7Rp+qW0lpdRb2TzYpFKOu5SCMqSMggjsayxlOpUw86dJ2k4tJ7WbWjutVZ9h0JRjUjKauk1f0Pjn4JfFL4reGLD9l/xd4j+KWreM4/jctrp2v6Hd6Jplnpdk8ugXOoC5sjb26XUcoltFDCa4mjYTS4RP3fl8/cftL/FZv2XPEX7SqfES6Wx0fxNfQQ/DkaVpzaG+mWurPpZtXn+z/2h9vdI2l80XQjW4ZV8lo1MbfXlr+zj4Ms9E+H+mx6Nts/hbJFL4Yj+1zn+zGjs5bJDnfmXFvNIn70vnduOWAYcpP8AsC/Cm4+KU3i5/Dt8b641geIZtN/t7URoE2pjBF++kef/AGe10HVZfONuZPNVZd3mAPXo16kJVnKmuWN3bROybTSts2td35Xs9OWnGSw8YN+9ypPzkua7vur3jsul7XWvi37Ffws15/2+f2mtc/4WV43XTbHx1ZtP4f8Asukf2fqIl8P6eyLM32H7UPJEionlTxkrDHvMjGRn+zK88/4Za8GxfHmb4lW1tr2neLLtY1vX0/xHqVlp+qGOJoY3u7CKdbO6kWNtiyTwu4VIwD+7Tb6HXPDSnCH8qS+5W/rtsb1Jc03Pv/W2wUUUUEhRRRQAUUUUAFFFFABRRRQAUUUUAFFFFABRRRQAUUUUAFFFFABRRRQAUUUUAflP4m+Jcmtfsn/Hj4W6t4O17Q/D/wAQvjL4k8PQfEnUnsm8MeHLu51pzDdTeVcPfRSQyqvlSPaxwm58hWniV/NX6S/ae/aA+KGr/tZXXwp8E2Hxa/s/wr4U07xDfan4ATwmdVvZ7y4vIESU+IZhAtuq2bEiCF3Z3GZIlULL9GaN+zT4F0PwB4q8Kx+G7G48N+OL7UNS17Tb0veW+pz37tJdmRJmYbZGdiUGEAOAoHFcfqP/AAT5+Fuo+FfCelLp3iqxbwPYvpei6pp3jTWrDW7SyYgtaHU4LtL2W3yEPkyTNGDHHhfkTEwVqNOnL7KivW1Plf3NK3dWvZx97bEVFOvUqRWkpTku65qnN+MdGr+69rqVl5T4J/aR+L3wf1r4O6z8a44/C/h/xdb6v4Y1+xu1sA2nanBLLcaVqMstrJNGjXdlbTLLDHO8STSxKnPB5HxR+1l8ZNR+FPwoWwj8YXmsfHvWdU1uyHhux0KDWvDugxwm5srO0TVpIbM3LW/2d5WuvOcBroLHkIYvpnx5+xN8Mvin+zdJ8I/E3huTxB4BuJEmnsNR1S8uZrqVLkXYllunlNzJKZx5jSPKXcltxbcc7/xo/Z38H/tBeDbPQvFWkteWemXcN/p01peT6dfaTcxf6ue0u7Z47i2lUEr5kMiNtZ1ztZgaqLmu1p72ltEouXM73vd30XaK5b2emMfdcbbW1vrqlZW8rbp7y993lqfIfxG+O37Rnwo/ZV1qbUpPEfhLXP8AhYvhfQ/C2u+NtP8AD99q17p+oanYW90L620edrJwrTTxgwm2doimNkimZuv/AGtJ/jb+zzpPhmLSPE3x28feCv8ATr3xP4j8IaH4X1Dxhp8261js7aKxls44JbLa907+RaT3e6JPm27s+06Z+w/8ObDwLN4duLDxJrmnXGuWPiOWTXfFmrazevfWU0M1o5u7u5luNkUlvEwi8zyuGyhDuG1vjX+y34R+P+s6VqWvN4ts9S0WGe2tbzw74u1bw3ciGZo2kieTTrmB5ULQxttkLAFcgAk5uUvcSW/M3tpbkgktNfii27Nb3vq0EdHrtb8XKV39zVrppWWmiZ8n+JP2yfGnxGvvhn4I+GPiT4o/EKz1rw9q+vaj4q8MaP4b0vxVeGy1KOxEMlrrptrO3MUjvHchbQyeYse2OAMa+mv2Ltd+Jet/B2Rfipo+raTr9jqlza2b6sdNGp6jp6sDbXN2mmzTWaXDKdriBghZCyxxBhGrfE37C3wt8U+B/C3h9vDdxpdr4JMraFe6LrF9o+raWZgRcGLULSaK7BnyTMfOzOx3SbzzXafCL4PaH8DvCA0Pw+urNZmeS6km1TWLzWL65lc5Z5rq8lluJW4CgySNhVVRhVAEwsua+t+bfzldaK1rRtHS6ertd6RJSaj5W0X+Fpq7u5XfvXdn0vaOvzB+zz8LNcvv+Cn37ResRfErxrZ6fp914dmn0OG10g2GpI+mvthmZ7FrkJH/AAmKeNz/ABM9eSfsl6/8QPgB+wp8FfiBYfEbV7nSb7xpY+G7jwcdK05dFms9S8RyaeztIYGvxcxi5EodbpYy8SgxBSyn7g1f9lzwbrHxzh+JH2fXrHxasENtPPpviPUtPtNSjh8zyheWcE6W13s86QKbiKQgNgHAAEdl+yV8PtO+D+g+AYfD+zwn4Z1S11rTbH7dcn7Nd216t/BJ5hk8xttyqybWYqcbSCvy1GFjGFSnKprGMo3XeKkrrzbjffZ9eopQfvW6xl5WbTt6JN7rfR20SPj/AFb9p39o342a78Q/EXw78M/Fq5fwj4o1Xw94d0bSF8FL4S1I6ddPb7dTfULxdX3zSRuZGgNsI0eMRo5QyzfeOv6ndWXgi9vNv2W9hsXm25D+TIIycehwfwOK8v8AiD+wJ8MPiT441jxBeab4m02/8SFW1qLQfGGs6FY66yrs33tpY3UNvdO0YEbPNG7PGqoxZFVR6/eafDf6dLaSxhreaMwugO0FCMEcdOPSpqRk8N7NP3rWv58qV7+b120Ojmj9Z9rb3bt28r3Ss+y0v169LfAvgT9pf4xfDr/gl74H+O2teOtb+Ivjj4haL4asodDTRdHsdIsbrVbuztlu4o9sEjTqs+5hPfJbPIWIW3jZVj7L4deM/wBqTw8PHVvp/hL4keIIl8GX9/oFz8VJ/B0E/wDwkURQWdlH/wAI/cKjW06vIXM6IUaFcTYkIX6U0n9mfwHpH7PNn8J18M6fdfDux0ePQYtDvt17bmxjQRpC5mLs4CqPmdi2QDnPNcr4Z/YK+G/hnRtc08w+NtatfEOkTaDdL4g8d67rrRWU23zYrdr28ma13bEJaAxsTHGc5RcdWIlCdapKK92TlbpZNNJWWzi3dSu90rNRSeNK8YU+fVq1/Npr700rNadesm18sWn7YHjLwH8EPjZ/aHxC+OWl/FTwj8P9a1q18NfEzwXodlJbTWUaY1PTbrTbNLG8tllkVComuh88ZbZz5n0j8SvjT4m0D9qf9nvw3Z6l5Oi+OLTW5dbt/s8TfbWt7CKaE7ipZNsjE/IVznByOK6PwF+xL8Ofh+dcZdL1rxJN4i019Gv5vF3iTU/FU0tg+fMtFk1O4uHjt5M5eJCqOQpYMVBFL4Z/sCfC/wCE3jvw94n0vSfEF54g8JxXFvouoa34s1fXJ9LguIlilgha9uptkLIijylxGCoYKG5rPmukmtba273lst7ax3b620SRNSMnFKO/M38nybtdVyysrJa922/hf4M/DnWPiBp37H8Ok+PvFvgeSTxX4+iW40S30yaSJhJqb+YovbO5XcVUpgqV2uxChtrD9RNHsZdM0i1tpry51Ga3hSKS7uFjWa6ZQAZHEaogZiMkIqrknCgYA8p1r9hP4Ya38NNA8J/2HqenaT4V1O41jRpdK8Q6lpmo6Vd3DTmeSC+t7iO6j8z7TOrBZQpWQqRtwAz4f/svDw5+1p4g+JmoTR3jp4W07wb4bWW5ku7mysIXkuLl5ZZV8wyzzyRhiZJCy2sTM24kDHDw5I8kv89o/wDySS9Hfokzls+Zb29Ptf8AyOt976Ws2zD/AG/fif40+HGhfC+28D+ILfw3qPiz4iaT4evLubTo79TZz+d5yeW+OSEGGVlIIByRlT5V+0B8Sfi18PPjR4X+DfhnXvjV42kXw7c+KdU8S+H7bwXH4mu/9LEEMGNSS005baPc28xWjzEm3G5BuMn1d8RvhH4d+LTaCfEGn/2gfDGsW+vaZ+/li+zXsG7ypfkZd23e3ytlTnkHisL45fsueCv2i7jRbrxPp+pDVPDsksml6to2tX2hatp/mpslSK9sZoblI5FwHjEmx9iFlJRSJhTktW/tt/8Abvs4xS8rTTlpvtfV21k3z3W3JFbfaU5OTt1vBqN91vb3Vf4u8Z+FPjF8XPjP+y3D4+8T+Pvhh4sh8ReKrGC4trfw3LqlzZx6dO1re3KJDf2K3ckChJVhPk5aRkiiJQR/Tnw3+J/iY/HT41eGb7XLnVLDwLo2iSaXJcW1ukyyzWdw80rmKNAzSPGrEY2A5Cqq8Vrax+wn8Ntf+HOh+Gbqx8USWvhvUptY03U18YawmvWt5MsqSzDVluhflnSaSNsznMbbD8gCh3xC/YV+GnxS8Rw6trWl69Nff2bBo181v4o1WzTX7KHf5dvqccNyianGBJKNt6JgRNKDkSOGK1OU4yjB2v1/7dtf15tbKy7WskRTilWjUk9E7teV9vNW1u9bq2t3I+Z/gp+0P8Xv2iNL/ZH0lfiVeeGpPit8KtQ8TeLdTsdD06a+vbuKHSik1v50LQW8gkupDzDJEVZ1MRJR4+us2+LXxK+PHxu8G23xy8YeHdL+FumaH/ZN3Y6DoUuoXtzNpkkk8t281jJC6SSKrtHDDCQ24I6IQg+gvh/+yZ8P/hdN4Ck0Hw/9hf4Y6DN4Z8Mn7dcy/wBm6dKLcSQfPIfNyLWD55d7jy+GGWzuaP8ABXwzoHjPxd4gtNN8nWPHSW8euXH2iVvty28JhhG0sVTbGxX92FznJyea2x37xzdHS7k10teUnHbok0mttOtkVQfL7Pn15UlLzstfW76vU+OfHH7V3xj+InwN+B/xCj0/4raL4B8beCtM1vxDqfwk0HSde1fTdVvfs3yy2WoRXU76fHHK8hNnazTjYSxCrhvrb9mPx9Y/FL9nnwZ4h03xZJ48sdW0i3uIvEUtgLCXWQUH+kSW4RBDI5BLRhE2sSNi42jkdX/4J+/DHUvDXhfSLa18ZeH7HwfocHhvTF8O+Odd0Fxp0C7YbeaSyvInuVjGdpnMjLvcg5ds+p+BvA2j/DLwdpnh7w9pllouh6LbJZ2NjZxCKC1hQbVRFHAAArarKm51PZq0XJuPdRbk0n6JpJL0d7JvOnFpRu7uyT9Ukm/m022/XS9l8c/8E9PDXxavdS+KV54f8bfDvS/BafGTxUbnStR8E3l9qkqDVpfOCXqarDEhcZ2k2rBMgkSYweL8Qftc/Ezw5468M+OPCnir4zeO/h1rXxLsvDkl/qmg+FNP8E3FjfauNOaG2VfK17Ns06pHckSRzSW287oZNw+6fhh8H/DvwZsNXtfDenf2bBr2sXmv3y/aJZvPvbuUzXEuZGYrvkYnauFXOFAHFeYy/wDBNz4O3HiK31CXw7rMyafrcPiSw0yXxTq0mj6TqUV2t2l1aacbo2lrIJgWJgiTcskqHKSyK2eEtTnQVTWEFBSW9+VQUku6aUktVa621OjEzVSdeUf+XkqjXlzObjts1dXtfru0meA6Pq/xM0bX/wBreT4U6df6l4kk+L2kxXS6b9gOqQac2haGLyaxW/dLNrtIS7Ri4Jj3DJSTGxqMH7dvibRv2Zbj/hE/Enxi8ZePNc8XaN4Zm0rx14P0nw94v8FHUIgxj8iSLTtOmlMaObeSQtAZpADJcKvln6w8T/sa/D3xZaeK459K1Wzl8ba5B4l1a70vX9R0y+fUYbeG2juIbm2njmtmENvFGRA8asoYEHe+6rYfsM/C60+FPiTwXc+G5tb0XxhIs+ty65q17rGpanKgVYpZb+6mku2lhEcfkyedug8tPLKbFxnLmcYxb2VNebUI01JJ9FLllZ2bV7315VN/fcl1c3tezk5tNrq1eLs3Z2tbq+J/Yq1z40H4i+JtN8faP8TP+ELWwt7rStV8fnwqutfbi8iz2yjw/M1u9t5YhdTJDHIrmUF5FZRHb/aI+KHiqz/bH8AfD/SfEV5oWg+LvA3iq+vGtLa2kuI7u2bTUtriN5opNrxfaZiFIMbFhvRwAB6F8Fv2XvCvwD1fUtQ0ObxlfX2qQx289z4j8Zax4kmSOMuypE2o3U5hXc7EiMqGO0tnauNvxD8GPDXiv4m6L4y1DTftHiTw7p97pWn3n2iVfs9teGE3EexWCNvNvD8zKWXZ8pGTmcRB1IKK7ST6XvGSW3Zta6bX1errDyUKjk/K3Xt39H336LRfPv8AwRf8H6t4c/4JzfCm81Lxl4i8UR6x4Y0+4trXUrfT4odGTyQPJtza2sLsnQ5uGmkJH3+ueb8LfCrXfEf/AAWX+K2oWfxL8baBaWPgjwhfTaZYWukPa6hD9s1gfY5WnsZZhBmJ23RSJNm4l/e4EQj+rPhH8J/D/wACfhloXg3wrp/9l+G/DVnHp+m2fnyT/ZoIxhE3yMztgd2Yk9zXPeOP2WvBvxA+L+k+PLy316y8WaRFFbpfaP4j1LR/tsMUpmigu47SeKO8hSRnIiuVkQeZINuHcHqdX9/7Tpd/c0+mze1099de+ctac4rd2/8ASlLfdbPbbQ+Iv2YNY+IHwK/Yk8CfETSfiRqx03/hYh0OXwedJ07+xbqzv/FsthK0kjQNffaVW5aRZI7pI90ceYSu9X674lftHfHr4w/GD4sW/wAOtH+LiQfDfXX8PaJb+FYfBcmi39zFZ29x/wATb+17xNQYSSTjK2v2XFuybHZz5g+rrP8AZP8Ah/p/whsfAcOgbPCem6tFrltY/brk+XeR6gNRSXzDJ5hxdgSbSxU/dIKfLWL8UP2F/hx8W/Huo+KL6y8UaPr2tQxW+q3fhjxhrHhltYWJSkX2saddW63TIhKK0wdlT5QQvFcdOm40lTb2TWnmqaTvZ3tyz0envX3VjSMkl5310umrt2tdW3TutdOXZ3XpHgTUdW1fwPo11r2nx6Trl1YwS6jYxyiZbO5aNTLEHUkMEcsu4Eg4zk1rVX0jSbbQNJtbGyhjtrOyhSCCGMYWKNAFVQPQAAfhViumpJObcdr/ANdX+b9TnpRlGCjJ3dlf+rL8l6IKKKKg0CvgKz+N/wAZJP2cfiR8ZJvi1qrN8P8A4g61pWn+F49A0pNI1DTLPXntFt7xzbNdvKYQ6LNBcQYAiLJIyyPN9+152v7KPgBPhP4g8DjQf+KX8Uald6vqll9uuf8ASrq6ujdzyeZ5nmLvnYvtVgozgALxUe8pOS/laX+Lmi07bbJr52tZsKjboOnD4m1r5csla+61cX8jw/V/HPxM/aB+MnxyHh34mah8NNN+Ct7b6PpWmWmj6deW2t3P9mW+pSXOpNdQSTNbMbqOIR2slq4SKU+aWdTH5T8I9Z8S/tnftq/Bb4kW/jrxn8N5/GnwIh8R3Gm6Jb6TPDD5t9ZSSWwa9sZ3MTtICWyH+RNrJlg31h8X/wBhv4Z/HTxvceIfEWh6k+palaRWGq/2dr+o6VbeILaIsY7fUbe1nih1CFQ8iiO7SVNkkiY2uynS+Jn7JXgX4r+IvDesahp2rabq3hG3ey0q98P69qHh+4t7V2iZrUvYTwtJbFoISYJC0RManbxTw8VGcJz3i/X/AJd1YSev8znGXLslHlWjFio+0hKEdL/pKnJLytytc2+vNued/scaCviT4y/tG+Kri4nXxDqnjf8A4R77RhGm0+xsNOtUtYY9ykBA0884VgV33UjYO458n+AH7U/xM+Jf7W19+z3q3jazt9Q+F+pTX2q+N4rK0W7+IVhGtvLHY20Bg+zRXMX2uKPUWiXMQWLylja6DW3u/hr9nfxH8OP2vfGHijQZ9Hf4efFKwin8T2El5Pa6jp+s20Ito720McZV1ntVhilVpIjGbSKRCxZxWxYfsTfDLSvB/gnQ7Tw3JZ2nw51NtZ8Pz2+qXkV/Y3jmQzTNdrKLiZpzLL5/myOLjzX83zNzZqjePsnN3ShGLXeUUouX3pyttNO0rDl/y8j1cm0+yfvKK9E1C/2bXjdpHZ/F3xL4g8G/C3xDq3hTwz/wmXibTdPmuNL0H+0Y9O/ti5VCY7b7RICkO9gF3uCq5yeBXyn+zp8VtU/aj+LmmWPxa+JutfD/AMfae66nD8G9Nhm8KvAYWkYtJdSH7Zr0UTBka6sZk02cQ/NAw3A/Z1Yvjb4ceHfiXaWNv4j0HRfEEGl30Op2cepWMV0lpdwtuhuIxIpCSxtyrrhlPIIojpNSf/Dea8+uvVKzjqxy1g4r/h/J9fLR9XdS0RtV8YeGtN+J3/BMTw94B0W88QeCfiJ8M9e8cr4eNnaeGbrSPEGmNrOoSvFcC4a/uILpYZ7gB4xbwkxbnDApsf7NliWeJkdQyuCrA9CDXjPwt/4J/fC/4QeJtD1bS9P8VahceF1I0SDX/GeteILLQz5ZiD2drf3c0FtIsRaNZIUR1jd0UhXZSoxXtYzlsmr+cbpyXldKye6vdbaqSTg0t9beTs7P5PW2z2Z1H7VfxEtPhR+zj4z8QXniubwPFp+lzbNfh0z+1JtKlcbIpo7Ta/2iQSMm2La29sLg5xXzB+zn+0H8W/DX7Vk/gfxc3xgfQvEHw+1LxPp8vxIs/CceoW13YXNpETbHQG2eU6Xy+ZHdxh1aKPYSGkUfYnxH+HOh/F7wHq3hjxLptvrGg65bNaXtnODsnjYcjIIKkdQykMpAIIIBrzz4a/sKfDX4VePv+Eq07TfEWoeKP7JudBOsa94r1bXr86fcPDJJa+ffXM0nk+ZAjqm7EbGQoFMspdRi+afNs4yS/wATjJJ+VpOLuuiej0NIyjZJ90/kpRbXzSat+jZ83/sw/Gb4vf8AChf2Xfil4o+K2reLrj4wSaRp/iDw/caFpVppCLe6dNN59uYLZLqO4WSKNmLXDxMWl2wxqyLFzP7UGt+Pv2qv2Efjr8Q9Q+I3ijwpoOj6jr2g2HgzSdN0oafcWmmahLY5vJrmzmvHlneB5GaCeBVR41VQytI/2poH7LngXwv8OPAXhGx0PyPD3wxktJvDVp9tuG/s1rWFoYDvaQvLtjdl/es+c5OTzXIfET/gnN8H/irrPiK71zw3qdxb+LZjdazpUHiTVLTRdSuSE/0qTToblLNrrMcbfaPJ80PGj79yhh0SnF15zS91yk4+UXyWVtm01Lronu+nPyy9lGHXlin5tc/Nr5pw13vF+r9f1rS7jXPCl1ZWupXmj3V5aPDDf2iRPcWLshCzRiZJIi6EhgJEdCQNysMg/Gf7Gv7V/wARv2if2hrr4T654w0+yvvglJKviTX7Cyt1f4qmOZ7aOS1jkiaKC3jZGW+Fv88V3thR41BL/Z3iLw9b+KPDd9pNy15Fa6hbSWsrWl5NZ3CI6lSY5oWWWJwDw8bK6nBUggGuB0z9jv4b6FbfDuLTfDa6V/wqlDD4XksL65tJdOiKBHgaSORXnhkCqZIpjJHKyIzqzKrDKnpV5pfD289bP5fy7Sv73wouX8Dkj8Xfytqvn33ja8dWzovjh4t8UeA/hJr2seC/CP8AwnvirT7VptM8Pf2rFpf9rTDGIftMoMcOefmYEDFfMf7K3xNvf2ofirp3/CzvirrXhz4jaKiat/wp7T7WfwgNIKYzJMsp+361DFI7wm7im/su52Arb7lzX2NWL4w+G/h34hy6TJ4g0HRdck0G/j1TTG1Cxiujp15GCEuYS6ny5lDMBIuGG44PJpU/dnzPy+VnuvP11vFcrj713LWPL6/Pyfl006N3UtEtojIr5H/Yj+Dui/BL/goH+0ppehtrs0F5Y+Fb2ebWNdvtau5pWtr1SWuLyaaYgKiKFL7VVQFAAxX1wRkV4x8K/wBgX4c/Bn4vXHjzQm+In/CUXoVby51H4i+ItUiv1RJI41uILq+khnWNZX8sSIwjLZTaQCEr899l18/L0vZ/K9glrCyfVO3TT+u3VnyFqyyXn/BGD48+I5rf7X41tvGfi3XfNZWa5TWbHxHcfYHUj5zJF9ms1jwSQI41BwAK+lv2w7T+xfj3+zR4qt2Nrrq+NpfD0roNr3Vhe6RfSXFs3H3PMtbaYgkDdbKRlgFPYeJv2E/hf4w+JreLNQ0C/mvptSh1m409de1GPQ72/i2mO8n0pZxYT3KskbCaWBpA8Ubbt0aEReLfgP4g+KX7X3hjxd4ibRY/A/w1tJ7nw1ZW9zJNeXur3URglvLlGiRIRBbtNFEqSS7/ALXI7bCqrTjJtU4tJWcW0tkopXXpJR5EraJrW17VK3NUnb4lP1vNu3/gDfN/4Ftoex0UUUEhRRRQAUUUUAesVx/xg/48tF/7CP8A7bz12Fcf8YP+PLRf+wj/AO289Zmhy9FFFaGYUUUUAFFFFABRRRQAUUUUAFFFFABRRRQAUUUUAFFFFABRRRQAUUUUAFFFFABRRRQAUUUUAFFFFABRXwX8Fv8AhK4f2XPjl8YofEvxF8ZfELwN4j8f/wDCJ6Zd+JdQk0u2FreX0Vtaf2fDKkN3GuwFFuEmdCQsbIqxqkn7Ifgz4uf8JV8K/H6eJvCq+FfFkLT65q1z8btb8YR+Mop7CaZGtNMu9Nt7G1m89UuP9CMCRxRzRqnl/Ks05KcFP+7GT/7fTaWtlstb21+Hm1NK9J021vaU4/8AgDSl+at+PKfeFFfn/wDsr6r4s+Df7RPw70/4tRfEDVvEXj2eZNC8feHvivd+IvBnjmd9PvLyYSaLNLFHpyiKLzY1tbNoUZI1WcLxI7Wv2g9c0/8A4Jw/s86pJ441aDxN4k+JnhjRLi7bWZFvtVz4gWO6tHffvlzDHMkkRJ+RHDDAIrSnFyq06XWcox9HKaj1s9L31SfkZysnO32U36pJv8bPZtee6X1l4S/a18G+J/Evj7Tbm9/4R7/hXnie18I391rE0FpbXd/c21ncQJbuZDv8z7dBEoYK7SkqFPylvTK/Lb9qXwJZ+PdJ/aMgvptZt7eD9pbwMXfTtXu9NdEkh8MwuzSW8kbcJKxUk/I4SRdsiI6/pZ8Nfh1p/wAKPBdnoOl3GvXVjY7/AC5dZ1u91q9bc7Od91eSy3EnLEDfI20YUYUADT2a9hGp1aj+NKnNvy1m7f8AA1UtKjgu8vwnOKXnpFfeWPB/jKz8caZNd2UOqwxW93PZsuoaXc6fKXhkaNysdxGjtGWUlJFBSRcOjMrBjq1+fel3vxY+Nv7L17b+GPE0mt6tD8Y/F8F5oWoeO73wxqXirS7O+1TydLsdVgWS5tWjaO2dVi2L5VuyM8cRbP0J/wAE6fH+n+MvhL4h0+10n4leHdU8K+IZdI1rRfG3iRvEl9o1+La2mlt4tRa5uTc2485WVzO5Bd1Ij2+WmFB+0jzdeWMvk1HX0TlbS9nZO11e8QlSqez396UfnFyVn2bUb2drp3V7NL27S/GWj634h1TSbLVdNvNW0TyhqNlBcpJcWHmrvi86MHdHvUFl3AbgMjIrSr45/Z7+AWh6h/wVC/aI8RT33jaLVNLn8OX9tBF4x1eCxl83TpQTLZJci2nj3KwVJY3RCpChea8n8DQa1pH/AASO1L4zah8RvihfeOv7JvA2q3vjTUVt7C2XWHBxbJMtsDHGhH2h42nCZUylRgZRqPku1ra7/wAl3d/Jaeehzyq2vbXe3fR/131e1tV+j1FfK/x9+NWteHv+Cj3gzw94d1i4v5YfhL4q16Tw1DfsYb24S70pbKaW3VsMSwuI45CM8zBT96vF/wBibT/jR8UPD3wd+Ly+IvDK2PiiWyuvEuuXHxp1zWLbxDDOhS4tI/D8+mRabZ3PnEBY7ZoXgkh8vcw8xZN6cXPla62+V5zgvLeDb1ulaybdjWpJQUm+iv62hGf3tSSXR66pK5+iFFFFIYUUUUAFFFFABRRRQAUUUUAFFFFABRRRQAUUUUAFFFFABRRRQAUUUUAFFFFABRRRQAUUUUAFFFFABRRRQAUUUUAFFFFABRRRQAUUUUAFFFFABRRRQAUUUUAFFFFABRRRQAUUUUAFFFFABRRRQB6xXH/GD/jy0X/sI/8AtvPXYVyvxXsLi+sNLNvBNceRfeZIIoy7KvkTLnA56sB+NZmhyNFS/wBn3f8Az46j/wCAkv8A8TR/Z93/AM+Oo/8AgJL/APE1pczIqKl/s+7/AOfHUf8AwEl/+Jo/s+7/AOfHUf8AwEl/+JouBFRUv9n3f/PjqP8A4CS//E0f2fd/8+Oo/wDgJL/8TRcCKipf7Pu/+fHUf/ASX/4mj+z7v/nx1H/wEl/+JouBFRUv9n3f/PjqP/gJL/8AE0f2fd/8+Oo/+Akv/wATRcCKipf7Pu/+fHUf/ASX/wCJo/s+7/58dR/8BJf/AImi4EVFS/2fd/8APjqP/gJL/wDE0f2fd/8APjqP/gJL/wDE0XAioqX+z7v/AJ8dR/8AASX/AOJo/s+7/wCfHUf/AAEl/wDiaLgRUVL/AGfd/wDPjqP/AICS/wDxNH9n3f8Az46j/wCAkv8A8TRcCKipf7Pu/wDnx1H/AMBJf/iaP7Pu/wDnx1H/AMBJf/iaLgRUVL/Z93/z46j/AOAkv/xNH9n3f/PjqP8A4CS//E0XAioqX+z7v/nx1H/wEl/+Jo/s+7/58dR/8BJf/iaLgRUVL/Z93/z46j/4CS//ABNH9n3f/PjqP/gJL/8AE0XAioqX+z7v/nx1H/wEl/8AiaP7Pu/+fHUf/ASX/wCJouBFRUv9n3f/AD46j/4CS/8AxNH9n3f/AD46j/4CS/8AxNFwMjwt4M0fwNY3Fromk6bo9tdXU1/NFY2qW8c1xNI0k0zKgAaSSRmdnPLMxJJJJri/Bv7Hvwk+HPxOufG3h74W/DnQfGd5JPLca/p3hqytdUneckzM9ykYlZpCxLktliTnOa9L/s+7/wCfHUf/AAEl/wDiaP7Pu/8Anx1H/wABJf8A4mhWW3a3y7egS1373+e9/W55t8Lv2RPhP8DvGd74k8FfC/4d+D/EWpRPBd6ponhyz0+9uo3dZHSSaGNXZWdVYgkgsoJ5ApI/2QPhLF481DxUvwt+HS+J9Wu4r++1ceG7MX95cRTJPFNJP5fmPIk0aSK7MSrorAggGvSv7Pu/+fHUf/ASX/4mj+z7v/nx1H/wEl/+JojLlacfs7eXp2CV3dPrv5+pymq/BXwbr2jeJtOvvCXhm80/xo5k8Q2s+lwSQ68xiSEtdoykXBMUcceZA3yRqvRQBZ+Gvwu8M/BjwXZ+G/B/h3QvCfh3T9/2XS9GsIrGytt7s77IYlVF3OzMcAZLEnkmui/s+7/58dR/8BJf/iaP7Pu/+fHUf/ASX/4mjm6en4bfd07B/X3nn3jX9lj4YfErwU/hrxF8OPAev+HJNSk1p9K1Lw/aXVk19IzvJdmGSMoZ3aWRmkxvYyOSSWOei+Hnw48O/CPwdY+HfCeg6L4Y8P6YpSz0zSbGKys7RSxYiOGNVRAWYkhQOST3rf8A7Pu/+fHUf/ASX/4mj+z7v/nx1H/wEl/+JoWistv8tF9y0HK8nd/1fV/e9TivE37PXgDxr8T9I8b6z4H8H6t408PxiHS9fvdGtrjVNNQFyFguXQyxrl3OEYDLt6mtjRPh34f8M+DP+Ec03QtH0/w95UkH9l21lHDZeXIWMieSqhNrFmLDGCWOc5Nbv9n3f/PjqP8A4CS//E0f2fd/8+Oo/wDgJL/8TUtRceV7dvXf7x683N17+mx538KP2Ufhb8B7qGbwP8NfAHgya3E6xSaF4etNOaMT+T54UwxqR5n2e334+95EWc7FxBp37H/wl0f4vN8QrP4W/Dm18fSTyXTeJYfDdnHrDTSKUeQ3Yj87eysylt2SGIPBr0v+z7v/AJ8dR/8AASX/AOJo/s+7/wCfHUf/AAEl/wDiavmd1K+q0XkuxNtGujIqKl/s+7/58dR/8BJf/iaP7Pu/+fHUf/ASX/4mlcCKipf7Pu/+fHUf/ASX/wCJo/s+7/58dR/8BJf/AImi4EVFS/2fd/8APjqP/gJL/wDE0f2fd/8APjqP/gJL/wDE0XAioqX+z7v/AJ8dR/8AASX/AOJo/s+7/wCfHUf/AAEl/wDiaLgRUVL/AGfd/wDPjqP/AICS/wDxNH9n3f8Az46j/wCAkv8A8TRcCKipf7Pu/wDnx1H/AMBJf/iaP7Pu/wDnx1H/AMBJf/iaLgRUVL/Z93/z46j/AOAkv/xNH9n3f/PjqP8A4CS//E0XAioqX+z7v/nx1H/wEl/+Jo/s+7/58dR/8BJf/iaLgRUVL/Z93/z46j/4CS//ABNH9n3f/PjqP/gJL/8AE0XAioqX+z7v/nx1H/wEl/8AiaP7Pu/+fHUf/ASX/wCJouBFRUv9n3f/AD46j/4CS/8AxNH9n3f/AD46j/4CS/8AxNFwIqKl/s+7/wCfHUf/AAEl/wDiaP7Pu/8Anx1H/wABJf8A4mi4EVFS/wBn3f8Az46j/wCAkv8A8TR/Z93/AM+Oo/8AgJL/APE0XAioqX+z7v8A58dR/wDASX/4mj+z7v8A58dR/wDASX/4mi4EVFS/2fd/8+Oo/wDgJL/8TR/Z93/z46j/AOAkv/xNFwIqKl/s+7/58dR/8BJf/iaP7Pu/+fHUf/ASX/4mi4EVFS/2fd/8+Oo/+Akv/wATR/Z93/z46j/4CS//ABNFwIqKl/s+7/58dR/8BJf/AImj+z7v/nx1H/wEl/8AiaLgRUVL/Z93/wA+Oo/+Akv/AMTR/Z93/wA+Oo/+Akv/AMTRcCKipf7Pu/8Anx1H/wABJf8A4mj+z7v/AJ8dR/8AASX/AOJouBFRUv8AZ93/AM+Oo/8AgJL/APE0f2fd/wDPjqP/AICS/wDxNFwIqKl/s+7/AOfHUf8AwEl/+Jo/s+7/AOfHUf8AwEl/+JouBFRUv9n3f/PjqP8A4CS//E0f2fd/8+Oo/wDgJL/8TRcCKipf7Pu/+fHUf/ASX/4mj+z7v/nx1H/wEl/+JouBFRUv9n3f/PjqP/gJL/8AE0f2fd/8+Oo/+Akv/wATRcCKipf7Pu/+fHUf/ASX/wCJo/s+7/58dR/8BJf/AImi4EVFS/2fd/8APjqP/gJL/wDE0f2fd/8APjqP/gJL/wDE0XAioqX+z7v/AJ8dR/8AASX/AOJoouB6nRRRWZoFFFFABRRRQAUUUUAFFFFABRRRQAUUUUAFFFFABRRRQAUUUUAFFFFABRRRQAUUUUAFFFFABRRRQAUUUUAFFFFABRRRQAUUUUAFFFFABRRRQAUUUUAFFFFABRRRQAUUUUAFFFFABRRRQAUUUUAFFFFABRRRQAUUUUAFFFFABRRRQAUUUUAFFFFABRRRQAUUUUAFFFFABRRRQAUUUUAFFFFABRRRQAUUUUAFFFFABRRRQAUUUUAFFFFABRRRQAUUUUAFFFFAFfyrv/ntb/8Afg//ABdHlXf/AD2t/wDvwf8A4uiigA8q7/57W/8A34P/AMXR5V3/AM9rf/vwf/i6KKADyrv/AJ7W/wD34P8A8XR5V3/z2t/+/B/+LoooAPKu/wDntb/9+D/8XR5V3/z2t/8Avwf/AIuiigA8q7/57W//AH4P/wAXR5V3/wA9rf8A78H/AOLoooAPKu/+e1v/AN+D/wDF0eVd/wDPa3/78H/4uiigA8q7/wCe1v8A9+D/APF0eVd/89rf/vwf/i6KKADyrv8A57W//fg//F0eVd/89rf/AL8H/wCLoooAPKu/+e1v/wB+D/8AF0eVd/8APa3/AO/B/wDi6KKADyrv/ntb/wDfg/8AxdHlXf8Az2t/+/B/+LoooAPKu/8Antb/APfg/wDxdHlXf/Pa3/78H/4uiigA8q7/AOe1v/34P/xdHlXf/Pa3/wC/B/8Ai6KKADyrv/ntb/8Afg//ABdHlXf/AD2t/wDvwf8A4uiigA8q7/57W/8A34P/AMXR5V3/AM9rf/vwf/i6KKADyrv/AJ7W/wD34P8A8XR5V3/z2t/+/B/+LoooAPKu/wDntb/9+D/8XR5V3/z2t/8Avwf/AIuiigA8q7/57W//AH4P/wAXR5V3/wA9rf8A78H/AOLoooAPKu/+e1v/AN+D/wDF0eVd/wDPa3/78H/4uiigA8q7/wCe1v8A9+D/APF0eVd/89rf/vwf/i6KKADyrv8A57W//fg//F0eVd/89rf/AL8H/wCLoooAPKu/+e1v/wB+D/8AF0eVd/8APa3/AO/B/wDi6KKADyrv/ntb/wDfg/8AxdHlXf8Az2t/+/B/+LoooAPKu/8Antb/APfg/wDxdHlXf/Pa3/78H/4uiigA8q7/AOe1v/34P/xdHlXf/Pa3/wC/B/8Ai6KKADyrv/ntb/8Afg//ABdHlXf/AD2t/wDvwf8A4uiigA8q7/57W/8A34P/AMXR5V3/AM9rf/vwf/i6KKADyrv/AJ7W/wD34P8A8XR5V3/z2t/+/B/+LoooAPKu/wDntb/9+D/8XR5V3/z2t/8Avwf/AIuiigA8q7/57W//AH4P/wAXR5V3/wA9rf8A78H/AOLoooAPKu/+e1v/AN+D/wDF0eVd/wDPa3/78H/4uiigA8q7/wCe1v8A9+D/APF0eVd/89rf/vwf/i6KKADyrv8A57W//fg//F0eVd/89rf/AL8H/wCLoooAPKu/+e1v/wB+D/8AF0eVd/8APa3/AO/B/wDi6KKADyrv/ntb/wDfg/8AxdHlXf8Az2t/+/B/+LoooAPKu/8Antb/APfg/wDxdHlXf/Pa3/78H/4uiigA8q7/AOe1v/34P/xdHlXf/Pa3/wC/B/8Ai6KKADyrv/ntb/8Afg//ABdHlXf/AD2t/wDvwf8A4uiigA8q7/57W/8A34P/AMXR5V3/AM9rf/vwf/i6KKADyrv/AJ7W/wD34P8A8XR5V3/z2t/+/B/+LoooAPKu/wDntb/9+D/8XR5V3/z2t/8Avwf/AIuiigA8q7/57W//AH4P/wAXR5V3/wA9rf8A78H/AOLoooAPKu/+e1v/AN+D/wDF0eVd/wDPa3/78H/4uiigA8q7/wCe1v8A9+D/APF0eVd/89rf/vwf/i6KKADyrv8A57W//fg//F0eVd/89rf/AL8H/wCLoooAPKu/+e1v/wB+D/8AF0eVd/8APa3/AO/B/wDi6KKADyrv/ntb/wDfg/8AxdHlXf8Az2t/+/B/+LoooAPKu/8Antb/APfg/wDxdHlXf/Pa3/78H/4uiigA8q7/AOe1v/34P/xdHlXf/Pa3/wC/B/8Ai6KKADyrv/ntb/8Afg//ABdHlXf/AD2t/wDvwf8A4uiigA8q7/57W/8A34P/AMXRRRQB/9k=)"
   ]
  },
  {
   "cell_type": "code",
   "execution_count": null,
   "metadata": {
    "colab": {
     "base_uri": "https://localhost:8080/"
    },
    "id": "t0zEnCaInWKd",
    "outputId": "8b2bf9cb-5cbf-4d0e-9d44-27d1433164ac"
   },
   "outputs": [
    {
     "name": "stdout",
     "output_type": "stream",
     "text": [
      "True\n"
     ]
    }
   ],
   "source": [
    "x = 5\n",
    "\n",
    "print(x > 3 and x < 10)\n",
    "\n",
    "# returns True because 5 is greater than 3 AND 5 is less than 10"
   ]
  },
  {
   "cell_type": "code",
   "execution_count": null,
   "metadata": {
    "colab": {
     "base_uri": "https://localhost:8080/"
    },
    "id": "TZzLpZNfswoX",
    "outputId": "31616d23-f9f4-4ba1-ad11-3ef941c8c1f3"
   },
   "outputs": [
    {
     "name": "stdout",
     "output_type": "stream",
     "text": [
      "True\n"
     ]
    }
   ],
   "source": [
    "x = 5\n",
    "\n",
    "print(x > 3 or x < 4)\n",
    "\n",
    "# returns True because one of the conditions are true (5 is greater than 3, but 5 is not less than 4)\n"
   ]
  },
  {
   "cell_type": "code",
   "execution_count": null,
   "metadata": {
    "colab": {
     "base_uri": "https://localhost:8080/"
    },
    "id": "1gYoxvczsqj3",
    "outputId": "187860c8-1248-49d6-8b85-2f087f68daa5"
   },
   "outputs": [
    {
     "name": "stdout",
     "output_type": "stream",
     "text": [
      "False\n"
     ]
    }
   ],
   "source": [
    "x = 5\n",
    "\n",
    "print(not(x > 3 and x < 10))\n",
    "\n",
    "# returns False because not is used to reverse the result\n"
   ]
  },
  {
   "cell_type": "markdown",
   "metadata": {
    "id": "J1gtu5tltRFP"
   },
   "source": [
    "**Python Identity Operators**\n",
    "\n",
    "Identity operators are used to compare the objects, not if they are equal, but if they are actually the same object, with the same memory location:"
   ]
  },
  {
   "cell_type": "code",
   "execution_count": null,
   "metadata": {
    "colab": {
     "base_uri": "https://localhost:8080/"
    },
    "id": "OVTjfko_s7a_",
    "outputId": "7e5298a3-21e4-40a1-994e-20aab5d50b38"
   },
   "outputs": [
    {
     "name": "stdout",
     "output_type": "stream",
     "text": [
      "True\n",
      "False\n",
      "True\n"
     ]
    }
   ],
   "source": [
    "x = [\"apple\", \"banana\"]\n",
    "y = [\"apple\", \"banana\"]\n",
    "z = x\n",
    "\n",
    "print(x is z)\n",
    "\n",
    "# returns True because z is the same object as x\n",
    "\n",
    "print(x is y)\n",
    "\n",
    "# returns False because x is not the same object as y, even if they have the same content\n",
    "\n",
    "print(x == y)\n",
    "\n",
    "# to demonstrate the difference betweeen \"is\" and \"==\": this comparison returns True because x is equal to y\n"
   ]
  },
  {
   "cell_type": "code",
   "execution_count": null,
   "metadata": {
    "colab": {
     "base_uri": "https://localhost:8080/"
    },
    "id": "dhkAhQkltb-P",
    "outputId": "0838b4b8-5206-4bbe-e367-011e328a8028"
   },
   "outputs": [
    {
     "name": "stdout",
     "output_type": "stream",
     "text": [
      "False\n",
      "True\n",
      "False\n"
     ]
    }
   ],
   "source": [
    "x = [\"apple\", \"banana\"]\n",
    "y = [\"apple\", \"banana\"]\n",
    "z = x\n",
    "\n",
    "print(x is not z)\n",
    "\n",
    "# returns False because z is the same object as x\n",
    "\n",
    "print(x is not y)\n",
    "\n",
    "# returns True because x is not the same object as y, even if they have the same content\n",
    "\n",
    "print(x != y)\n",
    "\n",
    "# to demonstrate the difference betweeen \"is not\" and \"!=\": this comparison returns False because x is equal to y\n"
   ]
  },
  {
   "cell_type": "markdown",
   "metadata": {
    "id": "62GeRRuBtmQ0"
   },
   "source": [
    "Python Bitwise Operators\n",
    "\n",
    "Bitwise operators are used to compare (binary) numbers:\n",
    "![Bitwise.jpg](data:image/jpeg;base64,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)"
   ]
  },
  {
   "cell_type": "markdown",
   "metadata": {
    "id": "6ve04K8u1xtU"
   },
   "source": [
    "**Python Conditions and If statements**\n",
    "\n",
    "Python supports the usual logical conditions from mathematics:\n",
    "\n",
    "Equals: a == b\n",
    "\n",
    "Not Equals: a != b\n",
    "\n",
    "Less than: a < b\n",
    "\n",
    "Less than or equal to: a <= b\n",
    "\n",
    "Greater than: a > b\n",
    "\n",
    "Greater than or equal to: a >= b\n",
    "\n",
    "These conditions can be used in several ways, most commonly in \"if statements\" and loops.\n",
    "\n",
    "An \"**if statement**\" is written by using the **if** keyword."
   ]
  },
  {
   "cell_type": "code",
   "execution_count": null,
   "metadata": {
    "colab": {
     "base_uri": "https://localhost:8080/"
    },
    "id": "Q8LEc2z5tfqn",
    "outputId": "7f05ea2f-721d-463c-f173-c93634a0f3ff"
   },
   "outputs": [
    {
     "name": "stdout",
     "output_type": "stream",
     "text": [
      "b is greater than a\n"
     ]
    }
   ],
   "source": [
    "a = 33\n",
    "b = 200\n",
    "if b > a:\n",
    "  print(\"b is greater than a\")"
   ]
  },
  {
   "cell_type": "markdown",
   "metadata": {
    "id": "xMNwpSAp2E5r"
   },
   "source": [
    "In this example we use two variables, a and b, which are used as part of the if statement to test whether b is greater than a. As a is 33, and b is 200, we know that 200 is greater than 33, and so we print to screen that \"b is greater than a\".\n",
    "\n",
    "**Indentation**\n",
    "\n",
    "Python relies on indentation (whitespace at the beginning of a line) to define scope in the code. Other programming languages often use curly-brackets for this purpose."
   ]
  },
  {
   "cell_type": "markdown",
   "metadata": {
    "id": "17m4zlQ82YZD"
   },
   "source": [
    "**Elif**\n",
    "\n",
    "The elif keyword is pythons way of saying \"if the previous conditions were not true, then try this condition\"."
   ]
  },
  {
   "cell_type": "code",
   "execution_count": null,
   "metadata": {
    "colab": {
     "base_uri": "https://localhost:8080/"
    },
    "id": "3uYZsEdY1-yo",
    "outputId": "bc7e04fe-dd47-4fdb-8c76-d076af893afc"
   },
   "outputs": [
    {
     "name": "stdout",
     "output_type": "stream",
     "text": [
      "a and b are equal\n"
     ]
    }
   ],
   "source": [
    "a = 33\n",
    "b = 33\n",
    "if b > a:\n",
    "  print(\"b is greater than a\")\n",
    "elif a == b:\n",
    "  print(\"a and b are equal\")"
   ]
  },
  {
   "cell_type": "markdown",
   "metadata": {
    "id": "i28lPXHh2grs"
   },
   "source": [
    "In this example a is equal to b, so the first condition is not true, but the elif condition is true, so we print to screen that \"a and b are equal\".\n",
    "\n"
   ]
  },
  {
   "cell_type": "markdown",
   "metadata": {
    "id": "oGSwnTcV2qyq"
   },
   "source": [
    "**Else**\n",
    "\n",
    "The else keyword catches anything which isn't caught by the preceding conditions."
   ]
  },
  {
   "cell_type": "code",
   "execution_count": null,
   "metadata": {
    "colab": {
     "base_uri": "https://localhost:8080/"
    },
    "id": "6PIKSorI2ds3",
    "outputId": "8e46621b-3fe6-4e81-951d-8d224d800816"
   },
   "outputs": [
    {
     "name": "stdout",
     "output_type": "stream",
     "text": [
      "a is greater than b\n"
     ]
    }
   ],
   "source": [
    "a = 200\n",
    "b = 33\n",
    "if b > a:\n",
    "  print(\"b is greater than a\")\n",
    "elif a == b:\n",
    "  print(\"a and b are equal\")\n",
    "else:\n",
    "  print(\"a is greater than b\")"
   ]
  },
  {
   "cell_type": "markdown",
   "metadata": {
    "id": "LO8d6C7c23Ds"
   },
   "source": [
    "in this example a is greater than b, so the first condition is not true, also the elif condition is not true, so we go to the else condition and print to screen that \"a is greater than b\".\n",
    "\n",
    "\n",
    "You can also have an else without the elif:"
   ]
  },
  {
   "cell_type": "code",
   "execution_count": null,
   "metadata": {
    "colab": {
     "base_uri": "https://localhost:8080/"
    },
    "id": "PpxzzZw82vA0",
    "outputId": "fbfd4cc5-2e67-4f2d-fe6d-b02305b9c6fe"
   },
   "outputs": [
    {
     "name": "stdout",
     "output_type": "stream",
     "text": [
      "b is not greater than a\n"
     ]
    }
   ],
   "source": [
    "a = 200\n",
    "b = 33\n",
    "if b > a:\n",
    "  print(\"b is greater than a\")\n",
    "else:\n",
    "  print(\"b is not greater than a\")"
   ]
  },
  {
   "cell_type": "code",
   "execution_count": null,
   "metadata": {
    "colab": {
     "base_uri": "https://localhost:8080/"
    },
    "id": "PbvPkCMU29MF",
    "outputId": "fa897147-2514-4dd8-d273-cb1583861ada"
   },
   "outputs": [
    {
     "name": "stdout",
     "output_type": "stream",
     "text": [
      "B\n"
     ]
    }
   ],
   "source": [
    "a = 2\n",
    "b = 330\n",
    "print(\"A\") if a > b else print(\"B\")"
   ]
  },
  {
   "cell_type": "code",
   "execution_count": null,
   "metadata": {
    "colab": {
     "base_uri": "https://localhost:8080/"
    },
    "id": "O3-_ECd83Z00",
    "outputId": "bb7b70d7-41e7-4ccd-9846-aecbb92d7aae"
   },
   "outputs": [
    {
     "name": "stdout",
     "output_type": "stream",
     "text": [
      "=\n"
     ]
    }
   ],
   "source": [
    "a = 330\n",
    "b = 330\n",
    "print(\"A\") if a > b else print(\"=\") if a == b else print(\"B\")"
   ]
  },
  {
   "cell_type": "markdown",
   "metadata": {
    "id": "GY8BC8Fs3oF7"
   },
   "source": [
    "**And**\n",
    "\n",
    "The and keyword is a logical operator, and is used to combine conditional statements:"
   ]
  },
  {
   "cell_type": "code",
   "execution_count": null,
   "metadata": {
    "colab": {
     "base_uri": "https://localhost:8080/"
    },
    "id": "2umxmNAn3eg0",
    "outputId": "a053a4c3-50df-45c2-fc51-098a734fc2be"
   },
   "outputs": [
    {
     "name": "stdout",
     "output_type": "stream",
     "text": [
      "Both conditions are True\n"
     ]
    }
   ],
   "source": [
    "a = 200\n",
    "b = 33\n",
    "c = 500\n",
    "if a > b and c > a:\n",
    "  print(\"Both conditions are True\")"
   ]
  },
  {
   "cell_type": "markdown",
   "metadata": {
    "id": "5p5imyk732Ab"
   },
   "source": [
    "**Or**\n",
    "\n",
    "The or keyword is a logical operator, and is used to combine conditional statements:"
   ]
  },
  {
   "cell_type": "code",
   "execution_count": null,
   "metadata": {
    "colab": {
     "base_uri": "https://localhost:8080/"
    },
    "id": "-t81cs_o3wrb",
    "outputId": "20fa0640-ae60-4dfc-de63-a324a903f952"
   },
   "outputs": [
    {
     "name": "stdout",
     "output_type": "stream",
     "text": [
      "At least one of the conditions is True\n"
     ]
    }
   ],
   "source": [
    "a = 200\n",
    "b = 33\n",
    "c = 500\n",
    "if a > b or a > c:\n",
    "  print(\"At least one of the conditions is True\")"
   ]
  },
  {
   "cell_type": "markdown",
   "metadata": {
    "id": "uig_83rg4B2S"
   },
   "source": [
    "**Nested If**\n",
    "\n",
    "You can have if statements inside if statements, this is called nested if statements."
   ]
  },
  {
   "cell_type": "code",
   "execution_count": null,
   "metadata": {
    "colab": {
     "base_uri": "https://localhost:8080/"
    },
    "id": "vevqxZxL36rd",
    "outputId": "345e3782-6257-4594-e559-2f137a4448b2"
   },
   "outputs": [
    {
     "name": "stdout",
     "output_type": "stream",
     "text": [
      "Above ten,\n",
      "and also above 20!\n"
     ]
    }
   ],
   "source": [
    "x = 41\n",
    "\n",
    "if x > 10:\n",
    "  print(\"Above ten,\")\n",
    "  if x > 20:\n",
    "    print(\"and also above 20!\")\n",
    "  else:\n",
    "    print(\"but not above 20.\")"
   ]
  },
  {
   "cell_type": "markdown",
   "metadata": {
    "id": "8zDDm0Bq4jX9"
   },
   "source": [
    "**Python Loops**\n",
    "\n",
    "Python has two primitive loop commands:\n",
    "\n",
    "**while** loops\n",
    "\n",
    "**for** loops\n"
   ]
  },
  {
   "cell_type": "markdown",
   "metadata": {
    "id": "X2kAo5Wr4wFP"
   },
   "source": [
    "**The while Loop**\n",
    "\n",
    "With the while loop we can execute a set of statements as long as a condition is true."
   ]
  },
  {
   "cell_type": "code",
   "execution_count": null,
   "metadata": {
    "colab": {
     "base_uri": "https://localhost:8080/"
    },
    "id": "b28iqjVh4F8s",
    "outputId": "85a6e393-f491-4852-b61c-a3dd0ad10488"
   },
   "outputs": [
    {
     "name": "stdout",
     "output_type": "stream",
     "text": [
      "1\n",
      "2\n",
      "3\n",
      "4\n",
      "5\n"
     ]
    }
   ],
   "source": [
    "i = 1\n",
    "while i < 6:\n",
    "  print(i)\n",
    "  i =i+1"
   ]
  },
  {
   "cell_type": "code",
   "execution_count": null,
   "metadata": {
    "colab": {
     "base_uri": "https://localhost:8080/"
    },
    "id": "Qqiqh1CS40WR",
    "outputId": "c501849a-fa84-4c6d-933f-98a4d475afd9"
   },
   "outputs": [
    {
     "name": "stdout",
     "output_type": "stream",
     "text": [
      "1\n",
      "2\n",
      "3\n"
     ]
    }
   ],
   "source": [
    "i = 1\n",
    "while i < 6:\n",
    "  print(i)\n",
    "  if i == 3:\n",
    "    break\n",
    "  i += 1"
   ]
  },
  {
   "cell_type": "code",
   "execution_count": null,
   "metadata": {
    "colab": {
     "base_uri": "https://localhost:8080/"
    },
    "id": "gd0xXDwY59Dd",
    "outputId": "f2f6ef4f-a655-46e6-8f37-c2acc776c42d"
   },
   "outputs": [
    {
     "name": "stdout",
     "output_type": "stream",
     "text": [
      "1\n",
      "2\n",
      "4\n",
      "5\n",
      "6\n"
     ]
    }
   ],
   "source": [
    "i = 0\n",
    "while i < 6:\n",
    "  i += 1\n",
    "  if i == 3:\n",
    "    continue\n",
    "  print(i)"
   ]
  },
  {
   "cell_type": "code",
   "execution_count": null,
   "metadata": {
    "colab": {
     "base_uri": "https://localhost:8080/"
    },
    "id": "0HnBxhOo6ATW",
    "outputId": "fde0f9a9-857e-4148-a11c-de28d3a45d4a"
   },
   "outputs": [
    {
     "name": "stdout",
     "output_type": "stream",
     "text": [
      "1\n",
      "2\n",
      "3\n",
      "4\n",
      "5\n",
      "i is no longer less than 6\n"
     ]
    }
   ],
   "source": [
    "i = 1\n",
    "while i < 6:\n",
    "  print(i)\n",
    "  i += 1\n",
    "else:\n",
    "  print(\"i is no longer less than 6\")\n"
   ]
  },
  {
   "cell_type": "markdown",
   "metadata": {
    "id": "evYaZC7O6Vbb"
   },
   "source": [
    "**Python For Loops**\n",
    "\n",
    "A for loop is used for iterating over a sequence (that is either a list, a tuple, a dictionary, a set, or a string).\n",
    "\n",
    "This is less like the for keyword in other programming languages, and works more like an iterator method as found in other object-orientated programming languages.\n",
    "\n",
    "With the for loop we can execute a set of statements, once for each item in a list, tuple, set etc."
   ]
  },
  {
   "cell_type": "code",
   "execution_count": 2,
   "metadata": {
    "colab": {
     "base_uri": "https://localhost:8080/"
    },
    "id": "-YDcdCCm6E_F",
    "outputId": "f6398912-ea52-4ff2-89e6-f69c5e3a6c94"
   },
   "outputs": [
    {
     "name": "stdout",
     "output_type": "stream",
     "text": [
      "apple\n",
      "banana\n",
      "cherry\n"
     ]
    }
   ],
   "source": [
    "fruits = [\"apple\", \"banana\", \"cherry\"]\n",
    "for x in fruits:\n",
    "  print(x)"
   ]
  },
  {
   "cell_type": "code",
   "execution_count": null,
   "metadata": {
    "colab": {
     "base_uri": "https://localhost:8080/"
    },
    "id": "i9w33WPl6aFW",
    "outputId": "7e9d5291-8e38-49b9-e5da-82fa8fe036f3"
   },
   "outputs": [
    {
     "name": "stdout",
     "output_type": "stream",
     "text": [
      "b\n",
      "a\n",
      "n\n",
      "a\n",
      "n\n",
      "a\n"
     ]
    }
   ],
   "source": [
    "for x in \"banana\":\n",
    "  print(x)"
   ]
  },
  {
   "cell_type": "markdown",
   "metadata": {
    "id": "e5B9y9vh6w2L"
   },
   "source": [
    "With the break statement we can stop the loop before it has looped through all the items:"
   ]
  },
  {
   "cell_type": "code",
   "execution_count": null,
   "metadata": {
    "colab": {
     "base_uri": "https://localhost:8080/"
    },
    "id": "-WLHG-yu6jDd",
    "outputId": "d133d63c-23a8-4d73-fd71-b4014c03f6dc"
   },
   "outputs": [
    {
     "name": "stdout",
     "output_type": "stream",
     "text": [
      "apple\n",
      "banana\n"
     ]
    }
   ],
   "source": [
    "fruits = [\"apple\", \"banana\", \"cherry\"]\n",
    "for x in fruits:\n",
    "  print(x)\n",
    "  if x == \"banana\":\n",
    "    break"
   ]
  },
  {
   "cell_type": "code",
   "execution_count": null,
   "metadata": {
    "colab": {
     "base_uri": "https://localhost:8080/"
    },
    "id": "4LMSMWQZ6uYN",
    "outputId": "af3eb0e2-c01c-444f-a040-cf3836afcc22",
    "scrolled": true
   },
   "outputs": [
    {
     "name": "stdout",
     "output_type": "stream",
     "text": [
      "apple\n"
     ]
    }
   ],
   "source": [
    "fruits = [\"apple\", \"banana\", \"cherry\"]\n",
    "for x in fruits:\n",
    "  if x == \"banana\":\n",
    "    break\n",
    "  print(x)"
   ]
  },
  {
   "cell_type": "markdown",
   "metadata": {
    "id": "c7B12KIf8J4i"
   },
   "source": [
    "**Python Functions**\n",
    "\n",
    "A function is a block of code which only runs when it is called.\n",
    "\n",
    "You can pass data, known as parameters, into a function.\n",
    "\n",
    "A function can return data as a result.\n",
    "\n",
    "**Creating a Function**\n",
    "\n",
    "In Python a function is defined using the **def** keyword:\n"
   ]
  },
  {
   "cell_type": "code",
   "execution_count": null,
   "metadata": {
    "id": "S9JU-X0-7DcA"
   },
   "outputs": [],
   "source": [
    "def my_function():\n",
    "  print(\"Hello from a function\")"
   ]
  },
  {
   "cell_type": "markdown",
   "metadata": {
    "id": "XwKsq2eo8g8F"
   },
   "source": [
    "**Calling a Function**\n",
    "\n",
    "To call a function, use the function name followed by parenthesis:"
   ]
  },
  {
   "cell_type": "code",
   "execution_count": null,
   "metadata": {
    "colab": {
     "base_uri": "https://localhost:8080/"
    },
    "id": "FVgi7EBc8ctI",
    "outputId": "737478d8-7535-4f4c-88de-37f421d9b65a"
   },
   "outputs": [
    {
     "name": "stdout",
     "output_type": "stream",
     "text": [
      "Hello from a function\n"
     ]
    }
   ],
   "source": [
    "def my_function():\n",
    "  print(\"Hello from a function\")\n",
    "\n",
    "my_function()"
   ]
  },
  {
   "cell_type": "markdown",
   "metadata": {
    "id": "DVXERYIx8rCq"
   },
   "source": [
    "**Arguments**\n",
    "\n",
    "Information can be passed into functions as arguments.\n",
    "\n",
    "Arguments are specified after the function name, inside the parentheses. You can add as many arguments as you want, just separate them with a comma.\n",
    "\n",
    "The following example has a function with one argument (fname). When the function is called, we pass along a first name, which is used inside the function to print the full name:"
   ]
  },
  {
   "cell_type": "code",
   "execution_count": null,
   "metadata": {
    "colab": {
     "base_uri": "https://localhost:8080/"
    },
    "id": "iOy23j_F8l5n",
    "outputId": "cb90ecc5-bda9-4ae0-d524-d18941153180"
   },
   "outputs": [
    {
     "name": "stdout",
     "output_type": "stream",
     "text": [
      "Jalgaon is District\n",
      "Dhule is District\n",
      "Nashik is District\n"
     ]
    }
   ],
   "source": [
    "def my_function(fname):\n",
    "  print(fname + \" is District\")\n",
    "\n",
    "my_function(\"Jalgaon\")\n",
    "my_function(\"Dhule\")\n",
    "my_function(\"Nashik\")"
   ]
  },
  {
   "cell_type": "markdown",
   "metadata": {
    "id": "PqAC_FrV9D1M"
   },
   "source": [
    "**Parameters or Arguments**\n",
    "\n",
    "The terms parameter and argument can be used for the same thing: information that are passed into a function.\n",
    "\n",
    "**From a function's perspective:**\n",
    "\n",
    "A parameter is the variable listed inside the parentheses in the function definition.\n",
    "\n",
    "An argument is the value that is sent to the function when it is called.\n",
    "\n",
    "**Number of Arguments**\n",
    "\n",
    "By default, a function must be called with the correct number of arguments. Meaning that if your function expects 2 arguments, you have to call the function with 2 arguments, not more, and not less."
   ]
  },
  {
   "cell_type": "code",
   "execution_count": null,
   "metadata": {
    "colab": {
     "base_uri": "https://localhost:8080/"
    },
    "id": "O-9DP_EY8xFc",
    "outputId": "e1bfb101-c9ce-4e56-834e-f04842760d9e"
   },
   "outputs": [
    {
     "name": "stdout",
     "output_type": "stream",
     "text": [
      "RCPIT Shirpur\n"
     ]
    }
   ],
   "source": [
    "def my_function(fname, lname):\n",
    "  print(fname + \" \" + lname)\n",
    "\n",
    "my_function(\"RCPIT\", \"Shirpur\")"
   ]
  },
  {
   "cell_type": "markdown",
   "metadata": {
    "id": "sGyJ5cNw9j0x"
   },
   "source": [
    "Arbitrary Arguments, *args\n",
    "\n",
    "If you do not know how many arguments that will be passed into your function, add a * before the parameter name in the function definition.\n",
    "\n",
    "This way the function will receive a tuple of arguments, and can access the items accordingly:"
   ]
  },
  {
   "cell_type": "code",
   "execution_count": null,
   "metadata": {
    "colab": {
     "base_uri": "https://localhost:8080/"
    },
    "id": "_AHgmrrf9R12",
    "outputId": "ed5f37bb-4634-4a66-a77d-edfd32dbfa75"
   },
   "outputs": [
    {
     "name": "stdout",
     "output_type": "stream",
     "text": [
      "The youngest child is Suraj\n"
     ]
    }
   ],
   "source": [
    "def my_function(*kids):\n",
    "  print(\"The youngest child is \" + kids[2])\n",
    "\n",
    "my_function(\"amit\", \"Jay\", \"Suraj\")"
   ]
  },
  {
   "cell_type": "code",
   "execution_count": null,
   "metadata": {
    "colab": {
     "base_uri": "https://localhost:8080/"
    },
    "id": "YclUahpd98a_",
    "outputId": "58ec044b-c966-485d-97de-e690e26e33c6"
   },
   "outputs": [
    {
     "name": "stdout",
     "output_type": "stream",
     "text": [
      "The youngest child is Jay\n"
     ]
    }
   ],
   "source": [
    "def my_function(child3, child2, child1):\n",
    "  print(\"The youngest child is \" + child2)\n",
    "\n",
    "my_function(child1 = \"amit\", child2 = \"Jay\", child3 = \"Suraj\")"
   ]
  },
  {
   "cell_type": "markdown",
   "metadata": {
    "id": "UbL2AoI0-7Je"
   },
   "source": [
    "Default Parameter Value\n",
    "\n",
    "The following example shows how to use a default parameter value.\n",
    "\n",
    "If we call the function without argument, it uses the default value:"
   ]
  },
  {
   "cell_type": "code",
   "execution_count": null,
   "metadata": {
    "colab": {
     "base_uri": "https://localhost:8080/"
    },
    "id": "-5dnbIuA-a--",
    "outputId": "2d9d7b00-9a43-4736-ddfc-c0255d912543"
   },
   "outputs": [
    {
     "name": "stdout",
     "output_type": "stream",
     "text": [
      "I am from Sweden\n",
      "I am from India\n",
      "I am from Norway\n",
      "I am from Brazil\n"
     ]
    }
   ],
   "source": [
    "def my_function(country = \"Norway\"):\n",
    "  print(\"I am from \" + country)\n",
    "\n",
    "my_function(\"Sweden\")\n",
    "my_function(\"India\")\n",
    "my_function()\n",
    "my_function(\"Brazil\")\n"
   ]
  },
  {
   "cell_type": "markdown",
   "metadata": {
    "id": "mb0mOSVz_L_O"
   },
   "source": [
    "Passing a List as an Argument\n",
    "\n",
    "You can send any data types of argument to a function (string, number, list, dictionary etc.), and it will be treated as the same data type inside the function.\n",
    "\n",
    "E.g. if you send a List as an argument, it will still be a List when it reaches the function:"
   ]
  },
  {
   "cell_type": "code",
   "execution_count": null,
   "metadata": {
    "colab": {
     "base_uri": "https://localhost:8080/"
    },
    "id": "DEBHfVoE-_em",
    "outputId": "0a72b7e3-3850-4fa8-8f2f-941401c45657"
   },
   "outputs": [
    {
     "name": "stdout",
     "output_type": "stream",
     "text": [
      "apple\n",
      "banana\n",
      "cherry\n"
     ]
    }
   ],
   "source": [
    "def my_function(food):\n",
    "  for x in food:\n",
    "    print(x)\n",
    "\n",
    "fruits = [\"apple\", \"banana\", \"cherry\"]\n",
    "\n",
    "my_function(fruits)"
   ]
  },
  {
   "cell_type": "code",
   "execution_count": null,
   "metadata": {
    "colab": {
     "base_uri": "https://localhost:8080/"
    },
    "id": "54GLbW8v_SFl",
    "outputId": "d42ea535-12d0-42b8-97b9-6e7a943fef0f"
   },
   "outputs": [
    {
     "name": "stdout",
     "output_type": "stream",
     "text": [
      "15\n",
      "25\n",
      "45\n"
     ]
    }
   ],
   "source": [
    "def my_function(x):\n",
    "  return 5 * x\n",
    "\n",
    "print(my_function(3))\n",
    "print(my_function(5))\n",
    "print(my_function(9))"
   ]
  },
  {
   "cell_type": "markdown",
   "metadata": {
    "id": "LSerc_5DAEpt"
   },
   "source": [
    "**Python Lambda**\n",
    "\n",
    "A lambda function is a small anonymous function.\n",
    "\n",
    "A lambda function can take any number of arguments, but can only have one expression.\n",
    "\n",
    "lambda arguments : expression\n",
    "\n"
   ]
  },
  {
   "cell_type": "code",
   "execution_count": null,
   "metadata": {
    "colab": {
     "base_uri": "https://localhost:8080/"
    },
    "id": "7k4V6Cl4_XkV",
    "outputId": "40acb269-f777-4ac5-c085-90d6a78c1b72"
   },
   "outputs": [
    {
     "name": "stdout",
     "output_type": "stream",
     "text": [
      "15\n"
     ]
    }
   ],
   "source": [
    "x = lambda a : a + 10\n",
    "print(x(5))"
   ]
  },
  {
   "cell_type": "code",
   "execution_count": null,
   "metadata": {
    "colab": {
     "base_uri": "https://localhost:8080/"
    },
    "id": "bQSyrjBWAXjU",
    "outputId": "ce73291a-9728-4003-82b7-78ee1b36fed7"
   },
   "outputs": [
    {
     "name": "stdout",
     "output_type": "stream",
     "text": [
      "30\n"
     ]
    }
   ],
   "source": [
    "x = lambda a, b : a * b\n",
    "print(x(5, 6))\n"
   ]
  },
  {
   "cell_type": "code",
   "execution_count": null,
   "metadata": {
    "colab": {
     "base_uri": "https://localhost:8080/"
    },
    "id": "lLatfH4ZAbPk",
    "outputId": "d3a9500e-1b13-412f-eda6-a41520fb5dd5"
   },
   "outputs": [
    {
     "name": "stdout",
     "output_type": "stream",
     "text": [
      "13\n"
     ]
    }
   ],
   "source": [
    "x = lambda a, b, c : a + b + c\n",
    "print(x(5, 6, 2))"
   ]
  },
  {
   "cell_type": "code",
   "execution_count": null,
   "metadata": {
    "id": "01_wJXzdAhxi"
   },
   "outputs": [],
   "source": [
    "def myfunc(n):\n",
    "  return lambda a : a * n"
   ]
  },
  {
   "cell_type": "code",
   "execution_count": null,
   "metadata": {
    "colab": {
     "base_uri": "https://localhost:8080/"
    },
    "id": "j6P-4yhwApUZ",
    "outputId": "5e5c1cd4-cb95-4c6c-cae1-289ba3ec13f1"
   },
   "outputs": [
    {
     "name": "stdout",
     "output_type": "stream",
     "text": [
      "22\n",
      "33\n"
     ]
    }
   ],
   "source": [
    "def myfunc(n):\n",
    "  return lambda a : a * n\n",
    "\n",
    "mydoubler = myfunc(2)\n",
    "mytripler = myfunc(3)\n",
    "\n",
    "print(mydoubler(11))\n",
    "print(mytripler(11))"
   ]
  },
  {
   "cell_type": "markdown",
   "metadata": {
    "id": "vnWROCJxBWR8"
   },
   "source": [
    "**Python Lists**\n",
    "\n",
    "Lists are used to store multiple items in a single variable.\n",
    "\n",
    "Lists are one of 4 built-in data types in Python used to store collections of data, the other 3 are Tuple, Set, and Dictionary, all with different qualities and usage.\n",
    "\n",
    "Lists are created using square brackets:"
   ]
  },
  {
   "cell_type": "code",
   "execution_count": null,
   "metadata": {
    "colab": {
     "base_uri": "https://localhost:8080/"
    },
    "id": "D0k_bSrkBipl",
    "outputId": "62c13db9-5f1f-4f02-ef6e-cb3bc5ae0045"
   },
   "outputs": [
    {
     "name": "stdout",
     "output_type": "stream",
     "text": [
      "['apple', 'banana', 'cherry']\n"
     ]
    }
   ],
   "source": [
    "list = [\"apple\", \"banana\", \"cherry\"]\n",
    "print(list)"
   ]
  },
  {
   "cell_type": "markdown",
   "metadata": {
    "id": "8gu--nu9Byzh"
   },
   "source": [
    "**list Items**\n",
    "\n",
    "List items are ordered, changeable, and allow duplicate values.\n",
    "\n",
    "List items are indexed, the first item has index [0], the second item has index [1] etc.\n",
    "\n",
    "**Ordered**\n",
    "\n",
    "When we say that lists are ordered, it means that the items have a defined order, and that order will not change.\n",
    "\n",
    "If you add new items to a list, the new items will be placed at the end of the list.\n",
    "\n",
    "Note: There are some list methods that will change the order, but in general: the order of the items will not change.\n",
    "\n",
    "**Changeable**\n",
    "\n",
    "The list is changeable, meaning that we can change, add, and remove items in a list after it has been created.\n",
    "\n",
    "**Allow Duplicates**\n",
    "\n",
    "Since lists are indexed, lists can have items with the same value:"
   ]
  },
  {
   "cell_type": "code",
   "execution_count": null,
   "metadata": {
    "colab": {
     "base_uri": "https://localhost:8080/"
    },
    "id": "7jjE9Fz0Bn1s",
    "outputId": "197587fe-8aad-4fce-fce3-e4ab561b2e3c"
   },
   "outputs": [
    {
     "name": "stdout",
     "output_type": "stream",
     "text": [
      "['apple', 'banana', 'cherry', 'apple', 'cherry']\n"
     ]
    }
   ],
   "source": [
    "thislist = [\"apple\", \"banana\", \"cherry\", \"apple\", \"cherry\"]\n",
    "print(thislist)"
   ]
  },
  {
   "cell_type": "code",
   "execution_count": null,
   "metadata": {
    "colab": {
     "base_uri": "https://localhost:8080/"
    },
    "id": "hpWwiIEsCFOm",
    "outputId": "6ffb2abb-88e5-4997-fc96-2bd03586797e"
   },
   "outputs": [
    {
     "name": "stdout",
     "output_type": "stream",
     "text": [
      "3\n"
     ]
    }
   ],
   "source": [
    "thislist = [\"apple\", \"banana\", \"cherry\"]\n",
    "print(len(thislist))"
   ]
  },
  {
   "cell_type": "code",
   "execution_count": null,
   "metadata": {
    "colab": {
     "base_uri": "https://localhost:8080/"
    },
    "id": "uA48uFxNCItl",
    "outputId": "a4afddb6-d03c-4d73-bf88-50e5b16d15d8"
   },
   "outputs": [
    {
     "name": "stdout",
     "output_type": "stream",
     "text": [
      "['apple', 'banana', 'cherry']\n",
      "[1, 5, 7, 9, 3]\n",
      "[True, False, False]\n"
     ]
    }
   ],
   "source": [
    "list1 = [\"apple\", \"banana\", \"cherry\"]\n",
    "list2 = [1, 5, 7, 9, 3]\n",
    "list3 = [True, False, False]\n",
    "\n",
    "print(list1)\n",
    "print(list2)\n",
    "print(list3)\n"
   ]
  },
  {
   "cell_type": "code",
   "execution_count": null,
   "metadata": {
    "colab": {
     "base_uri": "https://localhost:8080/"
    },
    "id": "eI4DT_jFCOAN",
    "outputId": "fac106af-2002-4ae3-a21d-49186e30ff86"
   },
   "outputs": [
    {
     "name": "stdout",
     "output_type": "stream",
     "text": [
      "['abc', 34, True, 40, 'male']\n"
     ]
    }
   ],
   "source": [
    "list1 = [\"abc\", 34, True, 40, \"male\"]\n",
    "\n",
    "print(list1)\n"
   ]
  },
  {
   "cell_type": "code",
   "execution_count": null,
   "metadata": {
    "colab": {
     "base_uri": "https://localhost:8080/"
    },
    "id": "bsj_vjJ6CS0N",
    "outputId": "92ef0547-8307-4782-8f18-d47db16830a0"
   },
   "outputs": [
    {
     "name": "stdout",
     "output_type": "stream",
     "text": [
      "<class 'list'>\n"
     ]
    }
   ],
   "source": [
    "mylist = [\"apple\", \"banana\", \"cherry\"]\n",
    "print(type(mylist))"
   ]
  },
  {
   "cell_type": "code",
   "execution_count": null,
   "metadata": {
    "colab": {
     "base_uri": "https://localhost:8080/"
    },
    "id": "IgPpH2vWCXGN",
    "outputId": "667728ee-60f5-43d4-ee06-d366d7a0a35b"
   },
   "outputs": [
    {
     "name": "stdout",
     "output_type": "stream",
     "text": [
      "banana\n"
     ]
    }
   ],
   "source": [
    "thislist = [\"apple\", \"banana\", \"cherry\"]\n",
    "print(thislist[1])"
   ]
  },
  {
   "cell_type": "code",
   "execution_count": null,
   "metadata": {
    "colab": {
     "base_uri": "https://localhost:8080/"
    },
    "id": "o_zbx9DFCcsI",
    "outputId": "8e842d5f-222d-4f24-a716-875defc18130"
   },
   "outputs": [
    {
     "name": "stdout",
     "output_type": "stream",
     "text": [
      "cherry\n"
     ]
    }
   ],
   "source": [
    "thislist = [\"apple\", \"banana\", \"cherry\"]\n",
    "print(thislist[-1])"
   ]
  },
  {
   "cell_type": "markdown",
   "metadata": {
    "id": "uVRPllF3DuRp"
   },
   "source": [
    "**Range of Indexes**\n",
    "\n",
    "You can specify a range of indexes by specifying where to start and where to end the range.\n",
    "\n",
    "When specifying a range, the return value will be a new list with the specified items."
   ]
  },
  {
   "cell_type": "code",
   "execution_count": null,
   "metadata": {
    "colab": {
     "base_uri": "https://localhost:8080/"
    },
    "id": "mQ_54jcxDi8u",
    "outputId": "ea4e287c-e76d-4135-aaf8-c5e740eacdb4"
   },
   "outputs": [
    {
     "name": "stdout",
     "output_type": "stream",
     "text": [
      "['cherry', 'orange', 'kiwi']\n"
     ]
    }
   ],
   "source": [
    "thislist = [\"apple\", \"banana\", \"cherry\", \"orange\", \"kiwi\", \"melon\", \"mango\"]\n",
    "print(thislist[2:5])"
   ]
  },
  {
   "cell_type": "code",
   "execution_count": null,
   "metadata": {
    "colab": {
     "base_uri": "https://localhost:8080/"
    },
    "id": "z0NdY3ZbDziE",
    "outputId": "0fac8a0c-e4af-4da0-a17f-8fd5d17bc380"
   },
   "outputs": [
    {
     "name": "stdout",
     "output_type": "stream",
     "text": [
      "['apple', 'banana', 'cherry', 'orange']\n"
     ]
    }
   ],
   "source": [
    "thislist = [\"apple\", \"banana\", \"cherry\", \"orange\", \"kiwi\", \"melon\", \"mango\"]\n",
    "print(thislist[:4])"
   ]
  },
  {
   "cell_type": "code",
   "execution_count": null,
   "metadata": {
    "colab": {
     "base_uri": "https://localhost:8080/"
    },
    "id": "oIUSozRnD7rG",
    "outputId": "dcbcd7fc-82e6-4d68-e18d-f6b494797d39"
   },
   "outputs": [
    {
     "name": "stdout",
     "output_type": "stream",
     "text": [
      "['cherry', 'orange', 'kiwi', 'melon', 'mango']\n"
     ]
    }
   ],
   "source": [
    "thislist = [\"apple\", \"banana\", \"cherry\", \"orange\", \"kiwi\", \"melon\", \"mango\"]\n",
    "print(thislist[2:])"
   ]
  },
  {
   "cell_type": "markdown",
   "metadata": {
    "id": "9VgC0SpjEX3V"
   },
   "source": [
    "Range of Negative Indexes\n",
    "\n",
    "Specify negative indexes if you want to start the search from the end of the list:"
   ]
  },
  {
   "cell_type": "code",
   "execution_count": null,
   "metadata": {
    "colab": {
     "base_uri": "https://localhost:8080/"
    },
    "id": "u5K5JCEAECVy",
    "outputId": "557ed282-6fa0-4322-c62c-b468d143f7b6"
   },
   "outputs": [
    {
     "name": "stdout",
     "output_type": "stream",
     "text": [
      "['orange', 'kiwi', 'melon']\n"
     ]
    }
   ],
   "source": [
    "thislist = [\"apple\", \"banana\", \"cherry\", \"orange\", \"kiwi\", \"melon\", \"mango\"]\n",
    "print(thislist[-4:-1])"
   ]
  },
  {
   "cell_type": "code",
   "execution_count": null,
   "metadata": {
    "colab": {
     "base_uri": "https://localhost:8080/"
    },
    "id": "rsvi69dmEb5t",
    "outputId": "c833c768-a131-4111-e17a-d22ec0daa38c"
   },
   "outputs": [
    {
     "name": "stdout",
     "output_type": "stream",
     "text": [
      "Yes, 'apple' is in the fruits list\n"
     ]
    }
   ],
   "source": [
    "thislist = [\"apple\", \"banana\", \"cherry\"]\n",
    "if \"apple\" in thislist:\n",
    "  print(\"Yes, 'apple' is in the fruits list\")"
   ]
  },
  {
   "cell_type": "markdown",
   "metadata": {
    "id": "6iBYymGeEsZS"
   },
   "source": [
    "Change Item Value\n",
    "\n",
    "To change the value of a specific item, refer to the index number:"
   ]
  },
  {
   "cell_type": "code",
   "execution_count": null,
   "metadata": {
    "colab": {
     "base_uri": "https://localhost:8080/"
    },
    "id": "Vwauh_KqEiIi",
    "outputId": "0474f4d7-0007-48eb-f0c5-56c3b8592712"
   },
   "outputs": [
    {
     "name": "stdout",
     "output_type": "stream",
     "text": [
      "['apple', 'blackcurrant', 'cherry']\n"
     ]
    }
   ],
   "source": [
    "thislist = [\"apple\", \"banana\", \"cherry\"]\n",
    "thislist[1] = \"blackcurrant\"\n",
    "print(thislist)"
   ]
  },
  {
   "cell_type": "code",
   "execution_count": null,
   "metadata": {
    "colab": {
     "base_uri": "https://localhost:8080/"
    },
    "id": "6j4GLADaE2y0",
    "outputId": "c1de9937-abe9-4ee8-c73e-eabc4d88e9c8"
   },
   "outputs": [
    {
     "name": "stdout",
     "output_type": "stream",
     "text": [
      "['apple', 'blackcurrant', 'watermelon', 'orange', 'kiwi', 'mango']\n"
     ]
    }
   ],
   "source": [
    "thislist = [\"apple\", \"banana\", \"cherry\", \"orange\", \"kiwi\", \"mango\"]\n",
    "thislist[1:3] = [\"blackcurrant\", \"watermelon\"]\n",
    "print(thislist)"
   ]
  },
  {
   "cell_type": "code",
   "execution_count": null,
   "metadata": {
    "colab": {
     "base_uri": "https://localhost:8080/"
    },
    "id": "BT1UiHl_E-qy",
    "outputId": "810626c5-903a-4a19-f275-e4686c003aaf"
   },
   "outputs": [
    {
     "name": "stdout",
     "output_type": "stream",
     "text": [
      "['apple', 'blackcurrant', 'watermelon', 'cherry']\n"
     ]
    }
   ],
   "source": [
    "thislist = [\"apple\", \"banana\", \"cherry\"]\n",
    "thislist[1:2] = [\"blackcurrant\", \"watermelon\"]\n",
    "print(thislist)"
   ]
  },
  {
   "cell_type": "code",
   "execution_count": null,
   "metadata": {
    "colab": {
     "base_uri": "https://localhost:8080/"
    },
    "id": "blYKFdinFNkS",
    "outputId": "5881ed83-01f9-4297-febd-7eaf52db0bac"
   },
   "outputs": [
    {
     "name": "stdout",
     "output_type": "stream",
     "text": [
      "['apple', 'watermelon']\n"
     ]
    }
   ],
   "source": [
    "thislist = [\"apple\", \"banana\", \"cherry\"]\n",
    "thislist[1:3] = [\"watermelon\"]\n",
    "print(thislist)"
   ]
  },
  {
   "cell_type": "markdown",
   "metadata": {
    "id": "vTZt0SHSFa8G"
   },
   "source": [
    "**Append Items**\n",
    "\n",
    "To add an item to the end of the list, use the append() method:"
   ]
  },
  {
   "cell_type": "code",
   "execution_count": null,
   "metadata": {
    "colab": {
     "base_uri": "https://localhost:8080/"
    },
    "id": "ZqSr7WI6FVVl",
    "outputId": "3d68e7ce-4b74-4434-9b47-25ce4e4af65c"
   },
   "outputs": [
    {
     "name": "stdout",
     "output_type": "stream",
     "text": [
      "['apple', 'banana', 'cherry', 'orange']\n"
     ]
    }
   ],
   "source": [
    "thislist = [\"apple\", \"banana\", \"cherry\"]\n",
    "thislist.append(\"orange\")\n",
    "print(thislist)"
   ]
  },
  {
   "cell_type": "markdown",
   "metadata": {
    "id": "bv85H1u8FnpE"
   },
   "source": [
    "**Insert Items**\n",
    "\n",
    "To insert a list item at a specified index, use the insert() method.\n",
    "\n",
    "The insert() method inserts an item at the specified index:"
   ]
  },
  {
   "cell_type": "code",
   "execution_count": null,
   "metadata": {
    "colab": {
     "base_uri": "https://localhost:8080/"
    },
    "id": "ZZFhWvtHFg5a",
    "outputId": "1eedc7a1-cb17-4e92-cd18-e7d60deb9807"
   },
   "outputs": [
    {
     "name": "stdout",
     "output_type": "stream",
     "text": [
      "['apple', 'orange', 'banana', 'cherry']\n"
     ]
    }
   ],
   "source": [
    "thislist = [\"apple\", \"banana\", \"cherry\"]\n",
    "thislist.insert(1, \"orange\")\n",
    "print(thislist)"
   ]
  },
  {
   "cell_type": "markdown",
   "metadata": {
    "id": "qx-IseT4GQJO"
   },
   "source": [
    "**Extend List**\n",
    "\n",
    "To append elements from another list to the current list, use the extend() method."
   ]
  },
  {
   "cell_type": "code",
   "execution_count": null,
   "metadata": {
    "colab": {
     "base_uri": "https://localhost:8080/"
    },
    "id": "PBHBj_1FFsjY",
    "outputId": "62f43902-d833-434d-b3f5-00d6c1d8ead8"
   },
   "outputs": [
    {
     "name": "stdout",
     "output_type": "stream",
     "text": [
      "['apple', 'banana', 'cherry', 'mango', 'pineapple', 'papaya']\n"
     ]
    }
   ],
   "source": [
    "thislist = [\"apple\", \"banana\", \"cherry\"]\n",
    "tropical = [\"mango\", \"pineapple\", \"papaya\"]\n",
    "thislist.extend(tropical)\n",
    "print(thislist)"
   ]
  },
  {
   "cell_type": "markdown",
   "metadata": {
    "id": "NOUVoAvRGnB9"
   },
   "source": [
    "**Remove Specified Item**\n",
    "\n",
    "The remove() method removes the specified item."
   ]
  },
  {
   "cell_type": "code",
   "execution_count": null,
   "metadata": {
    "colab": {
     "base_uri": "https://localhost:8080/"
    },
    "id": "O1MxoRiwGVSG",
    "outputId": "7b882ea7-cd9a-4918-caf8-152877d072cd"
   },
   "outputs": [
    {
     "name": "stdout",
     "output_type": "stream",
     "text": [
      "['apple', 'cherry']\n"
     ]
    }
   ],
   "source": [
    "thislist = [\"apple\", \"banana\", \"cherry\"]\n",
    "thislist.remove(\"banana\")\n",
    "print(thislist)"
   ]
  },
  {
   "cell_type": "markdown",
   "metadata": {
    "id": "Bo32BKbHG2Cv"
   },
   "source": [
    "**Remove Specified Index**\n",
    "\n",
    "The pop() method removes the specified index"
   ]
  },
  {
   "cell_type": "code",
   "execution_count": null,
   "metadata": {
    "colab": {
     "base_uri": "https://localhost:8080/"
    },
    "id": "Nae8lWwkGt1x",
    "outputId": "304cb3fd-4bf3-4307-ad68-de1bb3d186e1"
   },
   "outputs": [
    {
     "name": "stdout",
     "output_type": "stream",
     "text": [
      "['apple', 'cherry']\n"
     ]
    }
   ],
   "source": [
    "thislist = [\"apple\", \"banana\", \"cherry\"]\n",
    "thislist.pop(1)\n",
    "print(thislist)"
   ]
  },
  {
   "cell_type": "markdown",
   "metadata": {
    "id": "fTwmRMSXHEaH"
   },
   "source": [
    "If you do not specify the index, the pop() method removes the last item"
   ]
  },
  {
   "cell_type": "code",
   "execution_count": null,
   "metadata": {
    "colab": {
     "base_uri": "https://localhost:8080/"
    },
    "id": "dyhPBsBOG8Pe",
    "outputId": "5479d3d0-fa4b-4fdb-9d7b-4e7f7b7d0152"
   },
   "outputs": [
    {
     "name": "stdout",
     "output_type": "stream",
     "text": [
      "['apple', 'banana']\n"
     ]
    }
   ],
   "source": [
    "thislist = [\"apple\", \"banana\", \"cherry\"]\n",
    "thislist.pop()\n",
    "print(thislist)"
   ]
  },
  {
   "cell_type": "code",
   "execution_count": null,
   "metadata": {
    "colab": {
     "base_uri": "https://localhost:8080/"
    },
    "id": "_0-y7LqEHH72",
    "outputId": "f4c0e22b-3a80-423e-82a1-2429c439f850"
   },
   "outputs": [
    {
     "name": "stdout",
     "output_type": "stream",
     "text": [
      "['banana', 'cherry']\n"
     ]
    }
   ],
   "source": [
    "thislist = [\"apple\", \"banana\", \"cherry\"]\n",
    "del thislist[0]\n",
    "print(thislist)"
   ]
  },
  {
   "cell_type": "code",
   "execution_count": null,
   "metadata": {
    "id": "v8w3f-S5HPzu"
   },
   "outputs": [],
   "source": [
    "thislist = [\"apple\", \"banana\", \"cherry\"]\n",
    "del thislist"
   ]
  },
  {
   "cell_type": "code",
   "execution_count": null,
   "metadata": {
    "colab": {
     "base_uri": "https://localhost:8080/"
    },
    "id": "xeetVkSYHT7d",
    "outputId": "34008913-937f-40f4-ea0b-3a2dc2056ee9"
   },
   "outputs": [
    {
     "name": "stdout",
     "output_type": "stream",
     "text": [
      "[]\n"
     ]
    }
   ],
   "source": [
    "thislist = [\"apple\", \"banana\", \"cherry\"]\n",
    "thislist.clear()\n",
    "print(thislist)"
   ]
  },
  {
   "cell_type": "markdown",
   "metadata": {
    "id": "b2Hb-EmKHcOH"
   },
   "source": [
    "Loop Through a List\n",
    "\n",
    "You can loop through the list items by using a for loop:"
   ]
  },
  {
   "cell_type": "code",
   "execution_count": null,
   "metadata": {
    "colab": {
     "base_uri": "https://localhost:8080/"
    },
    "id": "ihsoWoE8HfMI",
    "outputId": "52f1c426-64dd-4270-8c51-aded19121c45"
   },
   "outputs": [
    {
     "name": "stdout",
     "output_type": "stream",
     "text": [
      "apple\n",
      "banana\n",
      "cherry\n"
     ]
    }
   ],
   "source": [
    "thislist = [\"apple\", \"banana\", \"cherry\"]\n",
    "for x in thislist:\n",
    "  print(x)"
   ]
  },
  {
   "cell_type": "code",
   "execution_count": null,
   "metadata": {
    "colab": {
     "base_uri": "https://localhost:8080/"
    },
    "id": "9K9KQBUIHixe",
    "outputId": "ac1b363e-32c5-498d-f59c-4abd09d4f422"
   },
   "outputs": [
    {
     "name": "stdout",
     "output_type": "stream",
     "text": [
      "apple\n",
      "banana\n",
      "cherry\n"
     ]
    }
   ],
   "source": [
    "thislist = [\"apple\", \"banana\", \"cherry\"]\n",
    "for i in range(len(thislist)):\n",
    "  print(thislist[i])"
   ]
  },
  {
   "cell_type": "code",
   "execution_count": null,
   "metadata": {
    "colab": {
     "base_uri": "https://localhost:8080/"
    },
    "id": "NMA6JoRyHpX_",
    "outputId": "b655439a-9140-4947-8fb4-efa09557f56f"
   },
   "outputs": [
    {
     "name": "stdout",
     "output_type": "stream",
     "text": [
      "apple\n",
      "banana\n",
      "cherry\n"
     ]
    }
   ],
   "source": [
    "thislist = [\"apple\", \"banana\", \"cherry\"]\n",
    "i = 0\n",
    "while i < len(thislist):\n",
    "  print(thislist[i])\n",
    "  i = i + 1"
   ]
  },
  {
   "cell_type": "code",
   "execution_count": null,
   "metadata": {
    "colab": {
     "base_uri": "https://localhost:8080/"
    },
    "id": "4SEgjWwNH3pm",
    "outputId": "44acad39-9d70-4881-c3ae-3e3eac90d5e3"
   },
   "outputs": [
    {
     "name": "stdout",
     "output_type": "stream",
     "text": [
      "apple\n",
      "banana\n",
      "cherry\n"
     ]
    },
    {
     "data": {
      "text/plain": [
       "[None, None, None]"
      ]
     },
     "execution_count": 73,
     "metadata": {},
     "output_type": "execute_result"
    }
   ],
   "source": [
    "thislist = [\"apple\", \"banana\", \"cherry\"]\n",
    "[print(x) for x in thislist]"
   ]
  },
  {
   "cell_type": "markdown",
   "metadata": {
    "id": "Af29w03VITmf"
   },
   "source": [
    "**List Comprehension**"
   ]
  },
  {
   "cell_type": "code",
   "execution_count": null,
   "metadata": {
    "colab": {
     "base_uri": "https://localhost:8080/"
    },
    "id": "P8BN-O-mH8fv",
    "outputId": "9f9544e9-2154-49e0-9cd8-c3c97c1025f7"
   },
   "outputs": [
    {
     "name": "stdout",
     "output_type": "stream",
     "text": [
      "['apple', 'banana', 'mango']\n"
     ]
    }
   ],
   "source": [
    "fruits = [\"apple\", \"banana\", \"cherry\", \"kiwi\", \"mango\"]\n",
    "newlist = []\n",
    "\n",
    "for x in fruits:\n",
    "  if \"a\" in x:\n",
    "    newlist.append(x)\n",
    "\n",
    "print(newlist)"
   ]
  },
  {
   "cell_type": "code",
   "execution_count": null,
   "metadata": {
    "colab": {
     "base_uri": "https://localhost:8080/"
    },
    "id": "WlXJWXHoIQkl",
    "outputId": "4f2c067d-e150-4073-a6ac-8590145beae9"
   },
   "outputs": [
    {
     "name": "stdout",
     "output_type": "stream",
     "text": [
      "['apple', 'banana', 'mango']\n"
     ]
    }
   ],
   "source": [
    "fruits = [\"apple\", \"banana\", \"cherry\", \"kiwi\", \"mango\"]\n",
    "\n",
    "newlist = [x for x in fruits if \"a\" in x]\n",
    "\n",
    "print(newlist)"
   ]
  },
  {
   "cell_type": "markdown",
   "metadata": {
    "id": "l0_kYOdOIj5X"
   },
   "source": [
    "List objects have a sort() method that will sort the list alphanumerically, ascending, by default:"
   ]
  },
  {
   "cell_type": "code",
   "execution_count": null,
   "metadata": {
    "colab": {
     "base_uri": "https://localhost:8080/"
    },
    "id": "QvCBuml6Ibb1",
    "outputId": "f70bb35e-46d4-418d-e722-8557b298a69d"
   },
   "outputs": [
    {
     "name": "stdout",
     "output_type": "stream",
     "text": [
      "['banana', 'kiwi', 'mango', 'orange', 'pineapple']\n"
     ]
    }
   ],
   "source": [
    "thislist = [\"orange\", \"mango\", \"kiwi\", \"pineapple\", \"banana\"]\n",
    "thislist.sort()\n",
    "print(thislist)"
   ]
  },
  {
   "cell_type": "code",
   "execution_count": null,
   "metadata": {
    "colab": {
     "base_uri": "https://localhost:8080/"
    },
    "id": "C7g5QqkqInXO",
    "outputId": "ea2a0344-1402-4597-df0f-88ff6ec69013"
   },
   "outputs": [
    {
     "name": "stdout",
     "output_type": "stream",
     "text": [
      "[23, 50, 65, 82, 100]\n"
     ]
    }
   ],
   "source": [
    "thislist = [100, 50, 65, 82, 23]\n",
    "thislist.sort()\n",
    "print(thislist)"
   ]
  },
  {
   "cell_type": "markdown",
   "metadata": {
    "id": "sPsdfDc5I0Vf"
   },
   "source": [
    "To sort descending, use the keyword argument reverse = True:"
   ]
  },
  {
   "cell_type": "code",
   "execution_count": null,
   "metadata": {
    "colab": {
     "base_uri": "https://localhost:8080/"
    },
    "id": "AlWPOqSxIrsN",
    "outputId": "7288a8e5-b952-4347-f9c6-01fa23bca88e"
   },
   "outputs": [
    {
     "name": "stdout",
     "output_type": "stream",
     "text": [
      "['pineapple', 'orange', 'mango', 'kiwi', 'banana']\n"
     ]
    }
   ],
   "source": [
    "thislist = [\"orange\", \"mango\", \"kiwi\", \"pineapple\", \"banana\"]\n",
    "thislist.sort(reverse = True)\n",
    "print(thislist)"
   ]
  },
  {
   "cell_type": "code",
   "execution_count": null,
   "metadata": {
    "colab": {
     "base_uri": "https://localhost:8080/"
    },
    "id": "j2tqVKNTI29m",
    "outputId": "8c4eeb6a-bacb-4087-fb56-01224b081aa1"
   },
   "outputs": [
    {
     "name": "stdout",
     "output_type": "stream",
     "text": [
      "[100, 82, 65, 50, 23]\n"
     ]
    }
   ],
   "source": [
    "thislist = [100, 50, 65, 82, 23]\n",
    "thislist.sort(reverse = True)\n",
    "print(thislist)"
   ]
  },
  {
   "cell_type": "code",
   "execution_count": null,
   "metadata": {
    "colab": {
     "base_uri": "https://localhost:8080/"
    },
    "id": "SQEt70DMI6Yd",
    "outputId": "12d3e914-374e-440b-89e8-8ef06fc4c91e"
   },
   "outputs": [
    {
     "name": "stdout",
     "output_type": "stream",
     "text": [
      "['apple', 'banana', 'cherry']\n"
     ]
    }
   ],
   "source": [
    "thislist = [\"apple\", \"banana\", \"cherry\"]\n",
    "mylist = thislist.copy()\n",
    "print(mylist)"
   ]
  },
  {
   "cell_type": "code",
   "execution_count": null,
   "metadata": {
    "colab": {
     "base_uri": "https://localhost:8080/"
    },
    "id": "-TIPcnAaJEJm",
    "outputId": "d5f09382-00a6-4b0f-f050-7224aa878092"
   },
   "outputs": [
    {
     "name": "stdout",
     "output_type": "stream",
     "text": [
      "['a', 'b', 'c', 1, 2, 3]\n"
     ]
    }
   ],
   "source": [
    "list1 = [\"a\", \"b\", \"c\"]\n",
    "list2 = [1, 2, 3]\n",
    "\n",
    "list3 = list1 + list2\n",
    "print(list3)"
   ]
  },
  {
   "cell_type": "code",
   "execution_count": null,
   "metadata": {
    "colab": {
     "base_uri": "https://localhost:8080/"
    },
    "id": "BdaEtDYTJG9O",
    "outputId": "2a9c4466-9a02-488e-d97f-0dc4428baeb0"
   },
   "outputs": [
    {
     "name": "stdout",
     "output_type": "stream",
     "text": [
      "['a', 'b', 'c', 1, 2, 3]\n"
     ]
    }
   ],
   "source": [
    "list1 = [\"a\", \"b\" , \"c\"]\n",
    "list2 = [1, 2, 3]\n",
    "\n",
    "for x in list2:\n",
    "  list1.append(x)\n",
    "\n",
    "print(list1)"
   ]
  },
  {
   "cell_type": "code",
   "execution_count": null,
   "metadata": {
    "colab": {
     "base_uri": "https://localhost:8080/"
    },
    "id": "ecLlvyA8JZk1",
    "outputId": "9d640a96-ad83-4f9e-cfde-a77c14e4da52"
   },
   "outputs": [
    {
     "name": "stdout",
     "output_type": "stream",
     "text": [
      "['a', 'b', 'c', 1, 2, 3]\n"
     ]
    }
   ],
   "source": [
    "list1 = [\"a\", \"b\" , \"c\"]\n",
    "list2 = [1, 2, 3]\n",
    "\n",
    "list1.extend(list2)\n",
    "print(list1)"
   ]
  },
  {
   "cell_type": "markdown",
   "metadata": {
    "id": "Eej0auG4JoXL"
   },
   "source": [
    "**Tuple**\n",
    "\n",
    "Tuples are used to store multiple items in a single variable.\n",
    "\n",
    "Tuple is one of 4 built-in data types in Python used to store collections of data, the other 3 are List, Set, and Dictionary, all with different qualities and usage.\n",
    "\n",
    "A tuple is a collection which is ordered and unchangeable.\n",
    "\n",
    "Tuples are written with round brackets."
   ]
  },
  {
   "cell_type": "markdown",
   "metadata": {
    "id": "BRl25wasJ5fN"
   },
   "source": [
    "**Tuple Items**\n",
    "\n",
    "Tuple items are ordered, unchangeable, and allow duplicate values.\n",
    "\n",
    "Tuple items are indexed, the first item has index [0], the second item has index [1] etc.\n",
    "\n",
    "**Ordered**\n",
    "\n",
    "When we say that tuples are ordered, it means that the items have a defined order, and that order will not change.\n",
    "\n",
    "**Unchangeable**\n",
    "\n",
    "Tuples are unchangeable, meaning that we cannot change, add or remove items after the tuple has been created.\n",
    "\n",
    "**Allow Duplicates**\n",
    "\n",
    "Since tuples are indexed, they can have items with the same value:"
   ]
  },
  {
   "cell_type": "code",
   "execution_count": null,
   "metadata": {
    "colab": {
     "base_uri": "https://localhost:8080/"
    },
    "id": "OnFpChTAJdMl",
    "outputId": "3232fc3b-9b17-4d9e-df87-32008f025324"
   },
   "outputs": [
    {
     "name": "stdout",
     "output_type": "stream",
     "text": [
      "('apple', 'banana', 'cherry')\n"
     ]
    }
   ],
   "source": [
    "thistuple = (\"apple\", \"banana\", \"cherry\")\n",
    "print(thistuple)"
   ]
  },
  {
   "cell_type": "code",
   "execution_count": null,
   "metadata": {
    "colab": {
     "base_uri": "https://localhost:8080/"
    },
    "id": "GKn-0qywJxKV",
    "outputId": "ceb3f61b-7780-480a-9c19-b4f51ebd33f7"
   },
   "outputs": [
    {
     "name": "stdout",
     "output_type": "stream",
     "text": [
      "('apple', 'banana', 'cherry', 'apple', 'cherry')\n"
     ]
    }
   ],
   "source": [
    "thistuple = (\"apple\", \"banana\", \"cherry\", \"apple\", \"cherry\")\n",
    "print(thistuple)"
   ]
  },
  {
   "cell_type": "code",
   "execution_count": null,
   "metadata": {
    "colab": {
     "base_uri": "https://localhost:8080/"
    },
    "id": "flRqJpO6M1SQ",
    "outputId": "cc4eab20-ae86-4347-c0ab-f5131cd77e2e"
   },
   "outputs": [
    {
     "name": "stdout",
     "output_type": "stream",
     "text": [
      "3\n"
     ]
    }
   ],
   "source": [
    "thistuple = (\"apple\", \"banana\", \"cherry\")\n",
    "print(len(thistuple))"
   ]
  },
  {
   "cell_type": "code",
   "execution_count": null,
   "metadata": {
    "colab": {
     "base_uri": "https://localhost:8080/"
    },
    "id": "S6AS9HnlM4jh",
    "outputId": "3e79fe32-b6dd-4197-a490-19c742b1f77f"
   },
   "outputs": [
    {
     "name": "stdout",
     "output_type": "stream",
     "text": [
      "<class 'tuple'>\n",
      "<class 'str'>\n"
     ]
    }
   ],
   "source": [
    "thistuple = (\"apple\",)\n",
    "print(type(thistuple))\n",
    "\n",
    "#NOT a tuple\n",
    "thistuple = (\"apple\")\n",
    "print(type(thistuple))\n"
   ]
  },
  {
   "cell_type": "code",
   "execution_count": null,
   "metadata": {
    "colab": {
     "base_uri": "https://localhost:8080/"
    },
    "id": "CrNzIqUINHpq",
    "outputId": "a92b149a-3788-435a-c985-ae16e67f6e73"
   },
   "outputs": [
    {
     "name": "stdout",
     "output_type": "stream",
     "text": [
      "('apple', 'banana', 'cherry')\n",
      "(1, 5, 7, 9, 3)\n",
      "(True, False, False)\n"
     ]
    }
   ],
   "source": [
    "tuple1 = (\"apple\", \"banana\", \"cherry\")\n",
    "tuple2 = (1, 5, 7, 9, 3)\n",
    "tuple3 = (True, False, False)\n",
    "\n",
    "print(tuple1)\n",
    "print(tuple2)\n",
    "print(tuple3)\n"
   ]
  },
  {
   "cell_type": "code",
   "execution_count": null,
   "metadata": {
    "colab": {
     "base_uri": "https://localhost:8080/"
    },
    "id": "AV52rAvlNM22",
    "outputId": "e966e041-3a76-463b-e446-1294138ff409"
   },
   "outputs": [
    {
     "name": "stdout",
     "output_type": "stream",
     "text": [
      "('abc', 34, True, 40, 'male')\n"
     ]
    }
   ],
   "source": [
    "tuple1 = (\"abc\", 34, True, 40, \"male\")\n",
    "\n",
    "print(tuple1)\n"
   ]
  },
  {
   "cell_type": "code",
   "execution_count": null,
   "metadata": {
    "colab": {
     "base_uri": "https://localhost:8080/"
    },
    "id": "lheDjSbuNSb-",
    "outputId": "038b3569-6586-4fd8-b7c3-cbafd2fdadc4"
   },
   "outputs": [
    {
     "name": "stdout",
     "output_type": "stream",
     "text": [
      "<class 'tuple'>\n"
     ]
    }
   ],
   "source": [
    "mytuple = (\"apple\", \"banana\", \"cherry\")\n",
    "print(type(mytuple))"
   ]
  },
  {
   "cell_type": "code",
   "execution_count": null,
   "metadata": {
    "colab": {
     "base_uri": "https://localhost:8080/"
    },
    "id": "So5z2rmjNaMY",
    "outputId": "3110f9ed-ced8-41c1-dad1-2c0639d57d4b"
   },
   "outputs": [
    {
     "name": "stdout",
     "output_type": "stream",
     "text": [
      "('apple', 'banana', 'cherry')\n"
     ]
    }
   ],
   "source": [
    "thistuple = tuple((\"apple\", \"banana\", \"cherry\")) # note the double round-brackets\n",
    "print(thistuple)"
   ]
  },
  {
   "cell_type": "code",
   "execution_count": null,
   "metadata": {
    "colab": {
     "base_uri": "https://localhost:8080/"
    },
    "id": "-hgB4CT_NeQ1",
    "outputId": "cc8337c5-999b-42d2-acfa-e7d8da6d1ed3"
   },
   "outputs": [
    {
     "name": "stdout",
     "output_type": "stream",
     "text": [
      "banana\n"
     ]
    }
   ],
   "source": [
    "thistuple = (\"apple\", \"banana\", \"cherry\")\n",
    "print(thistuple[1])"
   ]
  },
  {
   "cell_type": "code",
   "execution_count": null,
   "metadata": {
    "colab": {
     "base_uri": "https://localhost:8080/"
    },
    "id": "LVglXmR0NkeL",
    "outputId": "fd366f2e-78f3-41be-e5a0-fd8c521aff7f"
   },
   "outputs": [
    {
     "name": "stdout",
     "output_type": "stream",
     "text": [
      "cherry\n"
     ]
    }
   ],
   "source": [
    "thistuple = (\"apple\", \"banana\", \"cherry\")\n",
    "print(thistuple[-1])"
   ]
  },
  {
   "cell_type": "code",
   "execution_count": null,
   "metadata": {
    "colab": {
     "base_uri": "https://localhost:8080/"
    },
    "id": "6ZeizZ8UNoYL",
    "outputId": "65238caf-aeed-4d2a-b503-daf694f1c652"
   },
   "outputs": [
    {
     "name": "stdout",
     "output_type": "stream",
     "text": [
      "('cherry', 'orange', 'kiwi')\n"
     ]
    }
   ],
   "source": [
    "thistuple = (\"apple\", \"banana\", \"cherry\", \"orange\", \"kiwi\", \"melon\", \"mango\")\n",
    "print(thistuple[2:5])"
   ]
  },
  {
   "cell_type": "code",
   "execution_count": null,
   "metadata": {
    "colab": {
     "base_uri": "https://localhost:8080/"
    },
    "id": "i5B2zEeJNtI2",
    "outputId": "9ca281a0-e649-4a1c-f29e-159ad7234219"
   },
   "outputs": [
    {
     "name": "stdout",
     "output_type": "stream",
     "text": [
      "('apple', 'banana', 'cherry', 'orange')\n"
     ]
    }
   ],
   "source": [
    "thistuple = (\"apple\", \"banana\", \"cherry\", \"orange\", \"kiwi\", \"melon\", \"mango\")\n",
    "print(thistuple[:4])"
   ]
  },
  {
   "cell_type": "code",
   "execution_count": null,
   "metadata": {
    "colab": {
     "base_uri": "https://localhost:8080/"
    },
    "id": "rC9hTiL8Nyac",
    "outputId": "d60a66a0-884b-4765-83a0-b1591b0eed37"
   },
   "outputs": [
    {
     "name": "stdout",
     "output_type": "stream",
     "text": [
      "('cherry', 'orange', 'kiwi', 'melon', 'mango')\n"
     ]
    }
   ],
   "source": [
    "thistuple = (\"apple\", \"banana\", \"cherry\", \"orange\", \"kiwi\", \"melon\", \"mango\")\n",
    "print(thistuple[2:])"
   ]
  },
  {
   "cell_type": "code",
   "execution_count": null,
   "metadata": {
    "id": "emDhDNveN4aW"
   },
   "outputs": [],
   "source": []
  },
  {
   "cell_type": "code",
   "execution_count": null,
   "metadata": {
    "id": "koYWfdJXN_F8"
   },
   "outputs": [],
   "source": []
  }
 ],
 "metadata": {
  "colab": {
   "collapsed_sections": [],
   "provenance": []
  },
  "kernelspec": {
   "display_name": "Python 3.10.8 64-bit (microsoft store)",
   "language": "python",
   "name": "python3"
  },
  "language_info": {
   "codemirror_mode": {
    "name": "ipython",
    "version": 3
   },
   "file_extension": ".py",
   "mimetype": "text/x-python",
   "name": "python",
   "nbconvert_exporter": "python",
   "pygments_lexer": "ipython3",
   "version": "3.10.8"
  },
  "vscode": {
   "interpreter": {
    "hash": "77481509cb3f37bc28bedfa1c9c9560347865040c934dd651595de73ba5651cf"
   }
  }
 },
 "nbformat": 4,
 "nbformat_minor": 1
}
